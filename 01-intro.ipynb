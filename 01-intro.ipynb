{
 "cells": [
  {
   "cell_type": "markdown",
   "metadata": {
    "slideshow": {
     "slide_type": "-"
    }
   },
   "source": [
    "# Your first (?) notebook\n",
    "\n",
    "Welcome to this Jupyter notebook! This course will rely heavily on notebooks,\n",
    "so let's make ourselves familiar with it. \n",
    "\n",
    "A notebook is organized in **cells** which can either contain **text** (like this one)\n",
    "written in [markdown](https://www.markdownguide.org/basic-syntax/) or html; \n",
    "or it can contain **code** (we will be using Python, but Jupyter also supports R).\n",
    "The **selected** cell is highlighted with a blue or green border, that is the cell\n",
    "you are currently working on.\n",
    "\n",
    "Text cells support headlines, **bold text**, _italics_, [hyperlinks](https://www.youtube.com/watch?v=dQw4w9WgXcQ),\n",
    "images\n",
    "\n",
    "![Cheese](01-resources/cheese.svg)\n",
    "\n",
    "and many other things.\n",
    "\n",
    "You can recognized code cells by the blue <code style=\"color:blue\">In [...]</code> on the left hand side and the gray background color.\n",
    "Both code cells and text cells can be edited: code cells by clicking on them, text cells\n",
    "by double-clicking on them.\n",
    "\n",
    "> Try double-clicking on this cell to see the markdown code! When you are done, either \n",
    "press `Shift+Enter` or press the `Run` button from the toolbar to convert the markdown\n",
    "back into nicely formatted text.\n",
    "\n",
    "A **code cell** can also be run: Jupyter will execute the Python code written in it! If we\n",
    "use `print()`, the result is display below the cell after execution.\n",
    "\n",
    "> Click on the cell below and run it by either pressing `Shift+Enter` or using the `Run` button in the\n",
    "toolbar.\n"
   ]
  },
  {
   "cell_type": "code",
   "execution_count": 28,
   "metadata": {},
   "outputs": [
    {
     "name": "stdout",
     "output_type": "stream",
     "text": [
      "Hello Jupyter\n"
     ]
    }
   ],
   "source": [
    "print(\"Hello Jupyter\")"
   ]
  },
  {
   "cell_type": "markdown",
   "metadata": {},
   "source": [
    "Beside using `print()`, Jupyter conveniently displays the result of the last operation. \n",
    "That can be the result of an operation or the return value of a function. Run the following\n",
    "simple example:"
   ]
  },
  {
   "cell_type": "code",
   "execution_count": 21,
   "metadata": {
    "scrolled": true
   },
   "outputs": [
    {
     "data": {
      "text/plain": [
       "15"
      ]
     },
     "execution_count": 21,
     "metadata": {},
     "output_type": "execute_result"
    }
   ],
   "source": [
    "10 + 5"
   ]
  },
  {
   "cell_type": "markdown",
   "metadata": {},
   "source": [
    "The above should produce an **output cell** which you can recognize by the red <code style=\"color:red\">Out [...]</code>. Output cells cannot be edited directly. Before we continue, I suggest you run the following cell containing\n",
    "some CSS formatting that modifies the notebooks appearance, I think it makes it more readable\n",
    "(if you don't like it, refresh this page and it will be back to normal)."
   ]
  },
  {
   "cell_type": "code",
   "execution_count": 30,
   "metadata": {},
   "outputs": [
    {
     "data": {
      "text/html": [
       "<style>\n",
       "h1 { margin-top: 3em !important; }\n",
       "h2 { margin-top: 2em !important; }\n",
       "#notebook-container { \n",
       "    width: 50% !important; \n",
       "    min-width: 800px;\n",
       "}\n",
       "</style>\n"
      ],
      "text/plain": [
       "<IPython.core.display.HTML object>"
      ]
     },
     "metadata": {},
     "output_type": "display_data"
    }
   ],
   "source": [
    "%%html\n",
    "<style>\n",
    "h1 { margin-top: 3em !important; }\n",
    "h2 { margin-top: 2em !important; }\n",
    "#notebook-container { \n",
    "    width: 50% !important; \n",
    "    min-width: 800px;\n",
    "}\n",
    "</style>"
   ]
  },
  {
   "cell_type": "markdown",
   "metadata": {},
   "source": [
    "## Adding, deleting, and moving cells\n",
    "\n",
    "You can **add** new cells either by pressing `Alt+Return`, which runs the current cell and\n",
    "creates a new cell below it, or by using the option `Insert` in the top menu, or by using the `+` button in the toolbar.\n",
    "\n",
    "You can **cut** a cell by using the `✂` button in the toolbar or by using the option `Edit > Cut Cells` in the menu and **paste** it using the toolbar or the option `Edit > Paste Cells Above/Below`.\n",
    "\n",
    "If you only want to move a cell up or down, use the toolbar buttons `↑` and `↓`, or the menu\n",
    "option `Edit > Move Cell Up/Down`.\n",
    "\n",
    "Finally, you can delete a cell by using the menu option `Edit > Delete Cells`.\n",
    "\n",
    "> Try to add a cell and then delete it."
   ]
  },
  {
   "cell_type": "markdown",
   "metadata": {},
   "source": [
    "## Renaming your notebook and saving it\n",
    "\n",
    "You can change the name of your notebook (which also is the filename it is\n",
    "stored under with the extension `.ipynb`) by clicking on the **title** in the\n",
    "top bar, just to the right of the Jupyter logo. This notebook is titled `01-intro`.\n",
    "\n",
    "Changed are not stored automatically, you need to save by hand: either press the \n",
    "save icon `💾` in the toolbar, press `Ctrl+S`, or use the menu `File > Save and Checkpoint`."
   ]
  },
  {
   "cell_type": "markdown",
   "metadata": {},
   "source": [
    "# Programming in Jupyter\n",
    "\n",
    "Programming Python in Jupyter works similar to programming in any IDE, however, we \n",
    "only have a single file to work with&mdash;the notebook. Notebook are *not* for writing standalone python programs, they are for **prototyping** and **exploratory data analysis**."
   ]
  },
  {
   "cell_type": "markdown",
   "metadata": {},
   "source": [
    "## Code cells: shared state\n",
    "\n",
    "One of the central concepts of code cells is that the variables defined in one\n",
    "cell are **visible** to the other code cells. That means that we compute something\n",
    "in one cell and then use it in another! \n",
    "\n",
    "Let us see an example. In the cell below, we define a variable `a` and assign a value\n",
    "to it. \n",
    "\n",
    "> Run the cell below"
   ]
  },
  {
   "cell_type": "code",
   "execution_count": 40,
   "metadata": {},
   "outputs": [],
   "source": [
    "# Let us call this cell `Cell A`\n",
    "a = 42"
   ]
  },
  {
   "cell_type": "markdown",
   "metadata": {},
   "source": [
    "If you ran the above, the variable `a` and its value are now available in other cells!\n",
    "\n",
    "> Run the cell below"
   ]
  },
  {
   "cell_type": "code",
   "execution_count": 43,
   "metadata": {},
   "outputs": [
    {
     "name": "stdout",
     "output_type": "stream",
     "text": [
      "The value of a is 101\n"
     ]
    }
   ],
   "source": [
    "# Let us call this cell `Cell B`\n",
    "print(\"The value of a is\", a)"
   ]
  },
  {
   "cell_type": "markdown",
   "metadata": {},
   "source": [
    "This feature is very useful but can lead to some confusion, because the **order** in\n",
    "which we executed the cells is important! You can see in which order the cells were \n",
    "run by the number in square brackets just left of it. The highest number was run last,\n",
    "the lowest first. \n",
    "\n",
    "Let's change the value of `a` in a different cell and then re-run the cell above us.\n",
    "\n",
    "> Run the `Cell C` below, then run `Cell B` above. Then run `Cell A` and `Cell B`. \n",
    "Notice how the value of `a` changes, depending on the order of execution!\n"
   ]
  },
  {
   "cell_type": "code",
   "execution_count": 44,
   "metadata": {},
   "outputs": [],
   "source": [
    "# Let us call this cell `Cell C`\n",
    "a = 101"
   ]
  },
  {
   "cell_type": "markdown",
   "metadata": {},
   "source": [
    "You should program your notebook so that cells are executed in the order they appear (from top to bottom). \n",
    "\n",
    "<b style=\"color:red\">Making a code cell dependent on a code cell that appears below it is very bad style!</b>"
   ]
  },
  {
   "cell_type": "markdown",
   "metadata": {},
   "source": [
    "## Using python libraries\n",
    "\n",
    "You can use any python libraries installed on the system! The libraries that we will\n",
    "use extensively in this lecture should already be installed here. Run the following\n",
    "code cells, it should not result in any errors:"
   ]
  },
  {
   "cell_type": "code",
   "execution_count": 68,
   "metadata": {},
   "outputs": [
    {
     "data": {
      "image/png": "[encoded data removed]",
      "text/plain": [
       "<Figure size 720x288 with 2 Axes>"
      ]
     },
     "metadata": {
      "needs_background": "light"
     },
     "output_type": "display_data"
    }
   ],
   "source": [
    "import numpy as np\n",
    "import pandas as pd\n",
    "import matplotlib.pyplot as plt\n",
    "\n",
    "df = pd.read_csv('01-resources/world-happiness-2015.csv')\n",
    "\n",
    "t = np.arange(0.0, 2.0, 0.01)\n",
    "sine = np.sin(2*np.pi*t)\n",
    "\n",
    "fig, (ax1, ax2) = plt.subplots(2, figsize=(10,4))\n",
    "ax1.plot(t, sine)\n",
    "ax2.plot(df['Family'])\n",
    "ax2.plot(df['Generosity'])\n",
    "pass"
   ]
  },
  {
   "cell_type": "markdown",
   "metadata": {},
   "source": [
    "# Some final notes\n",
    "\n",
    "Jupyter has a lot of keyboard shortcuts which you can check out in the `Help` menu.\n",
    "In the same menu you can also find as short tour of the user interface which contains\n",
    "a few points we did not get into here (it takes a minute or so to run it, I recommend doing\n",
    "it now).\n",
    "\n",
    "> If you are done with this introduction, open the notebook `01-cheese`!"
   ]
  },
  {
   "cell_type": "markdown",
   "metadata": {},
   "source": []
  }
 ],
 "metadata": {
  "kernelspec": {
   "display_name": "Python 3",
   "language": "python",
   "name": "python3"
  },
  "language_info": {
   "codemirror_mode": {
    "name": "ipython",
    "version": 3
   },
   "file_extension": ".py",
   "mimetype": "text/x-python",
   "name": "python",
   "nbconvert_exporter": "python",
   "pygments_lexer": "ipython3",
   "version": "3.7.2"
  }
 },
 "nbformat": 4,
 "nbformat_minor": 2
}
