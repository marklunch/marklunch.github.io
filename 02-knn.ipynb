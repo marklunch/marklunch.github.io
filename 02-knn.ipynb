{
 "cells": [
  {
   "cell_type": "markdown",
   "metadata": {},
   "source": [
    "Please complete the notebook `02-functions.ipynb` before starting this one.\n",
    "\n",
    "Before we start, run the code cell below for a nicer layout."
   ]
  },
  {
   "cell_type": "code",
   "execution_count": 1,
   "metadata": {},
   "outputs": [
    {
     "data": {
      "text/html": [
       "<style>\n",
       "h1 { margin-top: 3em !important; }\n",
       "h2 { margin-top: 2em !important; }\n",
       "#notebook-container { \n",
       "    width: 50% !important; \n",
       "    min-width: 800px;\n",
       "}\n",
       "</style>\n"
      ],
      "text/plain": [
       "<IPython.core.display.HTML object>"
      ]
     },
     "metadata": {},
     "output_type": "display_data"
    }
   ],
   "source": [
    "%%html\n",
    "<style>\n",
    "h1 { margin-top: 3em !important; }\n",
    "h2 { margin-top: 2em !important; }\n",
    "#notebook-container { \n",
    "    width: 50% !important; \n",
    "    min-width: 800px;\n",
    "}\n",
    "</style>"
   ]
  },
  {
   "cell_type": "markdown",
   "metadata": {},
   "source": [
    "<h1>Book classifications with kNN</h1>\n",
    "\n",
    "We continue with our artificial book dataset. In class we saw how a distance metric (in this case over the two rating columns `old` and `young`) can be used to <i>cluster</i> books. In our example, those clusters reflected the underlying genre of the books pretty well.\n",
    "\n",
    "There is a related task in data analysis: the <i>classification</i> of data according using an already existing dataset. The <i>classes</i> in our dataset are the six genres (fantasy, sci-fi, comics, horror, romance, history) and the <i>features</i> are the ratings. The classification task in our case can be summarized as follows:\n",
    "\n",
    "> Given a rating pair (`old`,`young`) of a book that is not in our database, decide a genre classification using the existing dataset.\n",
    "\n",
    "Again, the notion of a <i>distance</i> or <i>metric</i> is the key to solve this task: the idea is that we can deduce the genre of a book by looking at books that have similar (close) ratings. Let us call the\n",
    "book whose genre we want to determine the <i>query</i>. A $k$NN-classifier finds the $k$ points closest of the query and decides the label (genre) of the query depending on the labels (genres) it sees among those $k$ entries of our dataset. The simplest decision algorithm here is a <b>majority vote</b>: we assign the genre that appears the most time among those $k$ neighbours.\n",
    "\n",
    "The task in the notebook is to implement this kind of classifier!\n",
    "\n",
    "Let's load the dataset first:"
   ]
  },
  {
   "cell_type": "code",
   "execution_count": null,
   "metadata": {},
   "outputs": [],
   "source": [
    "# Copy your solution from `02-functions.ipynb` to load the \n",
    "# book dataset. Make sure that this notebook (`02-knn.ipynb`) is\n",
    "# located in the same folder as `02-functions.ipynb`.\n",
    "# Don't forget to import pandas!\n",
    "books = ... # TODO!"
   ]
  },
  {
   "cell_type": "markdown",
   "metadata": {},
   "source": [
    "We will again use the Euclidean distance between book ratings. Import your implementation of `rating_dist` from Task 4 in `02-functions.ipynb` and put it in the next cell:"
   ]
  },
  {
   "cell_type": "code",
   "execution_count": null,
   "metadata": {},
   "outputs": [],
   "source": [
    "# Put your implementation of `rating_dist` here and run the cell"
   ]
  },
  {
   "cell_type": "markdown",
   "metadata": {},
   "source": [
    "Let us first implement a few useful methods to work with the `books` dataset. For simplicity we reference `books` as a global variable and do not pass it as a parameter to the function.\n",
    "\n",
    "> Implement a method `find_genres(...)` that takes a list of indices and\n",
    "returns the genres of each index in a list.\n",
    "\n",
    "Your implementation should pass the tests in the subsequent cell."
   ]
  },
  {
   "cell_type": "code",
   "execution_count": null,
   "metadata": {},
   "outputs": [],
   "source": [
    "def find_genres(indices):\n",
    "    \"\"\" Return the genres of the books corresponding to the\n",
    "    indices in the `books` database. \"\"\"\n",
    "    # TODO"
   ]
  },
  {
   "cell_type": "code",
   "execution_count": null,
   "metadata": {},
   "outputs": [],
   "source": [
    "assert find_genres([0,1,2]) == ['fantasy', 'sci-fi', 'comics']\n",
    "assert find_genres([42,144,50]) == ['history', 'romance', 'comics']\n",
    "''.join([chr(ord(s)-1) for s in 'Fwfszuijoh(t!gjof'])"
   ]
  },
  {
   "cell_type": "code",
   "execution_count": 3,
   "metadata": {},
   "outputs": [
    {
     "ename": "SyntaxError",
     "evalue": "invalid syntax (<ipython-input-3-ec6087ad3683>, line 1)",
     "output_type": "error",
     "traceback": [
      "\u001b[1;36m  File \u001b[1;32m\"<ipython-input-3-ec6087ad3683>\"\u001b[1;36m, line \u001b[1;32m1\u001b[0m\n\u001b[1;33m    .join([chr(ord(s)-1) for s in 'Fwfszuijoh(t!gjof'])\u001b[0m\n\u001b[1;37m    ^\u001b[0m\n\u001b[1;31mSyntaxError\u001b[0m\u001b[1;31m:\u001b[0m invalid syntax\n"
     ]
    }
   ],
   "source": [
    ".join([chr(ord(s)-1) for s in 'Fwfszuijoh(t!gjof'])"
   ]
  },
  {
   "cell_type": "markdown",
   "metadata": {},
   "source": [
    "As a first step, we implement a function that returns the $k$ nearest neighbours to a given query. This is similar to what you implemented in Task 5 of `02-functions.ipynb`, however, the query is a whole row of `books` (not just the rating). You should first figure out how to extract the ratings from the row.\n",
    "\n",
    "> Implement the method `neighbours(...)` in the cell below. The exact functionality is described in the comment."
   ]
  },
  {
   "cell_type": "code",
   "execution_count": null,
   "metadata": {},
   "outputs": [],
   "source": [
    "def neighbours(rating, k):\n",
    "    \"\"\"\n",
    "        Returns the k nearest neighbours of the query `rating` as\n",
    "        a list of tupels (dist, i) where i is the index of the \n",
    "        corresponding row in `books` and dist is the computed distance\n",
    "        to the query.\n",
    "        The list is sorted by the first entry of the tuple \n",
    "        (from near to far).\n",
    "    \"\"\"\n",
    "    # TODO"
   ]
  },
  {
   "cell_type": "code",
   "execution_count": null,
   "metadata": {},
   "outputs": [],
   "source": [
    "res = neighbours(books.loc[1][['old','young']], 10)\n",
    "assert find_genres([i for _,i in res]) == ['sci-fi']*10\n",
    "\n",
    "res = neighbours((30,30), 5)\n",
    "assert find_genres([i for _,i in res]) == ['fantasy', 'fantasy', 'sci-fi', 'fantasy', 'horror']"
   ]
  },
  {
   "cell_type": "markdown",
   "metadata": {},
   "source": [
    "Now can put the pieces together: for a given query, we can compute the $k$ nearest neighbours and compute return the genre that appears the most among those neighbours.\n",
    "\n",
    "> Implement the function `classify_majority` according to the specification in the comment below."
   ]
  },
  {
   "cell_type": "code",
   "execution_count": null,
   "metadata": {},
   "outputs": [],
   "source": [
    "from collections import Counter\n",
    "\n",
    "def classify_majority(query, k):\n",
    "    \"\"\"\n",
    "        Returns the majority genre among the k nearest neighbours\n",
    "        of `query`. The parameter `query` contains the `old` rating\n",
    "        in the first coordinate `query[0]` and the `young` rating\n",
    "        in the second coordinate `query[1]`.\n",
    "    \"\"\"\n",
    "    pass"
   ]
  },
  {
   "cell_type": "markdown",
   "metadata": {},
   "source": [
    "If you completed the implementation of `classify_majority`, the next cell will output a coloured plot of the books (small plus-shaped markers) alongside a set of queries (big round markers) as classified by your implementation. Try changing the queries\n",
    "and the value of `k` and see how the plot changes."
   ]
  },
  {
   "cell_type": "code",
   "execution_count": null,
   "metadata": {},
   "outputs": [],
   "source": [
    "import matplotlib.pyplot as plt\n",
    "\n",
    "queries = [(20,20), (50,30), (25,60), (25,62), (58,25), (80, 50)]\n",
    "k = 2\n",
    "\n",
    "fig, ax = plt.subplots(figsize=(8,8))\n",
    "\n",
    "genres = list(books['genre'].unique())\n",
    "colors = \"#cb4b16;#dc322f;#859900;#6c71c4;#268bd2;#2aa198;\".split(';')\n",
    "colmap = dict(zip(genres, colors))\n",
    "for genre, col in colmap.items():\n",
    "    sub = books[books['genre'] == genre]\n",
    "    ax.scatter(sub['old'], sub['young'], label=genre, marker='+', color=col, s=20)\n",
    "    \n",
    "for q in queries:\n",
    "    genre = classify_majority(q, k)\n",
    "    ax.scatter([q[0]], [q[1]], color=colmap[genre], marker='o', s=60)\n",
    "    \n",
    "ax.set_xlim(0,100)\n",
    "ax.set_ylim(0,100)\n",
    "ax.legend()"
   ]
  },
  {
   "cell_type": "code",
   "execution_count": null,
   "metadata": {},
   "outputs": [],
   "source": []
  }
 ],
 "metadata": {
  "kernelspec": {
   "display_name": "Python 3",
   "language": "python",
   "name": "python3"
  },
  "language_info": {
   "codemirror_mode": {
    "name": "ipython",
    "version": 3
   },
   "file_extension": ".py",
   "mimetype": "text/x-python",
   "name": "python",
   "nbconvert_exporter": "python",
   "pygments_lexer": "ipython3",
   "version": "3.7.1"
  }
 },
 "nbformat": 4,
 "nbformat_minor": 2
}
