{
 "cells": [
  {
   "cell_type": "markdown",
   "metadata": {},
   "source": [
    "Before we start, run the code cell below for a nicer layout."
   ]
  },
  {
   "cell_type": "code",
   "execution_count": 1,
   "metadata": {},
   "outputs": [
    {
     "data": {
      "text/html": [
       "<style>\n",
       "h1 { margin-top: 3em !important; }\n",
       "h2 { margin-top: 2em !important; }\n",
       "#notebook-container { \n",
       "    width: 50% !important; \n",
       "    min-width: 800px;\n",
       "}\n",
       "</style>"
      ],
      "text/plain": [
       "<IPython.core.display.HTML object>"
      ]
     },
     "metadata": {},
     "output_type": "display_data"
    }
   ],
   "source": [
    "%%html\n",
    "<style>\n",
    "h1 { margin-top: 3em !important; }\n",
    "h2 { margin-top: 2em !important; }\n",
    "#notebook-container { \n",
    "    width: 50% !important; \n",
    "    min-width: 800px;\n",
    "}\n",
    "</style>"
   ]
  },
  {
   "cell_type": "markdown",
   "metadata": {},
   "source": [
    "<h1>Pandas</h1>\n",
    "\n",
    "Today we will learn about `pandas`, a Python library to load and manipulate datasets. We will begin by <i>importing</i> the pandas\n",
    "library. Importing means that the Python interpreter loads all the code associated with that library into memory and lets us use the methods, data structures, and variables contained in it. The syntax is as follows"
   ]
  },
  {
   "cell_type": "code",
   "execution_count": 2,
   "metadata": {},
   "outputs": [],
   "source": [
    "import pandas as pd"
   ]
  },
  {
   "cell_type": "markdown",
   "metadata": {},
   "source": [
    "The above imports pandas and assigns the name `pd` to it. If we leave out the `as pd`, we would access the library and all its methods by the name `pandas`, but since we will use it a lot it makes our lives easier to assign a shorthand.\n",
    "\n",
    "Pandas uses two data structures to represent data: `Series` and\n",
    "`DataFrame`. Think of dataframes as a table (like a spreadsheet) and\n",
    "series as columns or rows. Let us load a portion of a dataset from a &lsquo;comma-separated value&rsquo; (csv) file:"
   ]
  },
  {
   "cell_type": "code",
   "execution_count": 3,
   "metadata": {},
   "outputs": [
    {
     "data": {
      "text/html": [
       "<div>\n",
       "<style scoped>\n",
       "    .dataframe tbody tr th:only-of-type {\n",
       "        vertical-align: middle;\n",
       "    }\n",
       "\n",
       "    .dataframe tbody tr th {\n",
       "        vertical-align: top;\n",
       "    }\n",
       "\n",
       "    .dataframe thead th {\n",
       "        text-align: right;\n",
       "    }\n",
       "</style>\n",
       "<table border=\"1\" class=\"dataframe\">\n",
       "  <thead>\n",
       "    <tr style=\"text-align: right;\">\n",
       "      <th></th>\n",
       "      <th>author</th>\n",
       "      <th>title</th>\n",
       "      <th>genre</th>\n",
       "      <th>isbn</th>\n",
       "      <th>old</th>\n",
       "      <th>young</th>\n",
       "    </tr>\n",
       "  </thead>\n",
       "  <tbody>\n",
       "    <tr>\n",
       "      <th>0</th>\n",
       "      <td>Aaron Stephens</td>\n",
       "      <td>The secret of the azure orcs</td>\n",
       "      <td>fantasy</td>\n",
       "      <td>0-560-22625-X</td>\n",
       "      <td>35</td>\n",
       "      <td>40</td>\n",
       "    </tr>\n",
       "    <tr>\n",
       "      <th>1</th>\n",
       "      <td>Laura Lambert</td>\n",
       "      <td>War of the crimson comets</td>\n",
       "      <td>sci-fi</td>\n",
       "      <td>0-477-61096-X</td>\n",
       "      <td>6</td>\n",
       "      <td>43</td>\n",
       "    </tr>\n",
       "    <tr>\n",
       "      <th>2</th>\n",
       "      <td>Jessica Johnson</td>\n",
       "      <td>The amazing Bug-Man</td>\n",
       "      <td>comics</td>\n",
       "      <td>1-82415-269-8</td>\n",
       "      <td>5</td>\n",
       "      <td>88</td>\n",
       "    </tr>\n",
       "    <tr>\n",
       "      <th>3</th>\n",
       "      <td>Keith Jones</td>\n",
       "      <td>The poltergeist will come back</td>\n",
       "      <td>horror</td>\n",
       "      <td>0-212-12934-1</td>\n",
       "      <td>26</td>\n",
       "      <td>22</td>\n",
       "    </tr>\n",
       "    <tr>\n",
       "      <th>4</th>\n",
       "      <td>Megan Jones</td>\n",
       "      <td>October roses</td>\n",
       "      <td>romance</td>\n",
       "      <td>1-397-92386-5</td>\n",
       "      <td>62</td>\n",
       "      <td>51</td>\n",
       "    </tr>\n",
       "    <tr>\n",
       "      <th>5</th>\n",
       "      <td>Ryan Smith</td>\n",
       "      <td>Puerto Rico after 1660</td>\n",
       "      <td>history</td>\n",
       "      <td>0-16-028219-5</td>\n",
       "      <td>86</td>\n",
       "      <td>8</td>\n",
       "    </tr>\n",
       "    <tr>\n",
       "      <th>6</th>\n",
       "      <td>Chad Avila</td>\n",
       "      <td>Clash of the flaming angels</td>\n",
       "      <td>sci-fi</td>\n",
       "      <td>0-221-35354-2</td>\n",
       "      <td>1</td>\n",
       "      <td>42</td>\n",
       "    </tr>\n",
       "    <tr>\n",
       "      <th>7</th>\n",
       "      <td>Michael Green</td>\n",
       "      <td>The Ayers mystery</td>\n",
       "      <td>sci-fi</td>\n",
       "      <td>1-338-55554-5</td>\n",
       "      <td>12</td>\n",
       "      <td>51</td>\n",
       "    </tr>\n",
       "    <tr>\n",
       "      <th>8</th>\n",
       "      <td>Linda Olson</td>\n",
       "      <td>The case of the deadly corpses</td>\n",
       "      <td>horror</td>\n",
       "      <td>1-4456-8709-7</td>\n",
       "      <td>22</td>\n",
       "      <td>24</td>\n",
       "    </tr>\n",
       "    <tr>\n",
       "      <th>9</th>\n",
       "      <td>Deborah Holmes</td>\n",
       "      <td>The Tommyknocker will rise</td>\n",
       "      <td>horror</td>\n",
       "      <td>1-77314-904-0</td>\n",
       "      <td>15</td>\n",
       "      <td>23</td>\n",
       "    </tr>\n",
       "    <tr>\n",
       "      <th>10</th>\n",
       "      <td>Rebecca Strickland</td>\n",
       "      <td>The mystery of the yellow corpses</td>\n",
       "      <td>horror</td>\n",
       "      <td>0-571-35201-4</td>\n",
       "      <td>19</td>\n",
       "      <td>28</td>\n",
       "    </tr>\n",
       "    <tr>\n",
       "      <th>11</th>\n",
       "      <td>Chelsea Rogers</td>\n",
       "      <td>The yellow king's agenda</td>\n",
       "      <td>horror</td>\n",
       "      <td>1-61728-059-3</td>\n",
       "      <td>23</td>\n",
       "      <td>7</td>\n",
       "    </tr>\n",
       "    <tr>\n",
       "      <th>12</th>\n",
       "      <td>Kimberly Harrison</td>\n",
       "      <td>The adventures of sherrif Katelyn</td>\n",
       "      <td>comics</td>\n",
       "      <td>0-7622-6531-0</td>\n",
       "      <td>9</td>\n",
       "      <td>75</td>\n",
       "    </tr>\n",
       "    <tr>\n",
       "      <th>13</th>\n",
       "      <td>Jonathan Nichols</td>\n",
       "      <td>Before 1510</td>\n",
       "      <td>history</td>\n",
       "      <td>1-63616-149-9</td>\n",
       "      <td>98</td>\n",
       "      <td>29</td>\n",
       "    </tr>\n",
       "    <tr>\n",
       "      <th>14</th>\n",
       "      <td>Tonya Tanner</td>\n",
       "      <td>Amber Townsend: Complete works</td>\n",
       "      <td>history</td>\n",
       "      <td>1-4288-4072-9</td>\n",
       "      <td>94</td>\n",
       "      <td>16</td>\n",
       "    </tr>\n",
       "    <tr>\n",
       "      <th>15</th>\n",
       "      <td>Alexander Hall</td>\n",
       "      <td>The latest adventures of cowboy James</td>\n",
       "      <td>comics</td>\n",
       "      <td>1-78847-115-6</td>\n",
       "      <td>14</td>\n",
       "      <td>78</td>\n",
       "    </tr>\n",
       "    <tr>\n",
       "      <th>16</th>\n",
       "      <td>Daniel Johnson</td>\n",
       "      <td>Azrael's method</td>\n",
       "      <td>horror</td>\n",
       "      <td>0-14-607113-1</td>\n",
       "      <td>21</td>\n",
       "      <td>20</td>\n",
       "    </tr>\n",
       "    <tr>\n",
       "      <th>17</th>\n",
       "      <td>Jason Gordon</td>\n",
       "      <td>The adventures of astronaut Jamie</td>\n",
       "      <td>comics</td>\n",
       "      <td>1-319-19990-9</td>\n",
       "      <td>7</td>\n",
       "      <td>76</td>\n",
       "    </tr>\n",
       "    <tr>\n",
       "      <th>18</th>\n",
       "      <td>Tina Berry</td>\n",
       "      <td>Coup on Alpha-6</td>\n",
       "      <td>sci-fi</td>\n",
       "      <td>1-4841-5956-X</td>\n",
       "      <td>10</td>\n",
       "      <td>45</td>\n",
       "    </tr>\n",
       "    <tr>\n",
       "      <th>19</th>\n",
       "      <td>Dawn Reed</td>\n",
       "      <td>The conflict of orcs</td>\n",
       "      <td>fantasy</td>\n",
       "      <td>1-00-958818-4</td>\n",
       "      <td>28</td>\n",
       "      <td>15</td>\n",
       "    </tr>\n",
       "  </tbody>\n",
       "</table>\n",
       "</div>"
      ],
      "text/plain": [
       "                author                                  title    genre  \\\n",
       "0       Aaron Stephens           The secret of the azure orcs  fantasy   \n",
       "1        Laura Lambert              War of the crimson comets   sci-fi   \n",
       "2      Jessica Johnson                    The amazing Bug-Man   comics   \n",
       "3          Keith Jones         The poltergeist will come back   horror   \n",
       "4          Megan Jones                          October roses  romance   \n",
       "5           Ryan Smith                 Puerto Rico after 1660  history   \n",
       "6           Chad Avila            Clash of the flaming angels   sci-fi   \n",
       "7        Michael Green                      The Ayers mystery   sci-fi   \n",
       "8          Linda Olson         The case of the deadly corpses   horror   \n",
       "9       Deborah Holmes             The Tommyknocker will rise   horror   \n",
       "10  Rebecca Strickland      The mystery of the yellow corpses   horror   \n",
       "11      Chelsea Rogers               The yellow king's agenda   horror   \n",
       "12   Kimberly Harrison      The adventures of sherrif Katelyn   comics   \n",
       "13    Jonathan Nichols                            Before 1510  history   \n",
       "14        Tonya Tanner         Amber Townsend: Complete works  history   \n",
       "15      Alexander Hall  The latest adventures of cowboy James   comics   \n",
       "16      Daniel Johnson                        Azrael's method   horror   \n",
       "17        Jason Gordon      The adventures of astronaut Jamie   comics   \n",
       "18          Tina Berry                        Coup on Alpha-6   sci-fi   \n",
       "19           Dawn Reed                   The conflict of orcs  fantasy   \n",
       "\n",
       "             isbn  old  young  \n",
       "0   0-560-22625-X   35     40  \n",
       "1   0-477-61096-X    6     43  \n",
       "2   1-82415-269-8    5     88  \n",
       "3   0-212-12934-1   26     22  \n",
       "4   1-397-92386-5   62     51  \n",
       "5   0-16-028219-5   86      8  \n",
       "6   0-221-35354-2    1     42  \n",
       "7   1-338-55554-5   12     51  \n",
       "8   1-4456-8709-7   22     24  \n",
       "9   1-77314-904-0   15     23  \n",
       "10  0-571-35201-4   19     28  \n",
       "11  1-61728-059-3   23      7  \n",
       "12  0-7622-6531-0    9     75  \n",
       "13  1-63616-149-9   98     29  \n",
       "14  1-4288-4072-9   94     16  \n",
       "15  1-78847-115-6   14     78  \n",
       "16  0-14-607113-1   21     20  \n",
       "17  1-319-19990-9    7     76  \n",
       "18  1-4841-5956-X   10     45  \n",
       "19  1-00-958818-4   28     15  "
      ]
     },
     "execution_count": 3,
     "metadata": {},
     "output_type": "execute_result"
    }
   ],
   "source": [
    "books_small = pd.read_csv(\"02-resources/books.csv\", index_col=0, nrows=20)\n",
    "books_small.head(50) # Display first five entries"
   ]
  },
  {
   "cell_type": "markdown",
   "metadata": {},
   "source": [
    "As you can see, jupyter displays pandas dataframes as nice tables.\n",
    "The numbers in the leftmost column are the <b>index</b> of the table. The index can be a series of number (like here) but it can also contain strings. We can retrieve the index from a dataframe as follows:"
   ]
  },
  {
   "cell_type": "code",
   "execution_count": 4,
   "metadata": {},
   "outputs": [
    {
     "data": {
      "text/plain": [
       "Int64Index([0, 1, 2, 3, 4, 5, 6, 7, 8, 9, 10, 11, 12, 13, 14, 15, 16, 17, 18,\n",
       "            19],\n",
       "           dtype='int64')"
      ]
     },
     "execution_count": 4,
     "metadata": {},
     "output_type": "execute_result"
    }
   ],
   "source": [
    "books_small.index"
   ]
  },
  {
   "cell_type": "markdown",
   "metadata": {},
   "source": [
    "This data structure acts pretty much like a python list: we can iterate over it using a `for` loop and access individual items by their position (which is more interesting when the index does not contain sequential numbers)."
   ]
  },
  {
   "cell_type": "code",
   "execution_count": 5,
   "metadata": {},
   "outputs": [
    {
     "name": "stdout",
     "output_type": "stream",
     "text": [
      "Fifth element is not: 19\n",
      "0\n",
      "1\n",
      "2\n",
      "3\n",
      "4\n"
     ]
    }
   ],
   "source": [
    "print(\"Fifth element is not:\", books_small.index[19])\n",
    "for x in books_small.index[0:5]: # Slices also work!\n",
    "    print(x)"
   ]
  },
  {
   "cell_type": "markdown",
   "metadata": {},
   "source": [
    "To see how big the dataset is, we can simply use the trusty `len` function:"
   ]
  },
  {
   "cell_type": "code",
   "execution_count": 6,
   "metadata": {},
   "outputs": [
    {
     "data": {
      "text/plain": [
       "20"
      ]
     },
     "execution_count": 6,
     "metadata": {},
     "output_type": "execute_result"
    }
   ],
   "source": [
    "len(books_small)"
   ]
  },
  {
   "cell_type": "markdown",
   "metadata": {},
   "source": [
    "Alternatively, we can look at the end of the dataframe to see how many rows it has:"
   ]
  },
  {
   "cell_type": "code",
   "execution_count": 7,
   "metadata": {
    "scrolled": true
   },
   "outputs": [
    {
     "data": {
      "text/html": [
       "<div>\n",
       "<style scoped>\n",
       "    .dataframe tbody tr th:only-of-type {\n",
       "        vertical-align: middle;\n",
       "    }\n",
       "\n",
       "    .dataframe tbody tr th {\n",
       "        vertical-align: top;\n",
       "    }\n",
       "\n",
       "    .dataframe thead th {\n",
       "        text-align: right;\n",
       "    }\n",
       "</style>\n",
       "<table border=\"1\" class=\"dataframe\">\n",
       "  <thead>\n",
       "    <tr style=\"text-align: right;\">\n",
       "      <th></th>\n",
       "      <th>author</th>\n",
       "      <th>title</th>\n",
       "      <th>genre</th>\n",
       "      <th>isbn</th>\n",
       "      <th>old</th>\n",
       "      <th>young</th>\n",
       "    </tr>\n",
       "  </thead>\n",
       "  <tbody>\n",
       "    <tr>\n",
       "      <th>15</th>\n",
       "      <td>Alexander Hall</td>\n",
       "      <td>The latest adventures of cowboy James</td>\n",
       "      <td>comics</td>\n",
       "      <td>1-78847-115-6</td>\n",
       "      <td>14</td>\n",
       "      <td>78</td>\n",
       "    </tr>\n",
       "    <tr>\n",
       "      <th>16</th>\n",
       "      <td>Daniel Johnson</td>\n",
       "      <td>Azrael's method</td>\n",
       "      <td>horror</td>\n",
       "      <td>0-14-607113-1</td>\n",
       "      <td>21</td>\n",
       "      <td>20</td>\n",
       "    </tr>\n",
       "    <tr>\n",
       "      <th>17</th>\n",
       "      <td>Jason Gordon</td>\n",
       "      <td>The adventures of astronaut Jamie</td>\n",
       "      <td>comics</td>\n",
       "      <td>1-319-19990-9</td>\n",
       "      <td>7</td>\n",
       "      <td>76</td>\n",
       "    </tr>\n",
       "    <tr>\n",
       "      <th>18</th>\n",
       "      <td>Tina Berry</td>\n",
       "      <td>Coup on Alpha-6</td>\n",
       "      <td>sci-fi</td>\n",
       "      <td>1-4841-5956-X</td>\n",
       "      <td>10</td>\n",
       "      <td>45</td>\n",
       "    </tr>\n",
       "    <tr>\n",
       "      <th>19</th>\n",
       "      <td>Dawn Reed</td>\n",
       "      <td>The conflict of orcs</td>\n",
       "      <td>fantasy</td>\n",
       "      <td>1-00-958818-4</td>\n",
       "      <td>28</td>\n",
       "      <td>15</td>\n",
       "    </tr>\n",
       "  </tbody>\n",
       "</table>\n",
       "</div>"
      ],
      "text/plain": [
       "            author                                  title    genre  \\\n",
       "15  Alexander Hall  The latest adventures of cowboy James   comics   \n",
       "16  Daniel Johnson                        Azrael's method   horror   \n",
       "17    Jason Gordon      The adventures of astronaut Jamie   comics   \n",
       "18      Tina Berry                        Coup on Alpha-6   sci-fi   \n",
       "19       Dawn Reed                   The conflict of orcs  fantasy   \n",
       "\n",
       "             isbn  old  young  \n",
       "15  1-78847-115-6   14     78  \n",
       "16  0-14-607113-1   21     20  \n",
       "17  1-319-19990-9    7     76  \n",
       "18  1-4841-5956-X   10     45  \n",
       "19  1-00-958818-4   28     15  "
      ]
     },
     "execution_count": 7,
     "metadata": {},
     "output_type": "execute_result"
    }
   ],
   "source": [
    "books_small.tail(5) # Display last 5 rows of dataframe. "
   ]
  },
  {
   "cell_type": "markdown",
   "metadata": {},
   "source": [
    "<h2>Column names</h2>\n",
    "\n",
    "We can read of the column names in the output above, but of course sometimes we need those names inside our code. The names are store din the member `.columns` of a dataframe:"
   ]
  },
  {
   "cell_type": "code",
   "execution_count": 8,
   "metadata": {},
   "outputs": [
    {
     "data": {
      "text/plain": [
       "Index(['author', 'title', 'genre', 'isbn', 'old', 'young'], dtype='object')"
      ]
     },
     "execution_count": 8,
     "metadata": {},
     "output_type": "execute_result"
    }
   ],
   "source": [
    "books_small.columns"
   ]
  },
  {
   "cell_type": "markdown",
   "metadata": {},
   "source": [
    "The pandas `Index` objects works pretty much like a Python list: we can access individual members by position, use slice notation, and iterate over them using `for` loops:"
   ]
  },
  {
   "cell_type": "code",
   "execution_count": 9,
   "metadata": {},
   "outputs": [
    {
     "data": {
      "text/plain": [
       "'genre'"
      ]
     },
     "metadata": {},
     "output_type": "display_data"
    },
    {
     "data": {
      "text/plain": [
       "Index(['genre', 'isbn', 'old'], dtype='object')"
      ]
     },
     "metadata": {},
     "output_type": "display_data"
    },
    {
     "name": "stdout",
     "output_type": "stream",
     "text": [
      "author\n",
      "title\n",
      "genre\n",
      "isbn\n",
      "old\n",
      "young\n"
     ]
    }
   ],
   "source": [
    "display(books_small.columns[2])\n",
    "display(books_small.columns[2:5])\n",
    "\n",
    "for name in books_small.columns:\n",
    "    print(name)"
   ]
  },
  {
   "cell_type": "markdown",
   "metadata": {},
   "source": [
    "<h2>Selecting columns</h2>\n",
    "\n",
    "We can select individual columns using the respective column names:"
   ]
  },
  {
   "cell_type": "code",
   "execution_count": 10,
   "metadata": {
    "scrolled": true
   },
   "outputs": [
    {
     "data": {
      "text/plain": [
       "0         Aaron Stephens\n",
       "1          Laura Lambert\n",
       "2        Jessica Johnson\n",
       "3            Keith Jones\n",
       "4            Megan Jones\n",
       "5             Ryan Smith\n",
       "6             Chad Avila\n",
       "7          Michael Green\n",
       "8            Linda Olson\n",
       "9         Deborah Holmes\n",
       "10    Rebecca Strickland\n",
       "11        Chelsea Rogers\n",
       "12     Kimberly Harrison\n",
       "13      Jonathan Nichols\n",
       "14          Tonya Tanner\n",
       "15        Alexander Hall\n",
       "16        Daniel Johnson\n",
       "17          Jason Gordon\n",
       "18            Tina Berry\n",
       "19             Dawn Reed\n",
       "Name: author, dtype: object"
      ]
     },
     "execution_count": 10,
     "metadata": {},
     "output_type": "execute_result"
    }
   ],
   "source": [
    "books_small['author'] # Try the other columns 'title', 'genre', etc."
   ]
  },
  {
   "cell_type": "markdown",
   "metadata": {},
   "source": [
    "These columns are `Series` objects and as you can see in the output above, they retain the index from the dataframe. This index is again accessible as the \n",
    "member `.index`."
   ]
  },
  {
   "cell_type": "code",
   "execution_count": 11,
   "metadata": {},
   "outputs": [
    {
     "data": {
      "text/plain": [
       "pandas.core.series.Series"
      ]
     },
     "metadata": {},
     "output_type": "display_data"
    },
    {
     "data": {
      "text/plain": [
       "Int64Index([0, 1, 2, 3, 4, 5, 6, 7, 8, 9, 10, 11, 12, 13, 14, 15, 16, 17, 18,\n",
       "            19],\n",
       "           dtype='int64')"
      ]
     },
     "metadata": {},
     "output_type": "display_data"
    }
   ],
   "source": [
    "display(type(books_small['author']))\n",
    "display(books_small['author'].index)"
   ]
  },
  {
   "cell_type": "markdown",
   "metadata": {},
   "source": [
    "`Series` objects are a lot like Python lists, but they can have an index that is not simply a series of numbers like in our case. The following are some of the possible operations on a `Series` object:"
   ]
  },
  {
   "cell_type": "code",
   "execution_count": 12,
   "metadata": {},
   "outputs": [
    {
     "name": "stdout",
     "output_type": "stream",
     "text": [
      "Second element is Laura Lambert\n",
      "\n",
      "Elements 2 to 4 are\n",
      "2    Jessica Johnson\n",
      "3        Keith Jones\n",
      "4        Megan Jones\n",
      "5         Ryan Smith\n",
      "Name: author, dtype: object\n",
      "\n",
      "Aaron Stephens\n",
      "Laura Lambert\n",
      "Jessica Johnson\n",
      "Keith Jones\n",
      "Megan Jones\n",
      "Ryan Smith\n",
      "Chad Avila\n",
      "Michael Green\n",
      "Linda Olson\n",
      "Deborah Holmes\n",
      "Rebecca Strickland\n",
      "Chelsea Rogers\n",
      "Kimberly Harrison\n",
      "Jonathan Nichols\n",
      "Tonya Tanner\n",
      "Alexander Hall\n",
      "Daniel Johnson\n",
      "Jason Gordon\n",
      "Tina Berry\n",
      "Dawn Reed\n",
      "\n",
      "0\n",
      "1\n",
      "2\n",
      "3\n",
      "4\n",
      "5\n",
      "6\n",
      "7\n",
      "8\n",
      "9\n",
      "10\n",
      "11\n",
      "12\n",
      "13\n",
      "14\n",
      "15\n",
      "16\n",
      "17\n",
      "18\n",
      "19\n"
     ]
    }
   ],
   "source": [
    "col = books_small['author']\n",
    "print(\"Second element is\", col[1])\n",
    "print(\"\")\n",
    "print(\"Elements 2 to 4 are\")\n",
    "print(col[2:6]) # This is a again a series!\n",
    "print(\"\")\n",
    "\n",
    "for s in col: # We can iterate over the values as usual\n",
    "    print(s)\n",
    "print(\"\")\n",
    "    \n",
    "for i in col.index: # We can also iterate over the index\n",
    "    print(i)"
   ]
  },
  {
   "cell_type": "markdown",
   "metadata": {},
   "source": [
    "We can also select a subset of columns of a dataframe. The result is again a dataframe:"
   ]
  },
  {
   "cell_type": "code",
   "execution_count": 13,
   "metadata": {},
   "outputs": [
    {
     "data": {
      "text/html": [
       "<div>\n",
       "<style scoped>\n",
       "    .dataframe tbody tr th:only-of-type {\n",
       "        vertical-align: middle;\n",
       "    }\n",
       "\n",
       "    .dataframe tbody tr th {\n",
       "        vertical-align: top;\n",
       "    }\n",
       "\n",
       "    .dataframe thead th {\n",
       "        text-align: right;\n",
       "    }\n",
       "</style>\n",
       "<table border=\"1\" class=\"dataframe\">\n",
       "  <thead>\n",
       "    <tr style=\"text-align: right;\">\n",
       "      <th></th>\n",
       "      <th>author</th>\n",
       "      <th>genre</th>\n",
       "      <th>isbn</th>\n",
       "    </tr>\n",
       "  </thead>\n",
       "  <tbody>\n",
       "    <tr>\n",
       "      <th>0</th>\n",
       "      <td>Aaron Stephens</td>\n",
       "      <td>fantasy</td>\n",
       "      <td>0-560-22625-X</td>\n",
       "    </tr>\n",
       "    <tr>\n",
       "      <th>1</th>\n",
       "      <td>Laura Lambert</td>\n",
       "      <td>sci-fi</td>\n",
       "      <td>0-477-61096-X</td>\n",
       "    </tr>\n",
       "    <tr>\n",
       "      <th>2</th>\n",
       "      <td>Jessica Johnson</td>\n",
       "      <td>comics</td>\n",
       "      <td>1-82415-269-8</td>\n",
       "    </tr>\n",
       "    <tr>\n",
       "      <th>3</th>\n",
       "      <td>Keith Jones</td>\n",
       "      <td>horror</td>\n",
       "      <td>0-212-12934-1</td>\n",
       "    </tr>\n",
       "    <tr>\n",
       "      <th>4</th>\n",
       "      <td>Megan Jones</td>\n",
       "      <td>romance</td>\n",
       "      <td>1-397-92386-5</td>\n",
       "    </tr>\n",
       "    <tr>\n",
       "      <th>5</th>\n",
       "      <td>Ryan Smith</td>\n",
       "      <td>history</td>\n",
       "      <td>0-16-028219-5</td>\n",
       "    </tr>\n",
       "    <tr>\n",
       "      <th>6</th>\n",
       "      <td>Chad Avila</td>\n",
       "      <td>sci-fi</td>\n",
       "      <td>0-221-35354-2</td>\n",
       "    </tr>\n",
       "    <tr>\n",
       "      <th>7</th>\n",
       "      <td>Michael Green</td>\n",
       "      <td>sci-fi</td>\n",
       "      <td>1-338-55554-5</td>\n",
       "    </tr>\n",
       "    <tr>\n",
       "      <th>8</th>\n",
       "      <td>Linda Olson</td>\n",
       "      <td>horror</td>\n",
       "      <td>1-4456-8709-7</td>\n",
       "    </tr>\n",
       "    <tr>\n",
       "      <th>9</th>\n",
       "      <td>Deborah Holmes</td>\n",
       "      <td>horror</td>\n",
       "      <td>1-77314-904-0</td>\n",
       "    </tr>\n",
       "    <tr>\n",
       "      <th>10</th>\n",
       "      <td>Rebecca Strickland</td>\n",
       "      <td>horror</td>\n",
       "      <td>0-571-35201-4</td>\n",
       "    </tr>\n",
       "    <tr>\n",
       "      <th>11</th>\n",
       "      <td>Chelsea Rogers</td>\n",
       "      <td>horror</td>\n",
       "      <td>1-61728-059-3</td>\n",
       "    </tr>\n",
       "    <tr>\n",
       "      <th>12</th>\n",
       "      <td>Kimberly Harrison</td>\n",
       "      <td>comics</td>\n",
       "      <td>0-7622-6531-0</td>\n",
       "    </tr>\n",
       "    <tr>\n",
       "      <th>13</th>\n",
       "      <td>Jonathan Nichols</td>\n",
       "      <td>history</td>\n",
       "      <td>1-63616-149-9</td>\n",
       "    </tr>\n",
       "    <tr>\n",
       "      <th>14</th>\n",
       "      <td>Tonya Tanner</td>\n",
       "      <td>history</td>\n",
       "      <td>1-4288-4072-9</td>\n",
       "    </tr>\n",
       "    <tr>\n",
       "      <th>15</th>\n",
       "      <td>Alexander Hall</td>\n",
       "      <td>comics</td>\n",
       "      <td>1-78847-115-6</td>\n",
       "    </tr>\n",
       "    <tr>\n",
       "      <th>16</th>\n",
       "      <td>Daniel Johnson</td>\n",
       "      <td>horror</td>\n",
       "      <td>0-14-607113-1</td>\n",
       "    </tr>\n",
       "    <tr>\n",
       "      <th>17</th>\n",
       "      <td>Jason Gordon</td>\n",
       "      <td>comics</td>\n",
       "      <td>1-319-19990-9</td>\n",
       "    </tr>\n",
       "    <tr>\n",
       "      <th>18</th>\n",
       "      <td>Tina Berry</td>\n",
       "      <td>sci-fi</td>\n",
       "      <td>1-4841-5956-X</td>\n",
       "    </tr>\n",
       "    <tr>\n",
       "      <th>19</th>\n",
       "      <td>Dawn Reed</td>\n",
       "      <td>fantasy</td>\n",
       "      <td>1-00-958818-4</td>\n",
       "    </tr>\n",
       "  </tbody>\n",
       "</table>\n",
       "</div>"
      ],
      "text/plain": [
       "                author    genre           isbn\n",
       "0       Aaron Stephens  fantasy  0-560-22625-X\n",
       "1        Laura Lambert   sci-fi  0-477-61096-X\n",
       "2      Jessica Johnson   comics  1-82415-269-8\n",
       "3          Keith Jones   horror  0-212-12934-1\n",
       "4          Megan Jones  romance  1-397-92386-5\n",
       "5           Ryan Smith  history  0-16-028219-5\n",
       "6           Chad Avila   sci-fi  0-221-35354-2\n",
       "7        Michael Green   sci-fi  1-338-55554-5\n",
       "8          Linda Olson   horror  1-4456-8709-7\n",
       "9       Deborah Holmes   horror  1-77314-904-0\n",
       "10  Rebecca Strickland   horror  0-571-35201-4\n",
       "11      Chelsea Rogers   horror  1-61728-059-3\n",
       "12   Kimberly Harrison   comics  0-7622-6531-0\n",
       "13    Jonathan Nichols  history  1-63616-149-9\n",
       "14        Tonya Tanner  history  1-4288-4072-9\n",
       "15      Alexander Hall   comics  1-78847-115-6\n",
       "16      Daniel Johnson   horror  0-14-607113-1\n",
       "17        Jason Gordon   comics  1-319-19990-9\n",
       "18          Tina Berry   sci-fi  1-4841-5956-X\n",
       "19           Dawn Reed  fantasy  1-00-958818-4"
      ]
     },
     "metadata": {},
     "output_type": "display_data"
    }
   ],
   "source": [
    "books_subset = books_small[['author', 'genre', 'isbn']]\n",
    "display(books_subset)"
   ]
  },
  {
   "cell_type": "markdown",
   "metadata": {},
   "source": [
    "<h2>Selecting rows</h2>\n",
    "\n",
    "Rows of a dataframe are selected using the <i>index</i>. Index queries are done via the `.loc` as follows:"
   ]
  },
  {
   "cell_type": "code",
   "execution_count": 14,
   "metadata": {},
   "outputs": [
    {
     "data": {
      "text/plain": [
       "author        Jessica Johnson\n",
       "title     The amazing Bug-Man\n",
       "genre                  comics\n",
       "isbn            1-82415-269-8\n",
       "old                         5\n",
       "young                      88\n",
       "Name: 2, dtype: object"
      ]
     },
     "execution_count": 14,
     "metadata": {},
     "output_type": "execute_result"
    }
   ],
   "source": [
    "books_small.loc[2] # Select the second book"
   ]
  },
  {
   "cell_type": "markdown",
   "metadata": {},
   "source": [
    "The resulting object is a `Series`. Therefore we can treat it mostly like a Python list, but it allows a few additional operations:"
   ]
  },
  {
   "cell_type": "code",
   "execution_count": 15,
   "metadata": {},
   "outputs": [
    {
     "name": "stdout",
     "output_type": "stream",
     "text": [
      "First element is Jessica Johnson\n",
      "\n",
      "Elements 2 to 4 are\n",
      "genre           comics\n",
      "isbn     1-82415-269-8\n",
      "old                  5\n",
      "Name: 2, dtype: object\n",
      "\n",
      "Jessica Johnson\n",
      "The amazing Bug-Man\n",
      "comics\n",
      "1-82415-269-8\n",
      "5\n",
      "88\n",
      "\n",
      "author\n",
      "title\n",
      "genre\n",
      "isbn\n",
      "old\n",
      "young\n"
     ]
    }
   ],
   "source": [
    "row = books_small.loc[2]\n",
    "print(\"First element is\", row[0])\n",
    "print(\"\")\n",
    "print(\"Elements 2 to 4 are\")\n",
    "print(row[2:5]) # This is a again a series!\n",
    "print(\"\")\n",
    "\n",
    "for s in row: # We can iterate over the values as usual\n",
    "    print(s)\n",
    "print(\"\")\n",
    "    \n",
    "for i in row.index: # We can also iterate over the index\n",
    "    print(i)"
   ]
  },
  {
   "cell_type": "markdown",
   "metadata": {},
   "source": [
    "We can also select index range via `.loc`, this returns a dataframe object:"
   ]
  },
  {
   "cell_type": "code",
   "execution_count": 16,
   "metadata": {
    "scrolled": true
   },
   "outputs": [
    {
     "data": {
      "text/html": [
       "<div>\n",
       "<style scoped>\n",
       "    .dataframe tbody tr th:only-of-type {\n",
       "        vertical-align: middle;\n",
       "    }\n",
       "\n",
       "    .dataframe tbody tr th {\n",
       "        vertical-align: top;\n",
       "    }\n",
       "\n",
       "    .dataframe thead th {\n",
       "        text-align: right;\n",
       "    }\n",
       "</style>\n",
       "<table border=\"1\" class=\"dataframe\">\n",
       "  <thead>\n",
       "    <tr style=\"text-align: right;\">\n",
       "      <th></th>\n",
       "      <th>author</th>\n",
       "      <th>title</th>\n",
       "      <th>genre</th>\n",
       "      <th>isbn</th>\n",
       "      <th>old</th>\n",
       "      <th>young</th>\n",
       "    </tr>\n",
       "  </thead>\n",
       "  <tbody>\n",
       "    <tr>\n",
       "      <th>2</th>\n",
       "      <td>Jessica Johnson</td>\n",
       "      <td>The amazing Bug-Man</td>\n",
       "      <td>comics</td>\n",
       "      <td>1-82415-269-8</td>\n",
       "      <td>5</td>\n",
       "      <td>88</td>\n",
       "    </tr>\n",
       "    <tr>\n",
       "      <th>3</th>\n",
       "      <td>Keith Jones</td>\n",
       "      <td>The poltergeist will come back</td>\n",
       "      <td>horror</td>\n",
       "      <td>0-212-12934-1</td>\n",
       "      <td>26</td>\n",
       "      <td>22</td>\n",
       "    </tr>\n",
       "    <tr>\n",
       "      <th>4</th>\n",
       "      <td>Megan Jones</td>\n",
       "      <td>October roses</td>\n",
       "      <td>romance</td>\n",
       "      <td>1-397-92386-5</td>\n",
       "      <td>62</td>\n",
       "      <td>51</td>\n",
       "    </tr>\n",
       "    <tr>\n",
       "      <th>5</th>\n",
       "      <td>Ryan Smith</td>\n",
       "      <td>Puerto Rico after 1660</td>\n",
       "      <td>history</td>\n",
       "      <td>0-16-028219-5</td>\n",
       "      <td>86</td>\n",
       "      <td>8</td>\n",
       "    </tr>\n",
       "    <tr>\n",
       "      <th>6</th>\n",
       "      <td>Chad Avila</td>\n",
       "      <td>Clash of the flaming angels</td>\n",
       "      <td>sci-fi</td>\n",
       "      <td>0-221-35354-2</td>\n",
       "      <td>1</td>\n",
       "      <td>42</td>\n",
       "    </tr>\n",
       "    <tr>\n",
       "      <th>7</th>\n",
       "      <td>Michael Green</td>\n",
       "      <td>The Ayers mystery</td>\n",
       "      <td>sci-fi</td>\n",
       "      <td>1-338-55554-5</td>\n",
       "      <td>12</td>\n",
       "      <td>51</td>\n",
       "    </tr>\n",
       "  </tbody>\n",
       "</table>\n",
       "</div>"
      ],
      "text/plain": [
       "            author                           title    genre           isbn  \\\n",
       "2  Jessica Johnson             The amazing Bug-Man   comics  1-82415-269-8   \n",
       "3      Keith Jones  The poltergeist will come back   horror  0-212-12934-1   \n",
       "4      Megan Jones                   October roses  romance  1-397-92386-5   \n",
       "5       Ryan Smith          Puerto Rico after 1660  history  0-16-028219-5   \n",
       "6       Chad Avila     Clash of the flaming angels   sci-fi  0-221-35354-2   \n",
       "7    Michael Green               The Ayers mystery   sci-fi  1-338-55554-5   \n",
       "\n",
       "   old  young  \n",
       "2    5     88  \n",
       "3   26     22  \n",
       "4   62     51  \n",
       "5   86      8  \n",
       "6    1     42  \n",
       "7   12     51  "
      ]
     },
     "execution_count": 16,
     "metadata": {},
     "output_type": "execute_result"
    }
   ],
   "source": [
    "books_small.loc[2:7]"
   ]
  },
  {
   "cell_type": "markdown",
   "metadata": {},
   "source": [
    "<h2>Selecting cells</h2>\n",
    "\n",
    "Finally, we can read the value from a single cell of a dataframe by combining the above queries. If we want to know who the author of the 15th book is, we can first select the 15th row using `.loc` and then query the author using the `author` key:"
   ]
  },
  {
   "cell_type": "code",
   "execution_count": 17,
   "metadata": {},
   "outputs": [
    {
     "data": {
      "text/plain": [
       "'Alexander Hall'"
      ]
     },
     "execution_count": 17,
     "metadata": {},
     "output_type": "execute_result"
    }
   ],
   "source": [
    "books_small.loc[15]['author']"
   ]
  },
  {
   "cell_type": "markdown",
   "metadata": {},
   "source": [
    "Alternatively, we can first retrieve the `author` column from the dataframe and then access the 15th member of that series. Because the result is a series and not a dataframe, we can drop the `.loc` if we want to."
   ]
  },
  {
   "cell_type": "code",
   "execution_count": 18,
   "metadata": {},
   "outputs": [
    {
     "data": {
      "text/plain": [
       "'Alexander Hall'"
      ]
     },
     "metadata": {},
     "output_type": "display_data"
    },
    {
     "data": {
      "text/plain": [
       "'Alexander Hall'"
      ]
     },
     "metadata": {},
     "output_type": "display_data"
    }
   ],
   "source": [
    "# Either of these work:\n",
    "display(books_small['author'].loc[15])\n",
    "display(books_small['author'][15])"
   ]
  },
  {
   "cell_type": "markdown",
   "metadata": {},
   "source": [
    "<h2>Iterating</h2>\n",
    "\n",
    "We already saw how to iterate over the column name of a dataframe and how to iterate over individual rows and columns. We can also iterate over the rows and columns of a dataframe. The following method `.iterrows()` returns a list of pairs containing the index of the row and the row itself:"
   ]
  },
  {
   "cell_type": "code",
   "execution_count": 19,
   "metadata": {},
   "outputs": [
    {
     "data": {
      "text/plain": [
       "0"
      ]
     },
     "metadata": {},
     "output_type": "display_data"
    },
    {
     "data": {
      "text/plain": [
       "author                  Aaron Stephens\n",
       "title     The secret of the azure orcs\n",
       "genre                          fantasy\n",
       "isbn                     0-560-22625-X\n",
       "old                                 35\n",
       "young                               40\n",
       "Name: 0, dtype: object"
      ]
     },
     "metadata": {},
     "output_type": "display_data"
    },
    {
     "data": {
      "text/plain": [
       "1"
      ]
     },
     "metadata": {},
     "output_type": "display_data"
    },
    {
     "data": {
      "text/plain": [
       "author                Laura Lambert\n",
       "title     War of the crimson comets\n",
       "genre                        sci-fi\n",
       "isbn                  0-477-61096-X\n",
       "old                               6\n",
       "young                            43\n",
       "Name: 1, dtype: object"
      ]
     },
     "metadata": {},
     "output_type": "display_data"
    },
    {
     "data": {
      "text/plain": [
       "2"
      ]
     },
     "metadata": {},
     "output_type": "display_data"
    },
    {
     "data": {
      "text/plain": [
       "author        Jessica Johnson\n",
       "title     The amazing Bug-Man\n",
       "genre                  comics\n",
       "isbn            1-82415-269-8\n",
       "old                         5\n",
       "young                      88\n",
       "Name: 2, dtype: object"
      ]
     },
     "metadata": {},
     "output_type": "display_data"
    },
    {
     "data": {
      "text/plain": [
       "3"
      ]
     },
     "metadata": {},
     "output_type": "display_data"
    },
    {
     "data": {
      "text/plain": [
       "author                       Keith Jones\n",
       "title     The poltergeist will come back\n",
       "genre                             horror\n",
       "isbn                       0-212-12934-1\n",
       "old                                   26\n",
       "young                                 22\n",
       "Name: 3, dtype: object"
      ]
     },
     "metadata": {},
     "output_type": "display_data"
    },
    {
     "data": {
      "text/plain": [
       "4"
      ]
     },
     "metadata": {},
     "output_type": "display_data"
    },
    {
     "data": {
      "text/plain": [
       "author      Megan Jones\n",
       "title     October roses\n",
       "genre           romance\n",
       "isbn      1-397-92386-5\n",
       "old                  62\n",
       "young                51\n",
       "Name: 4, dtype: object"
      ]
     },
     "metadata": {},
     "output_type": "display_data"
    },
    {
     "data": {
      "text/plain": [
       "5"
      ]
     },
     "metadata": {},
     "output_type": "display_data"
    },
    {
     "data": {
      "text/plain": [
       "author                Ryan Smith\n",
       "title     Puerto Rico after 1660\n",
       "genre                    history\n",
       "isbn               0-16-028219-5\n",
       "old                           86\n",
       "young                          8\n",
       "Name: 5, dtype: object"
      ]
     },
     "metadata": {},
     "output_type": "display_data"
    },
    {
     "data": {
      "text/plain": [
       "6"
      ]
     },
     "metadata": {},
     "output_type": "display_data"
    },
    {
     "data": {
      "text/plain": [
       "author                     Chad Avila\n",
       "title     Clash of the flaming angels\n",
       "genre                          sci-fi\n",
       "isbn                    0-221-35354-2\n",
       "old                                 1\n",
       "young                              42\n",
       "Name: 6, dtype: object"
      ]
     },
     "metadata": {},
     "output_type": "display_data"
    },
    {
     "data": {
      "text/plain": [
       "7"
      ]
     },
     "metadata": {},
     "output_type": "display_data"
    },
    {
     "data": {
      "text/plain": [
       "author        Michael Green\n",
       "title     The Ayers mystery\n",
       "genre                sci-fi\n",
       "isbn          1-338-55554-5\n",
       "old                      12\n",
       "young                    51\n",
       "Name: 7, dtype: object"
      ]
     },
     "metadata": {},
     "output_type": "display_data"
    },
    {
     "data": {
      "text/plain": [
       "8"
      ]
     },
     "metadata": {},
     "output_type": "display_data"
    },
    {
     "data": {
      "text/plain": [
       "author                       Linda Olson\n",
       "title     The case of the deadly corpses\n",
       "genre                             horror\n",
       "isbn                       1-4456-8709-7\n",
       "old                                   22\n",
       "young                                 24\n",
       "Name: 8, dtype: object"
      ]
     },
     "metadata": {},
     "output_type": "display_data"
    },
    {
     "data": {
      "text/plain": [
       "9"
      ]
     },
     "metadata": {},
     "output_type": "display_data"
    },
    {
     "data": {
      "text/plain": [
       "author                Deborah Holmes\n",
       "title     The Tommyknocker will rise\n",
       "genre                         horror\n",
       "isbn                   1-77314-904-0\n",
       "old                               15\n",
       "young                             23\n",
       "Name: 9, dtype: object"
      ]
     },
     "metadata": {},
     "output_type": "display_data"
    },
    {
     "data": {
      "text/plain": [
       "10"
      ]
     },
     "metadata": {},
     "output_type": "display_data"
    },
    {
     "data": {
      "text/plain": [
       "author                   Rebecca Strickland\n",
       "title     The mystery of the yellow corpses\n",
       "genre                                horror\n",
       "isbn                          0-571-35201-4\n",
       "old                                      19\n",
       "young                                    28\n",
       "Name: 10, dtype: object"
      ]
     },
     "metadata": {},
     "output_type": "display_data"
    },
    {
     "data": {
      "text/plain": [
       "11"
      ]
     },
     "metadata": {},
     "output_type": "display_data"
    },
    {
     "data": {
      "text/plain": [
       "author              Chelsea Rogers\n",
       "title     The yellow king's agenda\n",
       "genre                       horror\n",
       "isbn                 1-61728-059-3\n",
       "old                             23\n",
       "young                            7\n",
       "Name: 11, dtype: object"
      ]
     },
     "metadata": {},
     "output_type": "display_data"
    },
    {
     "data": {
      "text/plain": [
       "12"
      ]
     },
     "metadata": {},
     "output_type": "display_data"
    },
    {
     "data": {
      "text/plain": [
       "author                    Kimberly Harrison\n",
       "title     The adventures of sherrif Katelyn\n",
       "genre                                comics\n",
       "isbn                          0-7622-6531-0\n",
       "old                                       9\n",
       "young                                    75\n",
       "Name: 12, dtype: object"
      ]
     },
     "metadata": {},
     "output_type": "display_data"
    },
    {
     "data": {
      "text/plain": [
       "13"
      ]
     },
     "metadata": {},
     "output_type": "display_data"
    },
    {
     "data": {
      "text/plain": [
       "author    Jonathan Nichols\n",
       "title          Before 1510\n",
       "genre              history\n",
       "isbn         1-63616-149-9\n",
       "old                     98\n",
       "young                   29\n",
       "Name: 13, dtype: object"
      ]
     },
     "metadata": {},
     "output_type": "display_data"
    },
    {
     "data": {
      "text/plain": [
       "14"
      ]
     },
     "metadata": {},
     "output_type": "display_data"
    },
    {
     "data": {
      "text/plain": [
       "author                      Tonya Tanner\n",
       "title     Amber Townsend: Complete works\n",
       "genre                            history\n",
       "isbn                       1-4288-4072-9\n",
       "old                                   94\n",
       "young                                 16\n",
       "Name: 14, dtype: object"
      ]
     },
     "metadata": {},
     "output_type": "display_data"
    },
    {
     "data": {
      "text/plain": [
       "15"
      ]
     },
     "metadata": {},
     "output_type": "display_data"
    },
    {
     "data": {
      "text/plain": [
       "author                           Alexander Hall\n",
       "title     The latest adventures of cowboy James\n",
       "genre                                    comics\n",
       "isbn                              1-78847-115-6\n",
       "old                                          14\n",
       "young                                        78\n",
       "Name: 15, dtype: object"
      ]
     },
     "metadata": {},
     "output_type": "display_data"
    },
    {
     "data": {
      "text/plain": [
       "16"
      ]
     },
     "metadata": {},
     "output_type": "display_data"
    },
    {
     "data": {
      "text/plain": [
       "author     Daniel Johnson\n",
       "title     Azrael's method\n",
       "genre              horror\n",
       "isbn        0-14-607113-1\n",
       "old                    21\n",
       "young                  20\n",
       "Name: 16, dtype: object"
      ]
     },
     "metadata": {},
     "output_type": "display_data"
    },
    {
     "data": {
      "text/plain": [
       "17"
      ]
     },
     "metadata": {},
     "output_type": "display_data"
    },
    {
     "data": {
      "text/plain": [
       "author                         Jason Gordon\n",
       "title     The adventures of astronaut Jamie\n",
       "genre                                comics\n",
       "isbn                          1-319-19990-9\n",
       "old                                       7\n",
       "young                                    76\n",
       "Name: 17, dtype: object"
      ]
     },
     "metadata": {},
     "output_type": "display_data"
    },
    {
     "data": {
      "text/plain": [
       "18"
      ]
     },
     "metadata": {},
     "output_type": "display_data"
    },
    {
     "data": {
      "text/plain": [
       "author         Tina Berry\n",
       "title     Coup on Alpha-6\n",
       "genre              sci-fi\n",
       "isbn        1-4841-5956-X\n",
       "old                    10\n",
       "young                  45\n",
       "Name: 18, dtype: object"
      ]
     },
     "metadata": {},
     "output_type": "display_data"
    },
    {
     "data": {
      "text/plain": [
       "19"
      ]
     },
     "metadata": {},
     "output_type": "display_data"
    },
    {
     "data": {
      "text/plain": [
       "author               Dawn Reed\n",
       "title     The conflict of orcs\n",
       "genre                  fantasy\n",
       "isbn             1-00-958818-4\n",
       "old                         28\n",
       "young                       15\n",
       "Name: 19, dtype: object"
      ]
     },
     "metadata": {},
     "output_type": "display_data"
    }
   ],
   "source": [
    "for i, row in books_small.iterrows(): # Note that .itterows is a method!\n",
    "    # `i` is the index of the row, `row` the content\n",
    "    display(i, row)"
   ]
  },
  {
   "cell_type": "markdown",
   "metadata": {},
   "source": [
    "Iterating over columns is done by iterating over the column <i>names</i> and then accessing the column using the usual index notation:"
   ]
  },
  {
   "cell_type": "code",
   "execution_count": 20,
   "metadata": {},
   "outputs": [
    {
     "data": {
      "text/plain": [
       "0         Aaron Stephens\n",
       "1          Laura Lambert\n",
       "2        Jessica Johnson\n",
       "3            Keith Jones\n",
       "4            Megan Jones\n",
       "5             Ryan Smith\n",
       "6             Chad Avila\n",
       "7          Michael Green\n",
       "8            Linda Olson\n",
       "9         Deborah Holmes\n",
       "10    Rebecca Strickland\n",
       "11        Chelsea Rogers\n",
       "12     Kimberly Harrison\n",
       "13      Jonathan Nichols\n",
       "14          Tonya Tanner\n",
       "15        Alexander Hall\n",
       "16        Daniel Johnson\n",
       "17          Jason Gordon\n",
       "18            Tina Berry\n",
       "19             Dawn Reed\n",
       "Name: author, dtype: object"
      ]
     },
     "metadata": {},
     "output_type": "display_data"
    },
    {
     "data": {
      "text/plain": [
       "0              The secret of the azure orcs\n",
       "1                 War of the crimson comets\n",
       "2                       The amazing Bug-Man\n",
       "3            The poltergeist will come back\n",
       "4                             October roses\n",
       "5                    Puerto Rico after 1660\n",
       "6               Clash of the flaming angels\n",
       "7                         The Ayers mystery\n",
       "8            The case of the deadly corpses\n",
       "9                The Tommyknocker will rise\n",
       "10        The mystery of the yellow corpses\n",
       "11                 The yellow king's agenda\n",
       "12        The adventures of sherrif Katelyn\n",
       "13                              Before 1510\n",
       "14           Amber Townsend: Complete works\n",
       "15    The latest adventures of cowboy James\n",
       "16                          Azrael's method\n",
       "17        The adventures of astronaut Jamie\n",
       "18                          Coup on Alpha-6\n",
       "19                     The conflict of orcs\n",
       "Name: title, dtype: object"
      ]
     },
     "metadata": {},
     "output_type": "display_data"
    },
    {
     "data": {
      "text/plain": [
       "0     fantasy\n",
       "1      sci-fi\n",
       "2      comics\n",
       "3      horror\n",
       "4     romance\n",
       "5     history\n",
       "6      sci-fi\n",
       "7      sci-fi\n",
       "8      horror\n",
       "9      horror\n",
       "10     horror\n",
       "11     horror\n",
       "12     comics\n",
       "13    history\n",
       "14    history\n",
       "15     comics\n",
       "16     horror\n",
       "17     comics\n",
       "18     sci-fi\n",
       "19    fantasy\n",
       "Name: genre, dtype: object"
      ]
     },
     "metadata": {},
     "output_type": "display_data"
    },
    {
     "data": {
      "text/plain": [
       "0     0-560-22625-X\n",
       "1     0-477-61096-X\n",
       "2     1-82415-269-8\n",
       "3     0-212-12934-1\n",
       "4     1-397-92386-5\n",
       "5     0-16-028219-5\n",
       "6     0-221-35354-2\n",
       "7     1-338-55554-5\n",
       "8     1-4456-8709-7\n",
       "9     1-77314-904-0\n",
       "10    0-571-35201-4\n",
       "11    1-61728-059-3\n",
       "12    0-7622-6531-0\n",
       "13    1-63616-149-9\n",
       "14    1-4288-4072-9\n",
       "15    1-78847-115-6\n",
       "16    0-14-607113-1\n",
       "17    1-319-19990-9\n",
       "18    1-4841-5956-X\n",
       "19    1-00-958818-4\n",
       "Name: isbn, dtype: object"
      ]
     },
     "metadata": {},
     "output_type": "display_data"
    },
    {
     "data": {
      "text/plain": [
       "0     35\n",
       "1      6\n",
       "2      5\n",
       "3     26\n",
       "4     62\n",
       "5     86\n",
       "6      1\n",
       "7     12\n",
       "8     22\n",
       "9     15\n",
       "10    19\n",
       "11    23\n",
       "12     9\n",
       "13    98\n",
       "14    94\n",
       "15    14\n",
       "16    21\n",
       "17     7\n",
       "18    10\n",
       "19    28\n",
       "Name: old, dtype: int64"
      ]
     },
     "metadata": {},
     "output_type": "display_data"
    },
    {
     "data": {
      "text/plain": [
       "0     40\n",
       "1     43\n",
       "2     88\n",
       "3     22\n",
       "4     51\n",
       "5      8\n",
       "6     42\n",
       "7     51\n",
       "8     24\n",
       "9     23\n",
       "10    28\n",
       "11     7\n",
       "12    75\n",
       "13    29\n",
       "14    16\n",
       "15    78\n",
       "16    20\n",
       "17    76\n",
       "18    45\n",
       "19    15\n",
       "Name: young, dtype: int64"
      ]
     },
     "metadata": {},
     "output_type": "display_data"
    }
   ],
   "source": [
    "for col in books_small:\n",
    "    display(books_small[col])"
   ]
  },
  {
   "cell_type": "markdown",
   "metadata": {},
   "source": [
    "<h1>Tasks</h1>\n",
    "\n",
    "Today's task will be to learn how to do various operations on pandas dataframes.\n",
    "The tasks have to be completed in order because they later ones depend on the earlier ones! \n",
    "\n",
    "<div style=\"font-size: 1.5em; text-align: center; margin-top: 1em\">\n",
    "    Work in groups of three to complete the following tasks!\n",
    "</div>\n",
    "\n",
    "I suggest that your first <i>discuss</i> the task until you agree about what needs to be done and then work together on a single computer to solve it.\n",
    "\n",
    "<h2>Task 1</h2>\n",
    "\n",
    "> Load the .csv file `02-resources/books.csv` using pandas `.read_csv` method. You can adapt the code from the cell above that loads `books_small`.\n",
    "\n",
    "If you have questions about the various parameters that `.read_csv` accepts, \n",
    "<a href=\"https://pandas.pydata.org/pandas-docs/stable/generated/pandas.read_csv.html#pandas.read_csv\">have a look at the documentation</a>\n",
    "(Hint: the documentation is very large, search for the keyword you are interested in). You should read up on the argument `index_col`."
   ]
  },
  {
   "cell_type": "code",
   "execution_count": 21,
   "metadata": {},
   "outputs": [],
   "source": [
    "books = pd.read_csv(\"02-resources/books.csv\", index_col=0)"
   ]
  },
  {
   "cell_type": "code",
   "execution_count": 22,
   "metadata": {},
   "outputs": [
    {
     "data": {
      "text/plain": [
       "\"Everything's fine!\""
      ]
     },
     "execution_count": 22,
     "metadata": {},
     "output_type": "execute_result"
    }
   ],
   "source": [
    "# Do not edit this cell. Run it once you finished \n",
    "# all TODOs the cell above.\n",
    "assert type(books) ==  pd.core.frame.DataFrame, \"You need to call the function pd.read_csv\"\n",
    "assert len(books) == 400, \"Dataframe is incomplete! Did you use nrows?\"\n",
    "assert 'Unnamed: 0' not in set(books.columns), \"Make sure to use the argument `index_col`!\"\n",
    "''.join(reversed(\"!enif s'gnihtyrevE\"))"
   ]
  },
  {
   "cell_type": "markdown",
   "metadata": {},
   "source": [
    "<h2>Task 2</h2>\n",
    "Let us now focus on the two ratings columns only.\n",
    "\n",
    "> Create a new dataframe from `books` called `ratings` that only contains the rows `old` and `young`.\n",
    "\n",
    "If you complete the task in the following cell, the next cell should output a plot."
   ]
  },
  {
   "cell_type": "code",
   "execution_count": 23,
   "metadata": {},
   "outputs": [],
   "source": [
    "ratings = books[['old', 'young']]"
   ]
  },
  {
   "cell_type": "code",
   "execution_count": 24,
   "metadata": {},
   "outputs": [
    {
     "data": {
      "text/plain": [
       "Text(0,0.5,'Ratings young')"
      ]
     },
     "execution_count": 24,
     "metadata": {},
     "output_type": "execute_result"
    }
   ],
   "source": [
    "# Do not edit this cell. Run it once you finished \n",
    "# all TODOs the cell above.\n",
    "assert type(ratings) ==  pd.core.frame.DataFrame\n",
    "assert len(ratings) == 400, \"Dataframe is too short!\"\n",
    "assert set(['young', 'old']) == set(ratings.columns), \"`ratings` has the wrong columns\"\n",
    "\n",
    "import matplotlib.pyplot as plt\n",
    "fig, ax = plt.subplots(figsize=(5,5))\n",
    "ax.scatter(ratings['old'], ratings['young'])\n",
    "ax.set_xlabel(\"Ratings old\")\n",
    "ax.set_ylabel(\"Ratings young\")\n"
   ]
  },
  {
   "cell_type": "markdown",
   "metadata": {},
   "source": [
    "<h2>Task 3</h2>\n",
    "\n",
    "> Compute the minimum, maximum, and average rating for the `old` and `young` column each. There is more than one solution to this problem!\n",
    "\n",
    "Pandas' `Series` object has a few methods that might be of interest here\n",
    "(<a href=\"https://pandas.pydata.org/pandas-docs/stable/generated/pandas.Series.mean.html#pandas.Series.mean\">mean()</a>, <a href=\"https://pandas.pydata.org/pandas-docs/stable/generated/pandas.Series.min.html#pandas.Series.min\">min()</a>, <a href=\"https://pandas.pydata.org/pandas-docs/stable/generated/pandas.Series.max.html#pandas.Series.max\">max()</a>) or you could use the \n",
    "built-in Python methods <a href=\"https://docs.python.org/3/library/functions.html#min\">min()</a>, <a href=\"https://docs.python.org/3/library/functions.html#max\">max()</a>, and <a href=\"https://docs.python.org/3/library/functions.html#sum\">sum()</a> to compute these values &lsquo;by hand&rsquo;"
   ]
  },
  {
   "cell_type": "code",
   "execution_count": 25,
   "metadata": {},
   "outputs": [
    {
     "name": "stdout",
     "output_type": "stream",
     "text": [
      "The mean of old and new is  36.67  and  39.6475  respectively\n",
      "\n",
      "The min of old and new is  0  and  0  respectively\n",
      "\n",
      "The max of old and new is  99  and  88  respectively\n",
      "\n"
     ]
    }
   ],
   "source": [
    "print(\"The mean of old and new is \",\n",
    "      books[\"old\"].mean(), \" and \", books[\"young\"].mean(), \" respectively\")\n",
    "print(\"\")\n",
    "print(\"The min of old and new is \",\n",
    "      books[\"old\"].min(), \" and \", books[\"young\"].min(), \" respectively\")\n",
    "print(\"\")\n",
    "print(\"The max of old and new is \",\n",
    "      books[\"old\"].max(), \" and \", books[\"young\"].max(), \" respectively\")\n",
    "print(\"\")"
   ]
  },
  {
   "cell_type": "markdown",
   "metadata": {},
   "source": [
    "<h2>Task 4</h2>\n",
    "\n",
    "We learned about <i>distance functions</i> or <i>metrics</i> today. In class, we use the distance in the Euclidean plane (the Euclidean plane is the mathematical term for a flat piece of paper and where we do our usual geometry).\n",
    "\n",
    "For two points $P_1 = (x_1, y_1)$ and $P_2 = (x_2,y_2)$ in the plane, their <i>Euclidean distance</i> is given by \n",
    "$$\n",
    "  d(P_1, P_2) = \\sqrt{(x_2-x_1)^2 + (y_2-y_1)^2}\n",
    "$$\n",
    "\n",
    "> Complete the following function so that it compute the Euclidean distance between to ratings `ratingA` and `ratingB`. The ratings are supposed to be tuples where the first entry is the `old` rating and the second the `young` rating.\n",
    "\n",
    "Hints: to compute the square root, use the method `math.sqrt`. You will need to import the package `math` for that. You can compute the square of a variable `x` in\n",
    "Python using the notation `x**2`."
   ]
  },
  {
   "cell_type": "code",
   "execution_count": 26,
   "metadata": {},
   "outputs": [
    {
     "name": "stdout",
     "output_type": "stream",
     "text": [
      "old      19\n",
      "young    28\n",
      "Name: 10, dtype: int64\n"
     ]
    }
   ],
   "source": [
    "print(ratings.iloc[10])"
   ]
  },
  {
   "cell_type": "code",
   "execution_count": 27,
   "metadata": {},
   "outputs": [],
   "source": [
    "import math\n",
    "def rating_dist(ratingA, ratingB):\n",
    "    #Breaking this down to individual elements\n",
    "    left = ((ratingB[0] - ratingA[0])**2)\n",
    "    right = ((ratingB[1] - ratingA[1])**2)\n",
    "    middle = left + right\n",
    "    return math.sqrt(middle)\n",
    "    # TODO: compute Euclidean distance between ratingA and ratingB\n",
    "    # and return it. The ratings should be tuples of two values.   "
   ]
  },
  {
   "cell_type": "code",
   "execution_count": 28,
   "metadata": {},
   "outputs": [
    {
     "data": {
      "text/plain": [
       "\"Everything's fine!\""
      ]
     },
     "execution_count": 28,
     "metadata": {},
     "output_type": "execute_result"
    }
   ],
   "source": [
    "assert rating_dist(ratings.iloc[10],ratings.iloc[10]) == 0.0, \"Distance computation is incorrect\"\n",
    "assert (rating_dist(ratings.iloc[0],ratings.iloc[1])-29.1547)**2 < 0.01, \"Distance computation is incorrect\"\n",
    "''.join(reversed(\"!enif s'gnihtyrevE\"))"
   ]
  },
  {
   "cell_type": "markdown",
   "metadata": {},
   "source": [
    "<h2>Task 5</h2>\n",
    "Now that we can compute distances between rows of the ratings table, we can ask some interesting questions: for example, for any book in our dataset we can compute the &ldquo;closest&rdquo; book rating-wise. Let us consider book #114: Joanna Payne's classic &ldquo;The amazing Super-Girl&rdquo;:"
   ]
  },
  {
   "cell_type": "code",
   "execution_count": 29,
   "metadata": {},
   "outputs": [
    {
     "data": {
      "text/plain": [
       "author              Joanna Payne\n",
       "title     The amazing Super-Girl\n",
       "genre                     comics\n",
       "isbn               0-360-97867-3\n",
       "old                            6\n",
       "young                         67\n",
       "Name: 114, dtype: object"
      ]
     },
     "execution_count": 29,
     "metadata": {},
     "output_type": "execute_result"
    }
   ],
   "source": [
    "books.iloc[114]"
   ]
  },
  {
   "cell_type": "markdown",
   "metadata": {},
   "source": [
    "It has an average rating of 6 among the older readers but an impressive 67 among younger readers. Your task is to find the then books that have the smallest distance to book #114 according to the `rating_dist` you implemented above.\n",
    "\n",
    "> Output the *titles* of the 10 books that are closest to book #114 according to `rating_dist`. \n",
    "\n",
    "Hint 1: You should probably first determine the *indices* of the ten closest books.\n",
    "`iterrows` is helpful to go over all rows of the rating table, remember that it give you not only the rows but also their indices (check the cell above that introduces `itterrows`).\n",
    "\n",
    "Hint 2: Remember the method `list.sort()`? This method also works on lists of <i>tuples</i>: it sorts by the first entry of each tuple and in case of ties by the second entry (and so on). For example:\n",
    "```\n",
    "    l = [(2,999),(1,0),(2,1000),(3,500)]\n",
    "    l.sort()\n",
    "    print(l)\n",
    "```\n",
    "The above will output `[(1, 0), (2, 999), (2, 1000), (3, 500)]`."
   ]
  },
  {
   "cell_type": "code",
   "execution_count": 30,
   "metadata": {},
   "outputs": [
    {
     "name": "stdout",
     "output_type": "stream",
     "text": [
      "The story of pirate Monica\n",
      "The adventures of cowboy Shannon\n",
      "The unbelievable Lizard-Woman\n",
      "The awesome Spider-Person\n"
     ]
    }
   ],
   "source": [
    "def nearest(bkind,hmany):\n",
    "    x=[]\n",
    "    for i, row in books.iterrows():\n",
    "        x +=  [(rating_dist(ratings.iloc[bkind],ratings.iloc[i]), i)]\n",
    "    x.sort()\n",
    "    for i in x[1:(hmany+1)]:\n",
    "        print(books.iloc[(i[1])]['title'])\n",
    "        \n",
    "nearest(114, 4)"
   ]
  },
  {
   "cell_type": "code",
   "execution_count": null,
   "metadata": {},
   "outputs": [],
   "source": []
  }
 ],
 "metadata": {
  "kernelspec": {
   "display_name": "Python 3",
   "language": "python",
   "name": "python3"
  },
  "language_info": {
   "codemirror_mode": {
    "name": "ipython",
    "version": 3
   },
   "file_extension": ".py",
   "mimetype": "text/x-python",
   "name": "python",
   "nbconvert_exporter": "python",
   "pygments_lexer": "ipython3",
   "version": "3.6.5"
  }
 },
 "nbformat": 4,
 "nbformat_minor": 2
}
