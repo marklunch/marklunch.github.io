{
 "cells": [
  {
   "cell_type": "markdown",
   "metadata": {},
   "source": [
    "Before we start, run the code cell below for a nicer layout."
   ]
  },
  {
   "cell_type": "code",
   "execution_count": null,
   "metadata": {},
   "outputs": [],
   "source": [
    "%%html\n",
    "<style>\n",
    "h1 { margin-top: 3em !important; }\n",
    "h2 { margin-top: 2em !important; }\n",
    "#notebook-container { \n",
    "    width: 50% !important; \n",
    "    min-width: 800px;\n",
    "}\n",
    "</style>"
   ]
  },
  {
   "cell_type": "markdown",
   "metadata": {},
   "source": [
    "<h1>Background: python modules</h1>\n",
    "\n",
    "Python as programming language has been very successful in recent years and one reason is the simplicity with which code can be turned into general-use libraries and shared via `pip` (it is not trivial, but far easier than in other langauges!). Such shared code is provided by <i>modules</i> that can be loaded using the `import` statement. Python comes with a series of code modules, the <a href=\"https://docs.python.org/3/library/\">Python standard library</a>. A few notable examples are the following:\n",
    "\n",
    "<table>\n",
    "    <tr>\n",
    "        <td>os</td>\n",
    "        <td>Operation system info and functionality (e.g. file io)</td>\n",
    "    </tr>\n",
    "    <tr>\n",
    "        <td>math</td>\n",
    "        <td>Basic mathematical functions</td>\n",
    "    </tr>\n",
    "    <tr>\n",
    "        <td>random</td>\n",
    "        <td>Generate random numbers</td>\n",
    "    </tr>        \n",
    "    <tr>\n",
    "        <td>time</td>\n",
    "        <td>Time measurementss</td>\n",
    "    </tr>\n",
    "    <tr>\n",
    "        <td>datetime</td>\n",
    "        <td>Date formatting</td>\n",
    "    </tr>    \n",
    "    <tr>\n",
    "        <td>urllib</td>\n",
    "        <td>Request URLs via HTTP</td>\n",
    "    </tr>       \n",
    "</table>\n",
    "\n",
    "For example, let's say we want to compute the square-root of a number. The basic Python language does not provide us with a function to do that, but the `math` module does:"
   ]
  },
  {
   "cell_type": "code",
   "execution_count": null,
   "metadata": {},
   "outputs": [],
   "source": [
    "import math\n",
    "\n",
    "math.sqrt(5) # Also try math.log, math.cos, math.sin"
   ]
  },
  {
   "cell_type": "markdown",
   "metadata": {},
   "source": [
    "The notation `math.sqrt` means that the function `sqrt` &lsquo;lives inside&rsquo; the `math` module. We will discuss this dot-notation a bit further in the next section. The math module also contains a few important constants like $\\pi$ or the Euler-number $e$ \n",
    "\n",
    "> Note: other languages enforce the concepts of constants as variables whose values cannot be changed. This is <i>not</i> the case in Python and you can change the value of <code>math.pi</code>. The idea is that everyone who uses Python is acting responsibly and does not, say, set the value of `math.pi` to 3 in their program.\n"
   ]
  },
  {
   "cell_type": "code",
   "execution_count": null,
   "metadata": {},
   "outputs": [],
   "source": [
    "math.pi"
   ]
  },
  {
   "cell_type": "markdown",
   "metadata": {},
   "source": [
    "<h1>Background: python objects</h1>\n",
    "\n",
    "Most modern programming languages use so-called <i>objects</i> to organize data and code.\n",
    "Fundamentally, an object is simply a collection of variables (which either reference primitive\n",
    "data like `int`, `float`, etc. or other objects) and functions. We call variables associated with\n",
    "an object a <i>member</i> and functions associated with an object a <i>method</i>.\n",
    "\n",
    "At this stage, you do not need to know how to define objects&mdash;that is a topic for a lecture on &ldquo;Object Oriented Programming&rdquo;. But since virtually everything in Python is an object, you will have to become comfortable using them.\n",
    "In the following we will discuss three methods which help you discover what any given thing in Python is.\n",
    "\n",
    "The first function is `type`. Let's have a look at a selection of Python &lsquo;components&rsquo; and see what `type` says about them:"
   ]
  },
  {
   "cell_type": "code",
   "execution_count": null,
   "metadata": {},
   "outputs": [],
   "source": [
    "import math \n",
    "\n",
    "def f():  \n",
    "    pass\n",
    "\n",
    "x = 5\n",
    "y = \"Test\" \n",
    "z = [0,1,2]\n",
    "\n",
    "print(type(x))\n",
    "print(type(y))\n",
    "print(type(z))\n",
    "print(type(f))\n",
    "print(type(math))"
   ]
  },
  {
   "cell_type": "markdown",
   "metadata": {},
   "source": [
    "A `class` is simply a type of object---so you can read the output `class 'int'` of `print(type(x))` as &ldquo;the variable `x` references an object of type `int`&rdquo; (or simply: `x` is an integer). As we can see, all of these components are indeed objects: the primitive types (`int`), composite types (`str`, `list`), and even the high-level modules.\n",
    "\n",
    "Python provides a helpful function to see which members and methods a given object has:\n",
    "`dir()`. Let's apply it to a few things to see that indeed, everything in Python is an object."
   ]
  },
  {
   "cell_type": "code",
   "execution_count": null,
   "metadata": {},
   "outputs": [],
   "source": [
    "# Uncomment one of these lines to see the object's \n",
    "# members and methods. Methods with that start and end\n",
    "# with two underscores ('__') have a special meaning to\n",
    "# the Python interpreter---ignore them for now.\n",
    "display(dir(x)) # Integers are objects\n",
    "# display(dir(y)) # Strings are objects\n",
    "# display(dir(z)) # Lists are objects\n",
    "# display(dir(f)) # Function are objects\n",
    "# display(dir(math)) # Modules are objects"
   ]
  },
  {
   "cell_type": "markdown",
   "metadata": {},
   "source": [
    "A second helpful method is `help()`: it prints the documentation associated with an objects.\n",
    "In contrast to `dir()` it also tells you what a member and what a method is."
   ]
  },
  {
   "cell_type": "code",
   "execution_count": null,
   "metadata": {},
   "outputs": [],
   "source": [
    "help(x) # Try also with math, f, y and z."
   ]
  },
  {
   "cell_type": "markdown",
   "metadata": {},
   "source": [
    "<h2>Object syntax</h2>\n",
    "\n",
    "If `x` is a variable that references an object, then we can access the members and methods of `x` using the `.` operator. For example, if `x` is a string, then we can call `x.upper()` to obtain a copy of the string in uppercase and `x.lower()` to do the same\n",
    "in lowercase.\n",
    "\n",
    "> Very important: if you call any method of an object, <b>the method receives a reference to that object</b>. Think of methods as functions which automatically receive the object they &lsquo;live in&rsquo; as the first parameter.\n",
    "\n",
    "Methods &lsquo;act on&rsquo; objects: they either modify the object directly or they compute something using the object. That is the whole point of associating a function with an object! There is one small exception to this rule. Methods that are contained in modules (like `sys`, `math`, `path` and so on) do not &lsquo;act on&rsquo; modules, they are contained in module simply as a way of organizing code.\n",
    "\n",
    "The following methods of a `str` (String) object all leave the string unmodified:"
   ]
  },
  {
   "cell_type": "code",
   "execution_count": null,
   "metadata": {},
   "outputs": [],
   "source": [
    "x = \"This is a string. It has mixed case.\"\n",
    "print(x.upper())           \n",
    "print(x.lower())           \n",
    "print(x.endswith(\"case.\")) # Does the string end with 'case.'?\n",
    "print(x.replace(\"case\", \"feelings\")) \n",
    "print(x.index('a')) # Find first index of letter 'a'\n",
    "print(x) # <--- Original string stays the same"
   ]
  },
  {
   "cell_type": "markdown",
   "metadata": {},
   "source": [
    "The following method of a `list` object <i>change</i> the content of the list object:"
   ]
  },
  {
   "cell_type": "code",
   "execution_count": null,
   "metadata": {},
   "outputs": [],
   "source": [
    "x = [1,7,2,5,0,2]\n",
    "print(x)\n",
    "x.sort() # This method does not return anything, but it modifies x.\n",
    "print(x)"
   ]
  },
  {
   "cell_type": "markdown",
   "metadata": {},
   "source": [
    "<h1>In summary:</h1>\n",
    "\n",
    "<ol style=\"font-size: 1.2em\">\n",
    "    <li>We import modules if we want more functionality.\n",
    "    <li>Everything in Python is an object. \n",
    "    <li>Objects have members and methods which can be accessed using the <code>.</code> notation. \n",
    "    <li>A method knows about the object it lives in.\n",
    "</ol>"
   ]
  },
  {
   "cell_type": "code",
   "execution_count": null,
   "metadata": {},
   "outputs": [],
   "source": []
  }
 ],
 "metadata": {
  "kernelspec": {
   "display_name": "Python 3",
   "language": "python",
   "name": "python3"
  },
  "language_info": {
   "codemirror_mode": {
    "name": "ipython",
    "version": 3
   },
   "file_extension": ".py",
   "mimetype": "text/x-python",
   "name": "python",
   "nbconvert_exporter": "python",
   "pygments_lexer": "ipython3",
   "version": "3.7.2"
  }
 },
 "nbformat": 4,
 "nbformat_minor": 2
}
