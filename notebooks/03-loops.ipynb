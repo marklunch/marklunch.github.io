{
 "cells": [
  {
   "cell_type": "markdown",
   "metadata": {},
   "source": [
    "Before we start, run the code cell below for a nicer layout."
   ]
  },
  {
   "cell_type": "code",
   "execution_count": 1,
   "metadata": {},
   "outputs": [
    {
     "data": {
      "text/html": [
       "<style>\n",
       "h1 { margin-top: 3em !important; }\n",
       "h2 { margin-top: 2em !important; }\n",
       "#notebook-container { \n",
       "    width: 50% !important; \n",
       "    min-width: 800px;\n",
       "}\n",
       "</style>\n"
      ],
      "text/plain": [
       "<IPython.core.display.HTML object>"
      ]
     },
     "metadata": {},
     "output_type": "display_data"
    }
   ],
   "source": [
    "%%html\n",
    "<style>\n",
    "h1 { margin-top: 3em !important; }\n",
    "h2 { margin-top: 2em !important; }\n",
    "#notebook-container { \n",
    "    width: 50% !important; \n",
    "    min-width: 800px;\n",
    "}\n",
    "</style>"
   ]
  },
  {
   "cell_type": "markdown",
   "metadata": {},
   "source": [
    "<h1>Lists and loops</h1>\n",
    "\n",
    "Today, we are revising <b>loops</b> in Python. Fundamentally,\n",
    "loops are used to iterate through data structures like lists\n",
    "or sets to\n",
    "\n",
    "<ol>\n",
    "  <li> select elements,\n",
    "  <li> transform elements,\n",
    "  <li> aggregate elements,\n",
    "</ol>\n",
    "\n",
    "or any combination of those. Before we get into these examples,\n",
    "let's learn a little bit about the Python philosophy behind loops.\n",
    "\n",
    "In older or more low-level programming languages, loops usually come\n",
    "in two flavours: `while` loops and `for` loops (which are <b>not</b>\n",
    "the same as Python's `for ... in` loops!). A `while` loop is executed as long as certain logical statement is true. For example:"
   ]
  },
  {
   "cell_type": "code",
   "execution_count": null,
   "metadata": {},
   "outputs": [],
   "source": [
    "i = 0\n",
    "while i < 5:\n",
    "    print(i)\n",
    "    i += 1"
   ]
  },
  {
   "cell_type": "markdown",
   "metadata": {},
   "source": [
    "In many languages, this is the only way to iterate through lists (or \n",
    "&lsquo;arrays&rsquo; which are a similar construct): by iterating through all valid indices:"
   ]
  },
  {
   "cell_type": "code",
   "execution_count": null,
   "metadata": {},
   "outputs": [],
   "source": [
    "l = ['a','b','c','d','e']\n",
    "i = 0\n",
    "while i < len(l):\n",
    "    print(l[i])\n",
    "    i += 1"
   ]
  },
  {
   "cell_type": "markdown",
   "metadata": {},
   "source": [
    "This type of iteration has a few drawbacks: if we forget to increment `i`, the loop never stops; if we miscalculate the proper index range we get an error; and it is simply very verbose! \n",
    "\n",
    "There is one even bigger issue: how do we access data structures that contain elements but do not have a natural index? The elements of a set, for example, do not have a natural index associated with them (we could make one up, but that feels overly complicated).\n",
    "\n",
    "For that reason, Python leaves it to the data structures themselves to provide a method of iterating through their elements. This construct is called an <i>iterator</i>: an object that provides us with the elements of a data structure one by one until we have seen them all.\n",
    "\n",
    "To obtain an iterator, we use the built-in method `iter`:"
   ]
  },
  {
   "cell_type": "code",
   "execution_count": null,
   "metadata": {},
   "outputs": [],
   "source": [
    "X = set('abcde')\n",
    "it = iter(X)\n",
    "display(it)"
   ]
  },
  {
   "cell_type": "markdown",
   "metadata": {},
   "source": [
    "Once have an iterator, we can ask it to give us the elements it is responsible for:"
   ]
  },
  {
   "cell_type": "code",
   "execution_count": null,
   "metadata": {},
   "outputs": [],
   "source": [
    "it = iter(X)\n",
    "display(it)\n",
    "print(next(it))\n",
    "print(next(it))\n",
    "print(next(it))\n",
    "print(next(it))\n",
    "print(next(it))"
   ]
  },
  {
   "cell_type": "markdown",
   "metadata": {},
   "source": [
    " What happens if we ask for more? `it` has returned all the elements contained in `X` and if we call `next()` again, it will throw an error called `StopIteration`:"
   ]
  },
  {
   "cell_type": "code",
   "execution_count": null,
   "metadata": {},
   "outputs": [],
   "source": [
    "print(next(it))"
   ]
  },
  {
   "cell_type": "markdown",
   "metadata": {},
   "source": [
    "We won't go into the details of Python error handling here, but this error is how Python knows that an iteration is done. This is nicely hidden in the `for ... in` loop. The statement\n",
    "\n",
    "```\n",
    "for s in X:\n",
    "  ...\n",
    "```\n",
    "\n",
    "essentially does the following: it obtains an iterator from `X` by calling `iter(X)` and then calls `next(...)` on the iterator. Every time `next(...)` returns an element, it assigns it to the variable `s` and executes the body of the loop. If `next(...)` throws the `StopIteration` error, the loop stops. It looks as follows:"
   ]
  },
  {
   "cell_type": "code",
   "execution_count": null,
   "metadata": {},
   "outputs": [],
   "source": [
    "for s in X:\n",
    "    print(s)"
   ]
  },
  {
   "cell_type": "markdown",
   "metadata": {},
   "source": [
    "Sometimes we _do_ need the index of an element, or we simply want to keep track of the number of iterations we have done so far. Python has a special method that <i>indexes</i> the elements coming out of an iterator:"
   ]
  },
  {
   "cell_type": "code",
   "execution_count": null,
   "metadata": {},
   "outputs": [],
   "source": [
    "for e in enumerate(X):\n",
    "    print(e)"
   ]
  },
  {
   "cell_type": "markdown",
   "metadata": {},
   "source": [
    "`enumerate(...)` creates an iterator that &ldquo;wraps around&rdquo; the iterator for `X`. Instead of only returing the element in `X`, it return two-element tuples where the first element is the index and the second the element coming out of `X`'s iterator. We can write this code a bit nicer by using Python's tuple unpacking:\n"
   ]
  },
  {
   "cell_type": "code",
   "execution_count": null,
   "metadata": {},
   "outputs": [],
   "source": [
    "for (i,s) in enumerate(X):\n",
    "    print(i, s)\n",
    "\n",
    "# You can also leave away the paranthesis:\n",
    "for i,s in enumerate(X):\n",
    "    print(i, s)"
   ]
  },
  {
   "cell_type": "markdown",
   "metadata": {},
   "source": [
    "After this little technical excursion, let us look at how common tasks are accomplished with loops. The following examples are done with lists, but don't forget that the `for ... in` loop works for almost every Python data structure, even the ones in third-party libraries!"
   ]
  },
  {
   "cell_type": "markdown",
   "metadata": {},
   "source": [
    "<h2>Selecting elements</h2>\n",
    "\n"
   ]
  },
  {
   "cell_type": "markdown",
   "metadata": {},
   "source": [
    "Often we search a list for a certain element: the smallest, the largest, the element that most closely resembles a search pattern, etc.\n",
    "\n",
    "For example, the following loop searches for the smallest element in a list:"
   ]
  },
  {
   "cell_type": "code",
   "execution_count": null,
   "metadata": {},
   "outputs": [],
   "source": [
    "l = [0,4,1,7,23,8,1,-10,2,5,-1]\n",
    "\n",
    "# By hand\n",
    "smallest = l[0]\n",
    "for e in l:\n",
    "    if e < smallest:\n",
    "        smallest = e\n",
    "print(\"Smallest elements is\", smallest)"
   ]
  },
  {
   "cell_type": "markdown",
   "metadata": {},
   "source": [
    "This is such a common task that Python actually provides a shortcut to achieve the same. "
   ]
  },
  {
   "cell_type": "code",
   "execution_count": null,
   "metadata": {},
   "outputs": [],
   "source": [
    "# A python shortcut\n",
    "print(\"Smallest elements is\", min(l))"
   ]
  },
  {
   "cell_type": "markdown",
   "metadata": {},
   "source": [
    "As a rule, whenever you feel like you are solving a simple task in a &ldquo;too complicated&rdquo; way, try searching google for a more succinct solution.\n",
    "\n",
    "Sometimes we are not searching for a single element, but we want to &lsquo;filter out&rsquo; all elements that satisfy a certain test.\n",
    "For example, let us see how we can find all negative values inside a list of numbers:"
   ]
  },
  {
   "cell_type": "code",
   "execution_count": null,
   "metadata": {},
   "outputs": [],
   "source": [
    "l = [0,4,1,7,23,8,1,-10,2,5,-1]\n",
    "\n",
    "# By hand\n",
    "negatives = []\n",
    "for e in l:\n",
    "    if e < 0:\n",
    "        negatives.append(e)\n",
    "print(\"Negative elements are\", negatives)"
   ]
  },
  {
   "cell_type": "markdown",
   "metadata": {},
   "source": [
    "Again, Python offers a shorter way of accomplishing the same using so-called <i>list comprehensions</i>. "
   ]
  },
  {
   "cell_type": "code",
   "execution_count": null,
   "metadata": {},
   "outputs": [],
   "source": [
    "# A python shortcut\n",
    "print(\"Negative elements are\", [e for e in l if e < 0])"
   ]
  },
  {
   "cell_type": "markdown",
   "metadata": {},
   "source": [
    "User whichever variant you feel more comfortable with!\n",
    "\n",
    "Finally, let us see an example of a list containing something other than numbers, a list of strings. The following loop finds all words that have six or less letters:"
   ]
  },
  {
   "cell_type": "code",
   "execution_count": null,
   "metadata": {},
   "outputs": [],
   "source": [
    "words = ['droop','unprotective','mosaism',\n",
    "         'nesogaea','dislikeable','enthusiastical',\n",
    "         'jadeite','elem','inoculum','horripilating']\n",
    "\n",
    "# By hand\n",
    "short = []\n",
    "for w in words:\n",
    "    if len(w) <= 6:\n",
    "        short.append(w)\n",
    "        \n",
    "print(\"Short words:\", short)"
   ]
  },
  {
   "cell_type": "markdown",
   "metadata": {},
   "source": [
    "And a short version:"
   ]
  },
  {
   "cell_type": "code",
   "execution_count": null,
   "metadata": {},
   "outputs": [],
   "source": [
    "print(\"Short words:\", [w for w in words if len(w) <= 6])"
   ]
  },
  {
   "cell_type": "markdown",
   "metadata": {},
   "source": [
    "<h2>Transforming elements</h2>\n",
    "\n",
    "Another common case is that we want to compute something for every element in a list and return the list-of-results. For example, we might want to compute the squares of a list of numbers:"
   ]
  },
  {
   "cell_type": "code",
   "execution_count": null,
   "metadata": {},
   "outputs": [],
   "source": [
    "l = [1,2,3,4,5,6]\n",
    "\n",
    "# By hand\n",
    "squares = []\n",
    "for e in l:\n",
    "    squares.append(e**2)\n",
    "\n",
    "print(\"Squares: \", squares)\n",
    "\n",
    "# A python shortcut\n",
    "print(\"Squares: \", [e**2 for e in l])"
   ]
  },
  {
   "cell_type": "markdown",
   "metadata": {},
   "source": [
    "Or we want to find out the lengths of a list of words:"
   ]
  },
  {
   "cell_type": "code",
   "execution_count": null,
   "metadata": {},
   "outputs": [],
   "source": [
    "words = ['droop','unprotective','mosaism',\n",
    "         'bantoid','dislikeable','enthusiastical',\n",
    "         'jadeite','elem','inoculum','horripilating']\n",
    "\n",
    "# By hand\n",
    "lengths = []\n",
    "for w in words:\n",
    "    lengths.append(len(w))\n",
    "    \n",
    "print(\"Lengths:\", lengths)\n",
    "\n",
    "# A python shortcut\n",
    "print(\"Lengths:\", [len(w) for w in words])"
   ]
  },
  {
   "cell_type": "markdown",
   "metadata": {},
   "source": [
    "Or we want to apply a string operation to each string inside a list:"
   ]
  },
  {
   "cell_type": "code",
   "execution_count": null,
   "metadata": {},
   "outputs": [],
   "source": [
    "words = [\"backhanding\",\"beforehand\",\"behindhand\",\"byhand\",\"cowhand\",\"crosshand\",\"firsthand\",\"handball\"]\n",
    "\n",
    "# By hand\n",
    "res = []\n",
    "for w in words:\n",
    "    res.append(w.replace(\"hand\", \"foot\"))\n",
    "    \n",
    "print(\"Results:\", res)\n",
    "\n",
    "# A python shortcut\n",
    "print(\"Results:\", [w.replace(\"hand\", \"foot\") for w in words])"
   ]
  },
  {
   "cell_type": "markdown",
   "metadata": {},
   "source": [
    "<h2>Aggregating elements</h2>\n",
    "\n",
    "The last scenario we are looking it is aggregation, meaning that we compute a single thing from all elements in a list. One simple example is computing the sum for a list of numbers:"
   ]
  },
  {
   "cell_type": "code",
   "execution_count": null,
   "metadata": {},
   "outputs": [],
   "source": [
    "l = [1,2,3,4,5,6,7,8,9]\n",
    "\n",
    "# By hand\n",
    "s = 0\n",
    "for e in l:\n",
    "    s += e\n",
    "print(\"Sum of all elements is\", s)\n",
    "\n",
    "# A python shortcut\n",
    "print(\"Sum of all elements is\", sum(l))"
   ]
  },
  {
   "cell_type": "markdown",
   "metadata": {},
   "source": [
    "Or we might want to join a list of strings into one long string:"
   ]
  },
  {
   "cell_type": "code",
   "execution_count": null,
   "metadata": {},
   "outputs": [],
   "source": [
    "words = ['droop','unprotective','mosaism','bantoid']\n",
    "\n",
    "# By hand\n",
    "res = \"\"\n",
    "for w in words:\n",
    "    res += w\n",
    "\n",
    "print(\"Result:\", res)\n",
    "\n",
    "# A python shortcut\n",
    "print(\"Result:\", ''.join(res)) "
   ]
  },
  {
   "cell_type": "markdown",
   "metadata": {},
   "source": [
    "<h2>Combining these patterns: a few tasks!</h2>\n",
    "\n",
    "> Compute the average of the list below, that is, the sum of elements in it divided by the length of the list."
   ]
  },
  {
   "cell_type": "code",
   "execution_count": null,
   "metadata": {},
   "outputs": [],
   "source": [
    "l = [60,12,20,3,45,7,133]\n",
    "\n",
    "# The answer should be 40."
   ]
  },
  {
   "cell_type": "markdown",
   "metadata": {},
   "source": [
    "> For the below list of words, compute how often each letter\n",
    "occurs in total.\n",
    "\n",
    "Hint: you can use Python's `Counter` data structure for this task.\n",
    "You need to import it from the `collections` package. For a word `w`,\n",
    "`Counter(w)` will count the letters in `w`. You can further add two counters together using `+`. Try these operations first in a cell to see what happens!"
   ]
  },
  {
   "cell_type": "code",
   "execution_count": null,
   "metadata": {},
   "outputs": [],
   "source": [
    "words = [\"backhanding\",\"beforehand\",\"behindhand\",\"byhand\",\"cowhand\",\"crosshand\",\"firsthand\",\"handball\"]\n"
   ]
  },
  {
   "cell_type": "markdown",
   "metadata": {},
   "source": [
    "> Compute, for the following list of words, the total length of all words that contain the letter &lsquo;a&rsquo;\n",
    "\n",
    "Hint: For a word `w`, you can use `'a' in w` to test whether the letter &lsquo;a&rsquo; appears in `w`."
   ]
  },
  {
   "cell_type": "code",
   "execution_count": null,
   "metadata": {},
   "outputs": [],
   "source": [
    "words = ['droop','unprotective','mosaism',\n",
    "         'bantoid','dislikeable','enthusiastical',\n",
    "         'jadeite','elem','inoculum','horripilating']\n",
    "\n",
    "# The answer thould be 59"
   ]
  },
  {
   "cell_type": "code",
   "execution_count": null,
   "metadata": {},
   "outputs": [],
   "source": []
  }
 ],
 "metadata": {
  "kernelspec": {
   "display_name": "Python 3",
   "language": "python",
   "name": "python3"
  },
  "language_info": {
   "codemirror_mode": {
    "name": "ipython",
    "version": 3
   },
   "file_extension": ".py",
   "mimetype": "text/x-python",
   "name": "python",
   "nbconvert_exporter": "python",
   "pygments_lexer": "ipython3",
   "version": "3.7.2"
  }
 },
 "nbformat": 4,
 "nbformat_minor": 2
}
