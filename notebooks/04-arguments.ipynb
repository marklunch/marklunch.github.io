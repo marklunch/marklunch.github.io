{
 "cells": [
  {
   "cell_type": "markdown",
   "metadata": {},
   "source": [
    "Before we start, run the code cell below for a nicer layout."
   ]
  },
  {
   "cell_type": "code",
   "execution_count": 1,
   "metadata": {},
   "outputs": [
    {
     "data": {
      "text/html": [
       "<style>\n",
       "h1 { margin-top: 3em !important; }\n",
       "h2 { margin-top: 2em !important; }\n",
       "h3 { margin-top: 1em !important; }\n",
       "#notebook-container { \n",
       "    width: 50% !important; \n",
       "    min-width: 800px;\n",
       "}\n",
       "</style>"
      ],
      "text/plain": [
       "<IPython.core.display.HTML object>"
      ]
     },
     "metadata": {},
     "output_type": "display_data"
    }
   ],
   "source": [
    "%%html\n",
    "<style>\n",
    "h1 { margin-top: 3em !important; }\n",
    "h2 { margin-top: 2em !important; }\n",
    "h3 { margin-top: 1em !important; }\n",
    "#notebook-container { \n",
    "    width: 50% !important; \n",
    "    min-width: 800px;\n",
    "}\n",
    "</style>"
   ]
  },
  {
   "cell_type": "markdown",
   "metadata": {},
   "source": [
    "<h1>Function arguments in python</h1>\n",
    "\n",
    "We have seen how functions are helpful to make our code more readable\n",
    "and concise. Python has few advanced languages features that help to make functions more versatile and I'd like you to introduce you to them. You might not need to use these features in the near future, but you <i>will</i> come across libraries that use them. \n",
    "\n",
    "<h2>Default values</h2>\n",
    "\n",
    "A lot of the time we program a function and realize later (after having used it abundantly in the rest of our code) that we need to sometimes change how the function works by providing an additional parameter. We only need this additional feature in a few select places, so it would be very annoying if we have to go and change the rest of our code!\n",
    "\n",
    "Here default values are a great tool. It allows us to create an <i>optional</i> argument that, if not explicitly provided, simply takes on the default value we set it to.\n",
    "\n",
    "Let's say that we started out with the following function:"
   ]
  },
  {
   "cell_type": "code",
   "execution_count": 4,
   "metadata": {},
   "outputs": [
    {
     "data": {
      "text/plain": [
       "'hello hello'"
      ]
     },
     "execution_count": 4,
     "metadata": {},
     "output_type": "execute_result"
    }
   ],
   "source": [
    "def repeat(s):\n",
    "    return s+\" \"+s\n",
    "\n",
    "repeat(\"hello\")"
   ]
  },
  {
   "cell_type": "markdown",
   "metadata": {},
   "source": [
    "Let's say we sometimes want to specify how often the string is supposed to be repeated, but we do want to be able to call the function like before and still have it double the input string. We can achieve this as follows:"
   ]
  },
  {
   "cell_type": "code",
   "execution_count": 9,
   "metadata": {},
   "outputs": [
    {
     "name": "stdout",
     "output_type": "stream",
     "text": [
      "hello hello\n",
      "jello jello jello jello jello\n"
     ]
    }
   ],
   "source": [
    "def repeat(s, repeat=2):\n",
    "    res = s\n",
    "    for _ in range(repeat-1):\n",
    "        res += \" \" + s\n",
    "    return res\n",
    "\n",
    "print(repeat(\"hello\")) # Still works\n",
    "print(repeat(\"jello\", 5))"
   ]
  },
  {
   "cell_type": "markdown",
   "metadata": {},
   "source": [
    "We changed the innter mechanics of the function considerably and provided a way of modifying its behavior with the optional argument `repeat`, but its <i>also</i> can be called exactly as before.\n",
    "\n",
    "<h2>Named arguments</h2>\n",
    "\n",
    "We usually call a function by providing arguments in a certain order:\n",
    "when we call `math.pow(x,y)`, for example, we know that it computes\n",
    "$x^y$ where `x` is the first argument we provide and `y` the second.\n",
    "\n",
    "For many functions (not `math.pow`!) Python also allows us to pass\n",
    "arguments via their <i>name</i>! Passing arguments by their name looks as follows:"
   ]
  },
  {
   "cell_type": "code",
   "execution_count": 20,
   "metadata": {},
   "outputs": [
    {
     "name": "stdout",
     "output_type": "stream",
     "text": [
      "8\n",
      "8\n",
      "8\n"
     ]
    }
   ],
   "source": [
    "def f(x,y):\n",
    "    return x**y\n",
    "\n",
    "print(f(2,3))\n",
    "print(f(x=2,y=3))\n",
    "print(f(y=3,x=2)) # The order is not important!"
   ]
  },
  {
   "cell_type": "markdown",
   "metadata": {},
   "source": [
    "These two features, named arguments and default values, work very well together (and we will see how that works in our favour when using `matplotlib`!). Imagine having a function that does something very complex with a lot of different arguments, but most of the time we only need to set a few of them:"
   ]
  },
  {
   "cell_type": "code",
   "execution_count": 30,
   "metadata": {},
   "outputs": [
    {
     "name": "stdout",
     "output_type": "stream",
     "text": [
      "Hello, Shelly!\n",
      "Hello, Dr. Jacoby!\n",
      "Good morning, Agent Cooper!\n",
      "Good evening, Agent Cooper! Welcome back!\n",
      "Hello, Deputy Andy Brennan!\n"
     ]
    }
   ],
   "source": [
    "def greeting(name, title=None, start=\"Hello\", returning=False):\n",
    "    greet = start+\",\"\n",
    "    if title:\n",
    "        greet += \" \"+title\n",
    "    greet += \" \"+name+\"!\"\n",
    "    \n",
    "    if returning:\n",
    "        greet += \" Welcome back!\"\n",
    "    \n",
    "    print(greet)\n",
    "    \n",
    "    \n",
    "greeting(\"Shelly\")\n",
    "greeting(\"Jacoby\", title=\"Dr.\")\n",
    "greeting(\"Cooper\", title=\"Agent\", start=\"Good morning\")\n",
    "greeting(\"Cooper\", title=\"Agent\", start=\"Good evening\", returning=True)\n",
    "greeting(\"Andy Brennan\", title=\"Deputy\")"
   ]
  },
  {
   "cell_type": "markdown",
   "metadata": {},
   "source": [
    "Keep these features in mind when using Python libraries: many functions and methods offer a lot of customization beyond the mandatory parameters. You can find those in the respective documentation or by using the Python `help(...)` feature. Even for our simple `greeting` function, `help` can tell us the named arguments (although not what they do, we did not provide any documentation to tell Python that):"
   ]
  },
  {
   "cell_type": "code",
   "execution_count": 32,
   "metadata": {},
   "outputs": [
    {
     "name": "stdout",
     "output_type": "stream",
     "text": [
      "Help on function greeting in module __main__:\n",
      "\n",
      "greeting(name, title=None, start='Hello', returning=False)\n",
      "\n"
     ]
    }
   ],
   "source": [
    "help(greeting)"
   ]
  }
 ],
 "metadata": {
  "kernelspec": {
   "display_name": "Python 3",
   "language": "python",
   "name": "python3"
  },
  "language_info": {
   "codemirror_mode": {
    "name": "ipython",
    "version": 3
   },
   "file_extension": ".py",
   "mimetype": "text/x-python",
   "name": "python",
   "nbconvert_exporter": "python",
   "pygments_lexer": "ipython3",
   "version": "3.6.5"
  }
 },
 "nbformat": 4,
 "nbformat_minor": 2
}
