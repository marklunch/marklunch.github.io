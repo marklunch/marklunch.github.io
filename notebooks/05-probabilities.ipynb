{
 "cells": [
  {
   "cell_type": "markdown",
   "metadata": {
    "slideshow": {
     "slide_type": "slide"
    }
   },
   "source": [
    "<h1 class=\"lecture\">Probabilities</h1>"
   ]
  },
  {
   "cell_type": "code",
   "execution_count": 2,
   "metadata": {
    "slideshow": {
     "slide_type": "slide"
    }
   },
   "outputs": [],
   "source": [
    "%run fds.py"
   ]
  },
  {
   "cell_type": "code",
   "execution_count": 3,
   "metadata": {
    "scrolled": false,
    "slideshow": {
     "slide_type": "skip"
    }
   },
   "outputs": [
    {
     "data": {
      "text/html": [
       "<style>\n",
       "\n",
       "/*\n",
       "\tSolarized colours\n",
       "\t$base03:    #002b36;\n",
       "\t$base02:    #073642;\n",
       "\t$base01:    #586e75;\n",
       "\t$base00:    #657b83;\n",
       "\t$base0:     #839496;\n",
       "\t$base1:     #93a1a1;\n",
       "\t$base2:     #eee8d5;\n",
       "\t$base3:     #fdf6e3;\n",
       "\t$yellow:    #b58900;\n",
       "\t$orange:    #cb4b16;\n",
       "\t$red:       #dc322f;\n",
       "\t$magenta:   #d33682;\n",
       "\t$violet:    #6c71c4;\n",
       "\t$blue:      #268bd2;\n",
       "\t$cyan:      #2aa198;\n",
       "\t$green:     #859900;\n",
       "*/\n",
       "h1.lecture {\n",
       "  text-align: center;\n",
       "  font-weight: lighter;\n",
       "  font-size: 4em;\n",
       "  border-bottom: 2px solid #eee8d5;\n",
       "  margin-bottom: 2cm;\n",
       "  font-family: Raleway;\n",
       "}\n",
       "\n",
       "h1 {\n",
       "  font-family: Raleway !important;\n",
       "  font-weight: 400 !important;\n",
       "  font-size: 4em;\n",
       "  margin-top: 2em !important;\n",
       "}\n",
       "\n",
       "h2, h3, h4 {\n",
       "  font-family: Raleway !important;\n",
       "  font-weight: 500 !important;\n",
       "  font-size: 3em;\n",
       "}\n",
       "\n",
       ".slidesonly {\n",
       "  display: none;\n",
       "}\n",
       "\n",
       ".red      { color: #dc322f !important; }\n",
       ".yellow   { color: #b58900 !important; }\n",
       ".orange   { color: #cb4b16 !important; }\n",
       ".red      { color: #dc322f !important; }\n",
       ".magenta  { color: #d33682 !important; }\n",
       ".violet   { color: #6c71c4 !important; }\n",
       ".blue     { color: #268bd2 !important; }\n",
       ".cyan     { color: #2aa198 !important; }\n",
       ".green    { color: #859900 !important; }\n",
       "\n",
       ".bg-red      { background-color: #dc322f !important; }\n",
       ".bg-yellow   { background-color: #b58900 !important; }\n",
       ".bg-orange   { background-color: #cb4b16 !important; }\n",
       ".bg-red      { background-color: #dc322f !important; }\n",
       ".bg-magenta  { background-color: #d33682 !important; }\n",
       ".bg-violet   { background-color: #6c71c4 !important; }\n",
       ".bg-blue     { background-color: #268bd2 !important; }\n",
       ".bg-cyan     { background-color: #2aa198 !important; }\n",
       ".bg-green    { background-color: #859900 !important; }\n",
       "\n",
       ".body {\n",
       "  font-family: serif !important;\n",
       "}\n",
       "\n",
       ".notebook_app {\n",
       "  background-color: #eee8d5 !important;\n",
       "}\n",
       "\n",
       ".cell {\n",
       "  padding-right: 10ex !important;\n",
       "}\n",
       "\n",
       "#notebook-container {\n",
       "  background-color: #fdf6e3;\n",
       "}\n",
       "\n",
       ".large {\n",
       "  font-size: 130%;\n",
       "}\n",
       "\n",
       "/* Float first two cells to the left */\n",
       "#notebook-container > div:nth-child(2),\n",
       "#notebook-container > div:nth-child(3) {\n",
       "  opacity: 0.5;\n",
       "  position: fixed;\n",
       "  left: 30px;\n",
       "  width: 25%;\n",
       "  max-width: 500px;\n",
       "  top: 200px;\n",
       "}\n",
       "\n",
       "#notebook-container > div:nth-child(3) {\n",
       "  top: 300px;\n",
       "}\n",
       "\n",
       "#notebook-container {\n",
       "  width: 50%;\n",
       "  min-width: 900px !important;\n",
       "}\n",
       "\n",
       "div.prompt {\n",
       "  min-width: 10ex !important; /* Less white space on the left */\n",
       "  color: #839496 !important;\n",
       "}\n",
       "\n",
       "/*\n",
       "  General-purpose classes\n",
       "*/\n",
       ".rotate {\n",
       "  writing-mode: sideways-lr !important;\n",
       "  writing-mode: vertical-rl;\n",
       "}\n",
       "\n",
       "/* Modify colours of cell selection outline */\n",
       "div.cell.selected.rendered::before {\n",
       "  background-color: #2aa198 !important;\n",
       "}\n",
       "\n",
       "div.cell.selected.unrendered::before {\n",
       "  background-color: #268bd2 !important;\n",
       "}\n",
       "\n",
       "div.cell.selected {\n",
       "  border-color: #eee8d5 !important;\n",
       "}\n",
       "\n",
       "pre.data {\n",
       "  color: #073642 !important;\n",
       "  background-color: #eee8d5 !important;\n",
       "  padding: .5em;\n",
       "}\n",
       "\n",
       "blockquote {\n",
       "  color: #073642 !important;\n",
       "  background-color: #eee8d5 !important;\n",
       "  border: 0 !important;\n",
       "}\n",
       "\n",
       "\n",
       ".todo {\n",
       "  font-size: 1.2em;\n",
       "  color: red !important;\n",
       "}\n",
       "\n",
       ".half { \n",
       "  width: 50%; \n",
       "  vertical-align: top;\n",
       "  margin: 0px; \n",
       "  display: inline-block;\n",
       "}\n",
       ".half.right { margin-left: -.5em; }\n",
       "\n",
       "/* Quiz headline */\n",
       ".quiz:before {\n",
       "  content: 'âš¡ Lightning five âš¡   ';\n",
       "  color: #ffffff;\n",
       "  text-shadow: 0px 0px 2px #ffff00, 0px 0px 5px #b58900;\n",
       "}\n",
       "\n",
       ".quiz {\n",
       "  padding: 2.5em 0em 1.5em 20px;\n",
       "  background: transparent url('../style/quiz.svg') no-repeat left top;\n",
       "  background-size: auto auto !important;\n",
       "}\n",
       "\n",
       "/* Boxes */\n",
       ".qbox, .hbox {\n",
       "  display: block !important; /* Some name-clash with jupyter css */\n",
       "  padding: 1em 1em 1em 60px;\n",
       "  background-color: #eee8d5;\n",
       "  border-radius: 5px;\n",
       "  background: #eee8d5 url('../style/question_mark.svg') no-repeat left top;\n",
       "}\n",
       "\n",
       ".hbox { background-image: url('../style/exclamation_mark.svg');}\n",
       "\n",
       ".tbox {\n",
       "  background-color: #eee8d5;\n",
       "  border-radius: 5px;\n",
       "  padding: 1em 1em 1em 1em;\n",
       "  margin-top: 1.4em;\n",
       "}\n",
       "\n",
       ".tbox .title {\n",
       "  font-size: 1.5em;\n",
       "  font-weight: bold;\n",
       "  margin-top: -1em;\n",
       "  margin-bottom: .4em;\n",
       "\tcolor: #b58900;\n",
       "  text-shadow: 2px 2px #fdf6e3, -2px 2px #fdf6e3, 2px -2px #fdf6e3, -2px -2px #fdf6e3;\n",
       "}\n",
       "\n",
       ".tbox .title.right {\n",
       "  text-align: right;\n",
       "}\n",
       "\n",
       ".center { text-align: center; }\n",
       ".center > img { display: block; margin: 0px auto !important; }\n",
       ".center > div { display: block; margin: 0px auto !important; }\n",
       "\n",
       "\n",
       "/* 'mathblocks' construct */\n",
       ".mathblocks {\n",
       "  text-align: center;\n",
       "}\n",
       "\n",
       ".mathblocks div {\n",
       "  display: inline-block;\n",
       "  margin: 1em;\n",
       "  text-align: center;\n",
       "}\n",
       "\n",
       ".text_cell_render {\n",
       "  border: 0 !important;\n",
       "}\n",
       "\n",
       ".text_cell_render * {\n",
       "  color: #002b36;\n",
       "}\n",
       "\n",
       "\n",
       "/* Simple single-character boxes */\n",
       "\n",
       "div.blocks {\n",
       "  display: inline-table;\n",
       "  font-size: 1.2em;\n",
       "}\n",
       "\n",
       "div.blocks > div {\n",
       "  display: table-cell;\n",
       "  width: 1.4em;\n",
       "  height: 1.2em;\n",
       "  text-align: center;\n",
       "  border: 1px solid #586e75;\n",
       "  background-color: #eee8d5;\n",
       "  border-radius: 3px;\n",
       "}\n",
       "\n",
       "/* Hidden answers, revealed on click */\n",
       "\n",
       ".answer {\n",
       "  padding: .75em .5em .5em .5em;\n",
       "  margin: 3px;\n",
       "  border-radius: 5px;\n",
       "  background: #2aa198 url('../style/show_answer.svg') no-repeat center center;\n",
       "}\n",
       "\n",
       ".answer, .answer * {\n",
       "  color: transparent;\n",
       "}\n",
       "\n",
       ".answer:hover {\n",
       "  background-color: transparent;\n",
       "  background-image: none;\n",
       "}\n",
       "\n",
       ".answer:hover, .answer:hover * {\n",
       "  color: inherit;\n",
       "}\n",
       "\n",
       "/* Center plots */\n",
       ".output_png {\n",
       "    display: table-cell;\n",
       "    text-align: center;\n",
       "    vertical-align: middle;\n",
       "}\n",
       "\n",
       "/*\n",
       "  Table styles\n",
       "*/\n",
       "table, table.list {\n",
       "  width: 95% !important;\n",
       "  font-size: .9em !important;\n",
       "  table-layout: fixed !important;\n",
       "}\n",
       "\n",
       ".output_area table {\n",
       "  width: 100% !important;\n",
       "}\n",
       "\n",
       "table th {\n",
       "  text-align: center !important;\n",
       "}\n",
       "\n",
       "table td {\n",
       "  text-align: left !important;\n",
       "}\n",
       "\n",
       "table tr:nth-child(even) { background: #fdf6e3 !important;}\n",
       "table tr:nth-child(odd)  { background: #eee8d5 !important;}\n",
       "table tr:hover           {  }\n",
       "\n",
       "table tr.light { background: #fdf6e3 !important;}\n",
       "table tr.dark  { background: #eee8d5 !important;}\n",
       "\n",
       "table.list tr {\n",
       "    counter-increment: rowNumber;\n",
       "}\n",
       "\n",
       "table.list tr::before {\n",
       "    content: counter(rowNumber) \".  \";\n",
       "    width: 1.5em;\n",
       "    font-weight: bold;\n",
       "    vertical-align: middle;\n",
       "    text-align: left;\n",
       "    font-size: 1.1em;\n",
       "    padding-left: 0.5em;\n",
       "    display: table-cell;\n",
       "}\n",
       "\n",
       "/*\n",
       "  Playing cards\n",
       "*/\n",
       "\n",
       ".cards {\n",
       "  color: #002b36;\n",
       "  font-size: 1.5em;\n",
       "}\n",
       "\n",
       ".cards > b {\n",
       "  color: #dc322f;\n",
       "}\n",
       "\n",
       "\n",
       "/*\n",
       "  IPython widgets\n",
       "*/\n",
       ".widget-label {\n",
       "  font-size: 1.3em;\n",
       "  width: 200px;\n",
       "}\n",
       "\n",
       ".widget-readout {\n",
       "  font-size: 1.2em;\n",
       "}\n",
       "\n",
       ".rise-enabled .widget-label {\n",
       "  font-size: 1.3em !important;\n",
       "  width: 200px !important;\n",
       "}\n",
       "\n",
       ".rise-enabled .widget-readout {\n",
       "  font-size: 1.2em !important;\n",
       "}\n",
       "\n",
       ".rise-enabled div.prompt {\n",
       "  min-width: 10px !important;\n",
       "}\n",
       "\n",
       ".rise-enabled div.output_subarea {\n",
       "  max-width: 100% !important;\n",
       "  margin-bottom: 4em !important; /* Allow to scroll further up on slide */\n",
       "}\n",
       "\n",
       "\n",
       "/*\n",
       "   Dark solarized theme for code-mirror\n",
       "   http://ethanschoonover.com/solarized.\n",
       "   Modified to have slightly brighter variables\n",
       "*/\n",
       "\n",
       ".CodeMirror {\n",
       "  line-height: 1.45em !important;\n",
       "  color-profile: sRGB !important;\n",
       "  rendering-intent: auto !important;\n",
       "  color: #93a1a1 !important;\n",
       "  background-color: #002b36 !important;\n",
       "  text-shadow: #002b36 0 1px !important;\n",
       "}\n",
       "\n",
       ".CodeMirror-widget {\n",
       "  text-shadow: none !important;\n",
       "}\n",
       "\n",
       ".cm-header { color: #586e75 !important; }\n",
       ".cm-quote { color: #93a1a1 !important; }\n",
       "\n",
       ".cm-keyword { color: #cb4b16 !important; }\n",
       ".cm-atom { color: #d33682 !important; }\n",
       ".cm-number { color: #d33682 !important; }\n",
       ".cm-def { color: #2aa198 !important; }\n",
       "\n",
       ".cm-variable { color: #93a1a1 !important; }\n",
       ".cm-variable-2 { color: #b58900 !important; }\n",
       ".cm-variable-3,  .cm-type { color: #6c71c4 !important; }\n",
       "\n",
       ".cm-property { color: #2aa198 !important; }\n",
       ".cm-operator { color: #6c71c4 !important; }\n",
       "\n",
       ".cm-comment { color: #586e75 !important; font-style:italic !important; }\n",
       "\n",
       ".cm-string { color: #859900 !important; }\n",
       ".cm-string-2 { color: #b58900 !important; }\n",
       "\n",
       ".cm-meta { color: #859900 !important; }\n",
       ".cm-qualifier { color: #b58900 !important; }\n",
       ".cm-builtin { color: #d33682 !important; }\n",
       ".cm-bracket { color: #cb4b16 !important; }\n",
       ".CodeMirror-matchingbracket { color: #859900 !important; }\n",
       ".CodeMirror-nonmatchingbracket { color: #dc322f !important; }\n",
       ".cm-tag { color: #93a1a1 !important; }\n",
       ".cm-attribute { color: #2aa198 !important; }\n",
       ".cm-hr {\n",
       "  color: transparent !important;\n",
       "  border-top: 1px solid #586e75 !important;\n",
       "  display: block !important;\n",
       "}\n",
       ".cm-link { color: #93a1a1 !important; cursor: pointer !important; }\n",
       ".cm-special { color: #6c71c4 !important; }\n",
       ".cm-em {\n",
       "  color: #999 !important;\n",
       "  text-decoration: underline !important;\n",
       "  text-decoration-style: dotted !important;\n",
       "}\n",
       ".cm-error,\n",
       ".cm-invalidchar {\n",
       "  color: #586e75 !important;\n",
       "  border-bottom: 1px dotted #dc322f !important;\n",
       "}\n",
       "\n",
       "div.CodeMirror-selected { background: #073642 !important; }\n",
       ".CodeMirror ::selection { background: rgba(7, 54, 66, 0.99) !important; }\n",
       ".CodeMirror-line::-moz-selection, .CodeMirror-line > span::-moz-selection,\n",
       ".CodeMirror-line > span > span::-moz-selection { background: rgba(7, 54, 66, 0.99) !important; }\n",
       "\n",
       ".CodeMirror div.CodeMirror-cursor {\n",
       "   border-left: 1px solid #cb4b16 !important;\n",
       " }\n",
       " \n",
       " \n",
       " \n",
       " /* Printout options */\n",
       " \n",
       "@media print {\n",
       "  .CodeMirror * {\n",
       "      font-size: 10pt !important;\n",
       "  }\n",
       "  \n",
       "  #notebook-container {\n",
       "    background-color: #ffffff !important;\n",
       "  }\n",
       "  \n",
       "  #notebook {\n",
       "    font-size: 18pt !important;\n",
       "    line-height: 18pt !important;\n",
       "  }\n",
       "  \n",
       "  #notebook-container {\n",
       "    width: 100% !important;\n",
       "    margin: 0 !important;\n",
       "    padding: 0 !important;\n",
       "  }  \n",
       "  \n",
       "  .prompt.output_prompt, .prompt.input_prompt  {\n",
       "    display: none !important;\n",
       "  }\n",
       "  \n",
       "  .output_subarea {\n",
       "    max-width: 100% !important;\n",
       "  }\n",
       "  \n",
       "  .output_png img {\n",
       "    width: 100% !important;\n",
       "    max-width: 100% !important;\n",
       "    height: auto !important;\n",
       "  }\n",
       "    \n",
       "  table, .output_area table, table.list { \n",
       "    width: 100% !important;\n",
       "  }\n",
       "    \n",
       "  .large {\n",
       "    font-size: 120%;\n",
       "  }  \n",
       "  \n",
       "  .qbox, .hbox {\n",
       "    border: 1px solid #073642 !important;\n",
       "    border-radius: 5;\n",
       "  }\n",
       "  \n",
       "  h1.lecture {\n",
       "    font-size: 2em !important;\n",
       "  }\n",
       "  \n",
       "  table {\n",
       "    border-top: 2px solid #073642 !important;\n",
       "    border-bottom: 2px solid #073642 !important;\n",
       "  }\n",
       "  \n",
       "  table th {\n",
       "    border-bottom: 1px solid  #073642 !important;\n",
       "  }\n",
       "\n",
       "  /* Hide first two cells */  \n",
       "  #notebook-container > div:nth-child(2),\n",
       "  #notebook-container > div:nth-child(3) {\n",
       "    display: none;\n",
       "  }\n",
       "  \n",
       "  .cards {\n",
       "    font-size: 1.2em; \n",
       "  }\n",
       "}\n",
       "</style>\n"
      ],
      "text/plain": [
       "<IPython.core.display.HTML object>"
      ]
     },
     "execution_count": 3,
     "metadata": {},
     "output_type": "execute_result"
    }
   ],
   "source": [
    "%matplotlib inline\n",
    "from IPython.display import HTML\n",
    "HTML(filename='notebook.html')"
   ]
  },
  {
   "cell_type": "markdown",
   "metadata": {
    "slideshow": {
     "slide_type": "slide"
    }
   },
   "source": [
    "<h2>Last week's quiz</h2>\n",
    "\n",
    "Selected answers of the after-lecture quiz:\n",
    "\n",
    "Given the dataset $\\mathbf x = (1,1,2,5,6,9)$,\n",
    "\n",
    "1. What is the mean of $\\mathbf x$?\n",
    "\n",
    "<div class=\"half left\">\n",
    "<blockquote class=\"green large\">\n",
    "      4\n",
    "</blockquote>\n",
    "</div>\n",
    "    \n",
    "<div class=\"half right\">\n",
    "<blockquote class=\"red large\">\n",
    "      5\n",
    "</blockquote>\n",
    "</div>\n",
    "\n",
    "<br/>\n",
    "\n",
    "2. What is the mode of $\\mathbf x$?\n",
    "\n",
    "<div class=\"half left\">\n",
    "<blockquote class=\"green large\">\n",
    "      1\n",
    "</blockquote>\n",
    "</div>\n",
    "    \n",
    "<div class=\"half right\">\n",
    "<blockquote class=\"yellow\">\n",
    "      The most frequent value in a data set.\n",
    "</blockquote>\n",
    "</div>\n",
    "\n",
    "3. What is the median of $\\mathbf x$?\n",
    "\n",
    "<div class=\"half left\">\n",
    "<blockquote class=\"green large\">\n",
    "      3.5\n",
    "</blockquote>\n",
    "</div>\n",
    "    \n",
    "<div class=\"half right\">\n",
    "<blockquote class=\"bg-yellow\">\n",
    "      $x_{(n+1)/2}$ etc.\n",
    "</blockquote>\n",
    "</div>\n",
    "\n",
    "\n",
    "\n"
   ]
  },
  {
   "cell_type": "markdown",
   "metadata": {
    "slideshow": {
     "slide_type": "slide"
    }
   },
   "source": [
    "<h2>Experiments, outcomes, events</h2>\n",
    "\n",
    "A <i>random experiment</i> or <i>random trial</i> is a fixed process whose\n",
    "outcome in some way depends on chance. Mathematically, an experiment has \n",
    "the following ingredients:\n",
    "\n",
    "<ul>\n",
    "    <li>A set of possible outcomes $\\Omega$, also called the <i>sample space</i>\n",
    "    <li>A set of <i>events</i> $\\mathcal F \\subseteq 2^{\\Omega}$\n",
    "    <li>A <i>probability measure</i> $P$ that assigns probabilities to the events\n",
    "</ul>\n",
    "\n",
    "We will mostly concern ourselves with <b>discrete</b> experiments in which\n",
    "the set of outcomes is some (possibly infinite) set of outcomes\n",
    "$\\{\\omega_1, \\omega_2, \\ldots\\}$. In this case, it is enough that we define\n",
    "what the probability of each individual outcome is because those probabilities\n",
    "in turn completely define the probabilities of all possible events.\n",
    "\n",
    "The probability of an outcome or event is a number in $[0,1]$ where an event with\n",
    "probability $0$ never happens and an event with probability $1$ always happens<sup><a id=\"ref1\" href=\"#fn1\">1</a></sup>. We can translate probabilities\n",
    "to percentages by multiplying them with 100, so a probability of $1/4$ is the\n",
    "same as $25\\%$ or a probabiltiy of $1/2$ is the same as $50\\%$.\n",
    "\n",
    "The <i>events</i> we defined are simply <b>sets of outcomes</b> that we\n",
    "are interested in.\n",
    "\n",
    "<hr />\n",
    "\n",
    "<sup id=\"fn1\">1. This is not stricly true once we consider <i>continuous</i> sample spaces like $\\mathbb R$ <a href=\"#ref1\">↩</a></sup>\n",
    "\n"
   ]
  },
  {
   "cell_type": "markdown",
   "metadata": {
    "slideshow": {
     "slide_type": "slide"
    }
   },
   "source": [
    "<h2>Example: tossing coins</h2>\n",
    "\n",
    "Let us formalize the simple exerpiment of tossing a fair coin. The set of\n",
    "possible outcomes is $\\Omega = \\{H, T\\}$: the coin will either face heads up or tails up.\n",
    "\n",
    "Our probability measure $P$ is very simple: we have that $P(H) = P(T) = 1/2$.\n",
    "There really aren't any interesting events we can defined here, since \n",
    "$2^\\Omega = \\{\\emptyset, \\{H\\}, \\{T\\}, \\{H,T\\}\\}$ only contains the trivial\n",
    "events $\\emptyset$ (with a probability of zero) and $\\{H,T\\} = \\Omega$ (with a probability of one) as well as the two events $\\{H\\}$, $\\{T\\}$ which coincide with single outcomes.\n",
    "\n",
    "Let's extend our experiment to tossing two coins in sequence. Now the set of possible outcomes is\n",
    "$\\Omega = \\{HH, HT, TH, TT\\}$. Assuming both coins are fair, the probability measure is defined by\n",
    "\n",
    "$$\n",
    "    P(HH) = P(HT) = P(TH) = P(TT) = 1/4\n",
    "$$"
   ]
  },
  {
   "cell_type": "markdown",
   "metadata": {
    "slideshow": {
     "slide_type": "slide"
    }
   },
   "source": [
    "<h2>Two-coin events</h2>\n",
    "\n",
    "<table>\n",
    "    <tr>\n",
    "        <th style=\"width: 30%\"></th>\n",
    "        <th>Event</th>\n",
    "        <th>Probability</th>\n",
    "    </tr>\n",
    "    <tr>\n",
    "        <td></td>\n",
    "        <td>$\\{HH, HT, TH, TT\\}$</td>\n",
    "        <td><div class=\"answer\">$P(\\Omega) = 1$</div></td>\n",
    "    </tr>\n",
    "    <tr>\n",
    "        <td></td>\n",
    "        <td>$\\emptyset$</td>\n",
    "        <td><div class=\"answer\">$P(\\emptyset) = 0$</div></td>\n",
    "    </tr>    \n",
    "    <tr>\n",
    "        <td>Both coins come up the same</td>\n",
    "        <td><div class=\"answer\">$\\{HH, TT\\}$</div></td>\n",
    "        <td><div class=\"answer\">$P(\\{HH, TT\\}) = 1/2$</div></td>\n",
    "    </tr>\n",
    "    <tr>\n",
    "        <td>At least one coin shows tails</td>\n",
    "        <td><div class=\"answer\">$\\{HT, TH, TT\\}$</div></td>\n",
    "        <td><div class=\"answer\">$P(\\{HT, TH, TT\\}) = 3/4$</div></td>\n",
    "    </tr>    \n",
    "</table>"
   ]
  },
  {
   "cell_type": "markdown",
   "metadata": {
    "slideshow": {
     "slide_type": "slide"
    }
   },
   "source": [
    "<h2>Example: rolling a die</h2>\n",
    "    \n",
    "Consider the experiment of rolling a fair, six-sided die. We can describe the possible outcomes as $\\Omega = \\{⚀,⚁,⚂,⚃,⚄,⚅\\}$ with the probabiltiy of each outcome equal to $1/6$.\n",
    "\n",
    "\n",
    "<table>\n",
    "    <tr>\n",
    "        <th style=\"width: 30%\"></th>\n",
    "        <th>Event</th>\n",
    "        <th>Probability</th>\n",
    "    </tr>\n",
    "    <tr>\n",
    "        <td>The die shows an even number</td>\n",
    "        <td><div class=\"answer\">$\\{⚁,⚃,⚅\\}$</div></td>\n",
    "        <td><div class=\"answer\">$P(\\{⚁,⚂,⚄\\}) = 1/2$</div></td>\n",
    "    </tr>\n",
    "    <tr>\n",
    "        <td>The die shows a number smaller than 3</td>\n",
    "        <td><div class=\"answer\">$\\{⚀,⚁\\}$</div></td>\n",
    "        <td><div class=\"answer\">$P(\\{⚀,⚁\\}) = 1/3$</div></td>\n",
    "    </tr>    \n",
    "    <tr>\n",
    "        <td>The die shows a prime number</td>\n",
    "        <td><div class=\"answer\">$\\{⚁,⚂,⚄\\}$</div></td>\n",
    "        <td><div class=\"answer\">$P(\\{⚁,⚂,⚄\\}) = 1/2$</div></td>\n",
    "    </tr>    \n",
    "    <tr>\n",
    "    <td>The die face is symmetric along a vertical line</td>\n",
    "        <td><div class=\"answer\">$\\{⚀,⚃,⚄,⚅\\}$</div></td>\n",
    "        <td><div class=\"answer\">$P(\\{⚀,⚃,⚄,⚅\\}) = 2/3$</div></td>\n",
    "    </tr>  \n",
    "</table>\n"
   ]
  },
  {
   "cell_type": "markdown",
   "metadata": {
    "slideshow": {
     "slide_type": "slide"
    }
   },
   "source": [
    "<div class=\"large hbox\">\n",
    "  Worksheets: Tasks 1) and 2)\n",
    "</div>"
   ]
  },
  {
   "cell_type": "markdown",
   "metadata": {
    "slideshow": {
     "slide_type": "slide"
    }
   },
   "source": [
    "<h2>Discrete distributions</h2>\n",
    "\n",
    "A discrete <i>probability distribution</i> or <i>probability mass function</i> is a function $f\\colon \\Omega \\to [0,1]$ which satisfies\n",
    "$$\n",
    "    \\sum_{\\omega \\in \\Omega} f(\\omega) = 1\n",
    "$$\n",
    "\n",
    "A simple but important distribution is the <i>uniform distribution</i> in which every outcome has the exact same probability. "
   ]
  },
  {
   "cell_type": "code",
   "execution_count": 11,
   "metadata": {
    "scrolled": true,
    "slideshow": {
     "slide_type": "fragment"
    }
   },
   "outputs": [
    {
     "data": {
      "image/png": "[encoded data removed]",
      "text/plain": [
       "<Figure size 2000x800 with 1 Axes>"
      ]
     },
     "metadata": {
      "needs_background": "light"
     },
     "output_type": "display_data"
    }
   ],
   "source": [
    "fig, ax = plt.subplots(figsize=(10,4), dpi=200)\n",
    "ax.scatter(range(1,7), [1/6]*6, color=rose)\n",
    "ax.vlines(range(1,7), 0, [1/6]*6, color=rose)\n",
    "ax.set_ylim(0,1)\n",
    "ax.set_title(\"pmf of a fair die\")\n",
    "pass"
   ]
  },
  {
   "cell_type": "markdown",
   "metadata": {
    "slideshow": {
     "slide_type": "slide"
    }
   },
   "source": [
    "<h2>Probabilities measures</h2>\n",
    "\n",
    "Given a probability distribution, we define the (discrete) <i>probability measure</i> for an experiment as\n",
    "$$\n",
    "    P[E \\in \\mathcal F] = \\sum_{\\omega \\in E} f(\\omega).\n",
    "$$\n",
    "\n",
    "The triple $(\\Omega, \\mathcal F, P)$ is called a <b>propability space</b>.\n",
    "\n",
    "Technically the measure $P$ is a function $P\\colon \\mathcal F \\to [0,1]$, but we use the notation $P[E]$ instead of $P(E)$ to clarify that it is a probability measure."
   ]
  },
  {
   "cell_type": "markdown",
   "metadata": {
    "slideshow": {
     "slide_type": "slide"
    }
   },
   "source": [
    "The definition of probability measures implies the following simple (but important) properties:\n",
    "\n",
    "<div class=\"hbox\">\n",
    "\\begin{align*}\n",
    "    P[\\Omega] &= 1 \\\\\n",
    "    P[\\bar A] &= 1 - P[A] \\\\\n",
    "\\end{align*}\n",
    "</div>\n",
    "\n",
    "$P[\\Omega] = \\sum_{\\omega \\in \\Omega} f(\\omega) = 1$\n",
    "\n",
    "$P[\\bar A] = P[\\Omega \\setminus A] = \\sum_{\\omega \\in \\Omega \\setminus A} f(\\omega) = \\sum_{\\omega \\in \\Omega} f(\\omega) - \\sum_{\\omega \\in A} f(\\omega)  \n",
    "          = 1 - P[A]$\n",
    "\n",
    "The above two properties also tell us that $P[\\emptyset] = 0$."
   ]
  },
  {
   "cell_type": "markdown",
   "metadata": {
    "slideshow": {
     "slide_type": "slide"
    }
   },
   "source": [
    "<h1>Combining events and experiments</h1>"
   ]
  },
  {
   "cell_type": "markdown",
   "metadata": {
    "slideshow": {
     "slide_type": "slide"
    }
   },
   "source": [
    "<h2>Union and intersection of events</h2>\n",
    "\n",
    "Let $A,B$ be events from the same probability space $(\\Omega, \\mathcal F, P)$\n",
    "and let $f$ be the probability density function associated with this space.\n",
    "\n",
    "Then\n",
    "\n",
    "\\begin{align*}\n",
    "    P[A \\cup B] &= \\sum_{\\omega \\in A \\cup B} f(\\omega) \\\\\n",
    "        &= \\sum_{\\omega \\in A} f(\\omega) + \\sum_{\\omega \\in B} f(\\omega) \n",
    "      - \\sum_{\\omega \\in A \\cap B} f(\\omega) \\\\\n",
    "      & = P[A] + P[B] - P[A \\cap B]\n",
    "\\end{align*}\n",
    "\n",
    "In particular, when $A \\cap B = \\emptyset$, it holds that $P[A \\cup B] = P[A] + P[B]$  (but <b>only</b> then!). This property of probability measures also holds in the more general case, not only the discrete case for which we have shown it here."
   ]
  },
  {
   "cell_type": "markdown",
   "metadata": {
    "slideshow": {
     "slide_type": "slide"
    }
   },
   "source": [
    "We can rearrange the previous equation to solve for the intersection:\n",
    "\n",
    "<div class=\"hbox\">\n",
    "\\begin{align*}\n",
    "    P[A \\cup B] &= P[A] + P[B] - P[A \\cap B] \\\\\n",
    "    P[A \\cap B] &= P[A] + P[B] - P[A \\cup B] \\\\\n",
    "\\end{align*}\n",
    "</div>"
   ]
  },
  {
   "cell_type": "markdown",
   "metadata": {
    "slideshow": {
     "slide_type": "slide"
    }
   },
   "source": [
    "<h2>Independence</h2>\n",
    "\n",
    "<br/>\n",
    "\n",
    "<div class=\"hbox\">\n",
    "    Two events $A,B$ are <i>independent</i> if \n",
    "    $P[A \\cap B] = P[A] P[B]$.\n",
    "</div>\n",
    "\n",
    "The easiest example of independent events come in the form\n",
    "of <i>repeated trials</i>. Let's say we flip a single fair coin, as we\n",
    "discussed we can model this experiment with the outcomes $\\Omega = \\{H,T\\}$\n",
    "and the probability measure $P[H] = P[T] = \\frac{1}{2}$.\n",
    "\n",
    "If we repeat the experiment&mdash;flip the coin twice&mdash; the second coin\n",
    "has exactly the same outcome and probability. But we can also see both flips\n",
    "as a joint experiment with outcomes $\\Omega' = \\{HH,TH,HT,HH\\}$ and\n",
    "probability measure $P'$. The independence of the two flips tells us that, for example, that\n",
    "\n",
    "$$\n",
    "    P'[HT] = P[H] \\cdot P[T] = \\frac{1}{2} \\cdot \\frac{1}{2} = \\frac{1}{4}.\n",
    "$$\n"
   ]
  },
  {
   "cell_type": "markdown",
   "metadata": {
    "slideshow": {
     "slide_type": "slide"
    }
   },
   "source": [
    "<h2>Conditional probabilities</h2>\n",
    "\n",
    "For events $A,B$ we define the <i>conditional probability</i> $P[A|B]$\n",
    "as the probability of $A$ <i>given that we know that $B$ happened</i>. \n",
    "\n",
    "To illustrate this concept, let's say that I roll a die in secret and look at it.\n",
    "Now I tell you that the die shows an <b>even</b> number. How does this change the probabilities of the outcomes? For example, $P[⚀|\\text{Die is even}]$ \n",
    "is zero whereas $P[⚁|\\text{Die is even}]$ is one-third. In fact:\n",
    "$$\n",
    "  P[x|\\text{Die is even}] = \\begin{cases}\n",
    "    1/3~&\\text{for}~x \\in \\{⚁,⚃,⚅\\} \\\\\n",
    "    0~&\\text{for}~x \\in \\{⚀,⚂,⚄\\} \\\\\n",
    "  \\end{cases}\n",
    "$$\n",
    "\n",
    "In general, we compute the conditional probability as follows:\n",
    "$$\n",
    "    P[A|B] = \\frac{P[A \\cap B]}{P[B]}\n",
    "$$\n",
    "In the above example, this would give\n",
    "$$\n",
    "    P[⚁|\\text{Die is even}] \n",
    "    = \\frac{P[⚁ \\cap \\text{Die is even}]}{P[\\text{Die is even}]} \n",
    "    = \\frac{P[⚁]}{P[\\text{Die is even}]} = \\frac{1/6}{1/2} = 1/3\n",
    "$$\n",
    "\n",
    "\n"
   ]
  },
  {
   "cell_type": "markdown",
   "metadata": {
    "slideshow": {
     "slide_type": "slide"
    }
   },
   "source": [
    "<div class=\"large hbox\">\n",
    "  Worksheets: Task 3)\n",
    "</div>"
   ]
  },
  {
   "cell_type": "markdown",
   "metadata": {
    "slideshow": {
     "slide_type": "slide"
    }
   },
   "source": [
    "<h2>Example: Drawing cards</h2>\n",
    "\n",
    "Consider the experiment of drawing two cards from a standard 52-card deck. Importantly, we <b>do not return</b> the first drawn card!\n",
    "What is the probability that both cards are red? \n",
    "\n",
    "The outcomes of our experiment are $\\Omega = \\{RR, RB, BR, BB\\}$. In experiments like this, it is often useful to consider it happening in <i>stages</i> which can model with events. Let $R_1 = \\{RR, RB\\}$ be the event that the first card is red and let $R_2 = \\{RR, BR\\}$ be the event that the second card is red. \n",
    "\n",
    "Then what we want to compute is $P[RR] = P[R_1 \\cap R_2]$. \n",
    "The intersection (the &lsquo;and&rsquo;) is often tricky to compute and \n",
    "it helps to rephrase it in terms of conditional probabilities:\n",
    "\n",
    "$$\n",
    "  P[R_1 \\cap R_2] = P[R_2|R_1] \\cdot P[R_1]\n",
    "$$\n",
    "\n",
    "\n",
    "We have that $P[R_1] = 26/52 = 1/2$: there are $52$ two cards in total of which $26$ are red. What about $P[R_2 | R_1]$? Well, if we <i>know</i> that the first card was red there are now $25$ red cards among the $51$ remaining ones. Hence\n",
    "\n",
    "$$\n",
    "  P[R_1 \\cap R_2] = \\frac{25}{51} \\cdot \\frac{1}{2} = \\frac{25}{102}\n",
    "$$"
   ]
  },
  {
   "cell_type": "markdown",
   "metadata": {
    "slideshow": {
     "slide_type": "slide"
    }
   },
   "source": [
    "If $A,B$ are independent events than we conclude that\n",
    "\n",
    "$$\n",
    "  P[A|B] = \\frac{P[A \\cap B]}{P[B} = \\frac{P[A] \\cdot P[B]}{P[B]} = P[A].\n",
    "$$\n",
    "\n",
    "Similarly it holds that $P[B|A] = P[B]$.\n",
    "\n",
    "<br/>\n",
    "\n",
    "<div class=\"hbox\">\n",
    "    If two events $A,B$ are independent then\n",
    "    $P[A|B] = P[A]$ and $P[B|A] = P[B]$.\n",
    "</div>"
   ]
  },
  {
   "cell_type": "markdown",
   "metadata": {
    "slideshow": {
     "slide_type": "slide"
    }
   },
   "source": [
    "<h2>Tree diagrams</h2>\n",
    "\n",
    "Figuring out conditional outcomes can get difficult very quickly. A great tool are <i>tree diagrams</i> to sort out the probabilities involved:\n",
    "\n",
    "<br/>\n",
    "\n",
    "<div class=\"center\">\n",
    "    <img style=\"width: 100%\" src=\"img/tree-diagram.svg\" />\n",
    "</div>"
   ]
  },
  {
   "cell_type": "markdown",
   "metadata": {
    "slideshow": {
     "slide_type": "slide"
    }
   },
   "source": [
    "<h2>Tree diagram: color of two cards</h2>\n",
    "\n",
    "Let's return to the example of drawing two cards and looking at their colour only.\n",
    "The tree diagram for this experiment looks as follows:\n",
    "\n",
    "<br/>\n",
    "\n",
    "<div class=\"center\">\n",
    "    <img style=\"width: 75%\" src=\"img/tree-diagram-cards.svg\" />\n",
    "</div>\n",
    "\n",
    "<br/>\n",
    "\n",
    "The following properties must always hold true in a tree diagram:\n",
    "\n",
    "<ol>\n",
    "    <li> The probability at a leaf is the product of the probabilities along the\n",
    "         path from the root to the leaf\n",
    "    <li> The probabilities of all leaves together sum to one\n",
    "    <li> The probabilities of a nodes' children sum to one\n",
    "</ol>\n"
   ]
  },
  {
   "cell_type": "markdown",
   "metadata": {
    "slideshow": {
     "slide_type": "slide"
    }
   },
   "source": [
    "<div class=\"large hbox\">\n",
    "  Worksheets: Task 4) and 5)\n",
    "</div>"
   ]
  },
  {
   "cell_type": "markdown",
   "metadata": {
    "slideshow": {
     "slide_type": "slide"
    }
   },
   "source": [
    "<h2>Random variables</h2>\n",
    "\n",
    "Let's say we play a game of dice where we throw two dice and then score the sum of their faces. Our <i>score</i> is a random quantity: it depends on certain events happening in the random experiment. For example, we score 2 points in the event $\\{⚀⚀\\}$ and we score 7 points in the event \n",
    "$\\{⚀⚅,⚁⚄,⚂⚃,⚃⚂,⚄⚁,⚅⚀\\}$.\n",
    "\n",
    "We describe such a dependent quantity as a <b>random variable</b>. Technically, a random variable over a probability space $(\\Omega, \\mathcal F, P)$ is a function $X\\colon \\mathcal F \\to \\mathbb R$. We can describe our\n",
    "dice-game score as the random variable $S$ define as follows:\n",
    "<br/>\n",
    "<div class=\"center\"><div style=\"width: 55%\">\n",
    "<table>\n",
    "    <tr><th>$E \\in \\mathcal F$</th><th style=\"width: 20%\">$S(E)$</th></tr>\n",
    "    <tr><td>$\\{⚀⚀\\}$</td><td>2</td></tr>\n",
    "    <tr><td>$\\{⚀\\!⚁,⚁\\!⚀\\}$</td><td>3</td></tr>\n",
    "    <tr><td>$\\{⚀\\!⚂,⚁\\!⚁,⚂\\!⚀\\}$</td><td>4</td></tr>\n",
    "    <tr><td>$\\{⚀\\!⚃,⚁\\!⚂,⚂\\!⚁,⚃\\!⚀\\}$</td><td>5</td></tr>\n",
    "    <tr><td>$\\{⚀\\!⚄,⚁\\!⚃,⚂\\!⚂,⚃\\!⚁,⚄\\!⚀\\}$</td><td>6</td></tr>\n",
    "    <tr><td>$\\{⚀\\!⚅,⚁\\!⚄,⚂\\!⚃,⚃\\!⚂,⚄\\!⚁,⚅\\!⚀\\}$</td><td>7</td></tr>\n",
    "    <tr><td>$\\{⚁\\!⚅,⚂\\!⚄,⚃\\!⚃,⚄\\!⚂,⚅\\!⚁\\}$</td><td>8</td></tr>\n",
    "    <tr><td>$\\{⚂\\!⚅,⚃\\!⚄,⚄\\!⚃,⚅\\!⚂\\}$</td><td>9</td></tr>\n",
    "    <tr><td>$\\{⚃\\!⚅,⚄\\!⚄,⚅\\!⚃\\}$</td><td>10</td></tr>\n",
    "    <tr><td>$\\{⚄\\!⚅,⚅\\!⚄\\}$</td><td>11</td></tr>\n",
    "    <tr><td>$\\{⚅\\!⚅\\}$</td><td>12</td></tr>    \n",
    "</table>\n",
    "</div></div>\n"
   ]
  },
  {
   "cell_type": "markdown",
   "metadata": {
    "slideshow": {
     "slide_type": "slide"
    }
   },
   "source": [
    "<h2>Random variables and probabilities</h2>\n",
    "\n",
    "We can ask questions about the value of a random variable: How likely is it\n",
    "to be a certain fixed value? How likely is it to be above/below a certain threshold? \n",
    "\n",
    "The probability of $X$ taking a certain value is the \n",
    "sum of probabilities of events that lead to that value:\n",
    "\\begin{align*}\n",
    "P[X = k] & := P[\\{ \\omega \\in \\Omega \\mid X(\\omega) = k \\}] \n",
    "            = \\sum_{\\substack{\\omega \\in \\Omega ~\\text{with}\n",
    "            \\\\ X(\\omega) = k}} P[\\omega].\n",
    "\\end{align*}\n",
    "So to find out the probability that a random variable takes a certain value we need to find the probability of a certain event. This extends to other expressions involving $X$:\n",
    "\n",
    "\\begin{align*}\n",
    "  P[X \\in M] & := P[\\{ \\omega \\in \\Omega \\mid X(\\omega) \\in M \\}] \\\\\n",
    "  P[X \\leq k] & := P[\\{ \\omega \\in \\Omega \\mid X(\\omega) \\leq k \\}] \\\\\n",
    "  P[X > k] & :=  P[\\{ \\omega \\in \\Omega \\mid X(\\omega) > k \\}] \n",
    "\\end{align*}  \n",
    "and so on. "
   ]
  },
  {
   "cell_type": "markdown",
   "metadata": {
    "slideshow": {
     "slide_type": "slide"
    }
   },
   "source": [
    "For example, let's ask how likely it is that in our two-dice game the score $S$ is at least a value of ten:\n",
    "\n",
    "$$\n",
    "  P[S \\geq 10] = P[\\{ ⚃\\!⚅,⚄\\!⚄,⚅\\!⚃,⚄\\!⚅,⚅\\!⚄,⚅\\!⚅ \\}] = \\frac{6}{36} = \\frac{1}{6}\n",
    "$$\n",
    "\n",
    "Which means that \n",
    "\n",
    "$$\n",
    "  P[S < 10] = 1 - P[S \\geq 10] = \\frac{5}{6}\n",
    "$$"
   ]
  },
  {
   "cell_type": "markdown",
   "metadata": {
    "slideshow": {
     "slide_type": "slide"
    }
   },
   "source": [
    "<h2>Expected value</h2>\n",
    "\n",
    "The <i>expected value</i> $E[X]$ of a random variable $X$ describes its long-term average. That means that if we would keep repeating a random experiment and write down the resulting value of $X$, then the averages of all these values will tend to $E[X]$.\n",
    "\n",
    "If we have a random variable $X$ that takes values $x_1,\\ldots,x_k$, then\n",
    "the expected value is defined as \n",
    "\n",
    "$$\n",
    "  E[X] = \\sum_{i=1}^k x_i \\cdot P[X = x_i]\n",
    "$$\n",
    "\n",
    "So the expected value of the face of a single fair die is\n",
    "\n",
    "\\begin{align*}\n",
    "  E[\\text{Single die face}] &=\n",
    "   1 \\cdot \\frac{1}{6} + 2 \\cdot \\frac{1}{6} + 3 \\cdot \\frac{1}{6}\n",
    "   + 4 \\cdot \\frac{1}{6} + 5 \\cdot \\frac{1}{6} + 6 \\cdot \\frac{1}{6} \\\\\n",
    "   &= \\frac{1+2+3+4+5+6}{6} = \\frac{21}{6}\n",
    "\\end{align*}"
   ]
  },
  {
   "cell_type": "code",
   "execution_count": 6,
   "metadata": {
    "slideshow": {
     "slide_type": "slide"
    }
   },
   "outputs": [
    {
     "data": {
      "image/png": "[encoded data removed]",
      "text/plain": [
       "<Figure size 2000x800 with 1 Axes>"
      ]
     },
     "metadata": {
      "needs_background": "light"
     },
     "output_type": "display_data"
    }
   ],
   "source": [
    "import random\n",
    "n = 1000000\n",
    "die = [random.randint(1,6) for _ in range(n)]\n",
    "avgs = []\n",
    "s = 0\n",
    "for i, die in enumerate(die):\n",
    "    s += die\n",
    "    avgs.append(s/(i+1))\n",
    "\n",
    "fig, ax = plt.subplots(figsize=(10,4), dpi=200)\n",
    "ax.plot(avgs)\n",
    "ax.axhline(21/6, ls='--', color=blue)\n",
    "ax.set_ylim(1,6)\n",
    "ax.set_title(\"Average value of a fair die\")\n",
    "pass"
   ]
  },
  {
   "cell_type": "markdown",
   "metadata": {
    "slideshow": {
     "slide_type": "slide"
    }
   },
   "source": [
    "<h2>Expected values and fairness</h2>\n",
    "\n",
    "We can use expected values to determine whether a game of change is fair or not.\n",
    "Let $X_1,\\ldots,X_k$ be the <i>expected</i> winnings of $k$ players in single round of a game of change. Then we call the game <i>fair</i> if \n",
    "\n",
    "$$\n",
    "  E[X_1] = E[X_2] = \\ldots = E[X_k].\n",
    "$$\n",
    "\n",
    "The idea is that if we play the game for $n$ rounds (and $n$ should be large) then\n",
    "the total winnings of player $i$ is $E[n X_i] = n E[X_i]$ and therefore the same\n",
    "for all players.\n",
    "\n",
    "Note: a game might be very biased if we only play it for a few rounds, we need to\n",
    "play it for a lot of rounds to justify this notion of fairness!\n",
    "\n",
    "<div class=\"large hbox\">\n",
    "  Worksheets: Task 6)\n",
    "</div>\n"
   ]
  },
  {
   "cell_type": "code",
   "execution_count": 7,
   "metadata": {},
   "outputs": [
    {
     "name": "stderr",
     "output_type": "stream",
     "text": [
      "IOPub data rate exceeded.\n",
      "The notebook server will temporarily stop sending output\n",
      "to the client in order to avoid crashing it.\n",
      "To change this limit, set the config variable\n",
      "`--NotebookApp.iopub_data_rate_limit`.\n",
      "\n",
      "Current values:\n",
      "NotebookApp.iopub_data_rate_limit=1000000.0 (bytes/sec)\n",
      "NotebookApp.rate_limit_window=3.0 (secs)\n",
      "\n"
     ]
    }
   ],
   "source": [
    "print(avgs)"
   ]
  },
  {
   "cell_type": "code",
   "execution_count": null,
   "metadata": {},
   "outputs": [],
   "source": []
  }
 ],
 "metadata": {
  "celltoolbar": "Slideshow",
  "kernelspec": {
   "display_name": "Python 3",
   "language": "python",
   "name": "python3"
  },
  "language_info": {
   "codemirror_mode": {
    "name": "ipython",
    "version": 3
   },
   "file_extension": ".py",
   "mimetype": "text/x-python",
   "name": "python",
   "nbconvert_exporter": "python",
   "pygments_lexer": "ipython3",
   "version": "3.7.2"
  }
 },
 "nbformat": 4,
 "nbformat_minor": 2
}
