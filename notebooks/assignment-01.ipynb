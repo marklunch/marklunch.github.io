{
 "cells": [
  {
   "cell_type": "markdown",
   "metadata": {},
   "source": [
    "Please run the following cell to have the proper styling for the notebook."
   ]
  },
  {
   "cell_type": "code",
   "execution_count": 1,
   "metadata": {
    "slideshow": {
     "slide_type": "-"
    }
   },
   "outputs": [
    {
     "data": {
      "text/html": [
       "<style>\n",
       "#notebook-container { \n",
       "    width: 50% !important; \n",
       "    min-width: 800px;\n",
       "    padding-right: 5em !important;\n",
       "}\n",
       "h1 { margin-top: 3em !important; }\n",
       "h2 { margin-top: 2em !important; }\n",
       "h3 { margin-top: 1em !important; }\n",
       "div.task {\n",
       "  font-size: 1.2em;\n",
       "  padding: .7em;\n",
       "  border: 2px solid #ccc;\n",
       "  background-color: #eee;\n",
       "  border-radius: 5px;\n",
       "  margin: 0.5em 0px;\n",
       "  display: flex;\n",
       "}\n",
       "div.task div:first-child {\n",
       "    padding-right: 10px;\n",
       "    font-size: 1.2em;\n",
       "    line-height: 1.1em;\n",
       "    color: #777;\n",
       "}\n",
       "div.task tt {\n",
       "    background-color: #fff;\n",
       "    font-size: 0.9em;\n",
       "    padding: 0px 5px 0px 5px;\n",
       "    border-radius: 1px;\n",
       "}    \n",
       "div.important, div.warn, div.okay {\n",
       "    text-align: center;\n",
       "    font-size: 1.4em;\n",
       "    padding: .5em;\n",
       "    border-radius: 1px;    \n",
       "}\n",
       "div.warn {\n",
       "    color: #cc0000;\n",
       "    border: 4px solid #cc3333;\n",
       "}\n",
       "div.okay {\n",
       "    color: #00cc00;\n",
       "    border: 4px solid #33cc33;\n",
       "}\n",
       "</style>"
      ],
      "text/plain": [
       "<IPython.core.display.HTML object>"
      ]
     },
     "metadata": {},
     "output_type": "display_data"
    }
   ],
   "source": [
    "%%html\n",
    "<style>\n",
    "#notebook-container { \n",
    "    width: 50% !important; \n",
    "    min-width: 800px;\n",
    "    padding-right: 5em !important;\n",
    "}\n",
    "h1 { margin-top: 3em !important; }\n",
    "h2 { margin-top: 2em !important; }\n",
    "h3 { margin-top: 1em !important; }\n",
    "div.task {\n",
    "  font-size: 1.2em;\n",
    "  padding: .7em;\n",
    "  border: 2px solid #ccc;\n",
    "  background-color: #eee;\n",
    "  border-radius: 5px;\n",
    "  margin: 0.5em 0px;\n",
    "  display: flex;\n",
    "}\n",
    "div.task div:first-child {\n",
    "    padding-right: 10px;\n",
    "    font-size: 1.2em;\n",
    "    line-height: 1.1em;\n",
    "    color: #777;\n",
    "}\n",
    "div.task tt {\n",
    "    background-color: #fff;\n",
    "    font-size: 0.9em;\n",
    "    padding: 0px 5px 0px 5px;\n",
    "    border-radius: 1px;\n",
    "}    \n",
    "div.important, div.warn, div.okay {\n",
    "    text-align: center;\n",
    "    font-size: 1.4em;\n",
    "    padding: .5em;\n",
    "    border-radius: 1px;    \n",
    "}\n",
    "div.warn {\n",
    "    color: #cc0000;\n",
    "    border: 4px solid #cc3333;\n",
    "}\n",
    "div.okay {\n",
    "    color: #00cc00;\n",
    "    border: 4px solid #33cc33;\n",
    "}\n",
    "</style>"
   ]
  },
  {
   "cell_type": "markdown",
   "metadata": {},
   "source": [
    "<h2>How do I approach this assignment?</h2>\n",
    "\n",
    "\n",
    "There are eight tasks in total in this assignment which need to be completed in order to turn this notebook into an exploratory analysis of the provided dataset. Four of these tasks ask you to implement something and come with a test that passes if your solution works as intended. I recommend that you work with a second notebook or a Python IDE to test out your ideas! It also does not harm to write down your ideas on paper first.\n",
    "If your code does not work as intended, find out why! `print(..)` statements are your best friend to see what is happening.\n",
    "\n",
    "The remaining four assignments ask you to answer questions in writing. Treat these tasks like you would treat any writing assignment, your intended audience is someone who is interested in your data analysis&mdash;say, a friend who has some background in Python but does not know much about Data Science.\n",
    "\n",
    "If you are stuck please contact me well ahead of the deadline. I am happy to help, but please figure out <i>why</i> you are stuck and ask me a specific question that will help you."
   ]
  },
  {
   "cell_type": "markdown",
   "metadata": {},
   "source": [
    "<h1>Comparing texts: early fantasy and horror</h1>\n",
    "\n",
    "In this assignment we will compare eight texts written by four different authors:\n",
    "<a href=\"https://en.wikipedia.org/wiki/Lewis_Carroll\">Lewis Carrol</a>\n",
    "(1832-1898) as an author of fantasy and children's books;\n",
    "<a href=\"https://en.wikipedia.org/wiki/Mary_Shelley\">Mary Shelley</a>\n",
    "(1797-1851) best known as the writer of Frankenstein, one of the most influental works of horror literatur; notable feminist\n",
    "<a href=\"https://en.wikipedia.org/wiki/Charlotte_Perkins_Gilman\">Charlotte Perkins Gilman</a> (1860-1935) as an author of gothic and utopian fiction;\n",
    "and <a href=\"https://en.wikipedia.org/wiki/H._P._Lovecraft\">H.P. Lovecraft</a>\n",
    "(1890-1937) as one of the pioneers of weird fiction and cosmic horror.\n",
    "\n",
    "The central question we want to answer is the following: \n",
    "<div style=\"font-size: 1.5em; margin: .5em; text-align: center;\">\n",
    "  How similar or dissimilar are these author's choice of words?\n",
    "</div>\n",
    "\n",
    "In essence, we want to see whether we can distinguish the authors by comparing which words they used in their respective works. In order to test our methodology, we will also compare works by the same authors: if our analysis shows a large difference there, our methodoloy is maybe not suited to distinguish between authors but only betweent <i>texts</i>.\n",
    "\n",
    "<h2>Mathematical background</h2>\n",
    "\n",
    "We will be using the concepts of <i>multi-sets</i> here which\n",
    "are similar to sets but can contain any element <i>multiple</i> times. For example, $\\{1,1,2,3,5,5,5\\}$ is a multi-set in which $1$ is contained twice and $5$ three times.\n",
    "\n",
    "The number of time an element $s$ occurs in a multi-set $X$ is called the <i>multiplicity</i>\n",
    "and we write it as $\\#_s(X)$. Using the above example,\n",
    "\n",
    "$$\n",
    "  \\#_1( \\{1,1,2,3,5,5,5\\} ) = 2, \\quad \\#_2( \\{1,1,2,3,5,5,5\\} ) = 1,\n",
    "  \\quad \\#_5( \\{1,1,2,3,5,5,5\\} ) = 3.\n",
    "$$\n",
    "\n",
    "The multiplicity of an element that is not contained in a multi-set is simply zero:\n",
    "\n",
    "$$\n",
    "  \\#_6( \\{1,1,2,3,5,5,5\\} ) = 0\n",
    "$$\n",
    "\n",
    "The <i>cardinality</i> of a multiset is the number of elements that appear in it, including\n",
    "multiplicities:\n",
    "\n",
    "$$\n",
    "  |A| := \\sum_{s \\in A} \\#_s(A)\n",
    "$$\n",
    "\n",
    "Here we understand $s \\in A$ as the question of whether $s$ is contained <i>at least once</i>\n",
    "in $A$. To give some examples, the cardinality of $\\{1,1,2,3,5,5,5\\}$ is $7$ and the cardinality\n",
    "of $\\{a,a,a\\}$ is three.\n",
    "\n",
    "\n",
    "The definition of intersection and union between multiset is best expressed via\n",
    "multiplicities. Let $A$ and $B$ be two multisets and $s$ a (potential) element\n",
    "of these sets. Then\n",
    "\n",
    "$$\n",
    "  \\#_s(A \\cap B) = \\min( \\#_s(A), \\#_s(B) )\n",
    "$$\n",
    "\n",
    "In words: the number of time $s$ occurs in $A \\cap B$ is calculate as the minimum\n",
    "between the number of times it appears in $A$ and the number of times it appears in $B$.\n",
    "For example:\n",
    "\n",
    "$$\n",
    "   \\{ a, b, b, c, d \\} \\cap \\{ b, c, c, d, d \\} = \\{ b, c, d \\}.\n",
    "$$\n",
    "\n",
    "Notice that if our two multi-sets happen to be sets (so no member appears more than once), then\n",
    "this definition of the intersection agrees with the intersection between sets.\n",
    "\n",
    "The union of two multi-sets is defined as \n",
    "\n",
    "$$\n",
    "  \\#_s(A \\cup B) = \\max( \\#_s(A), \\#_s(B) ),\n",
    "$$\n",
    " \n",
    "meaning that an element $s$ occurs as many times as is the maximum number of\n",
    "occurrences in $A$ and $B$. For example:\n",
    "\n",
    "$$\n",
    "   \\{ a, b, b, c, d \\} \\cup \\{ b, c, c, d, d \\} = \\{ a, b, b, c, c, d, d \\}.\n",
    "$$\n",
    "\n",
    "\n",
    "In Python multi-sets are best represented as the `Counter` data\n",
    "structure from the `collections` package. Recall that a `Counter`\n",
    "associates a number (`int` or `float`) with hashable keys (like\n",
    "strings, numbers, etc.).\n",
    "\n",
    "\n",
    "<div class=\"task\">\n",
    "    <div>1)</div>\n",
    "    <div>\n",
    "        The <tt>Counter</tt> data structure, similar to <tt>set</tt>, \n",
    "        supports the operators <tt>&</tt> and <tt>|</tt>. Research \n",
    "        online what these two operators do, e.g., for counters \n",
    "        <tt>cA</tt> and <tt>cB</tt>, what is contained in \n",
    "        <tt>cA & cB</tt> adn <tt>cA | cB</tt>? Use your own words and keep it short!\n",
    "    </div>\n",
    "</div>\n",
    "\n",
    "Hint: A good starting point are the <a href=\"https://docs.python.org/3.7/library/collections.html#collections.Counter\">Python docs</a>."
   ]
  },
  {
   "cell_type": "markdown",
   "metadata": {},
   "source": [
    "<h1><div style=\"text-align: center\">Q1: Multiset - Intersection and Union:</div></h1>\n",
    "<h2><div style=\"text-align: left\">1. Intersection:</div></h2>\n",
    "<div style=\"text-align: left\">'Intersection' in set theory means <b>AND</b>, and will produce a result of all elements that are in all sets.  In the case of a multiset it will produce a result showing the <b>MIN</b> of each element, for instance, if there are 2 'a' in cA and 1 'a' in cB it would state 'a':1. Any elements that are in one set but not the other will not be included in an intersection.</div>\n",
    "<h2><div style=\"text-align: left\">2. Union:</div></h2>\n",
    "<div style=\"text-align: left\">'Union' in set theory means <b>OR</b>, and will produce a result of all elements in either set.  In the case of a multiset it will produce a result showing the <b>MAX</b> of each element, for instance, if there are 2 'a' in cA and 1 'a' in cB it would state 'a':2. Any elements that are in one set but not the other will still be included in a union.</div>\n"
   ]
  },
  {
   "cell_type": "markdown",
   "metadata": {},
   "source": [
    "<div class=\"task\">\n",
    "    <div>2)</div>\n",
    "    <div>\n",
    "        We will use <tt>Counter</tt> to represent multi-sets in Python. Complete\n",
    "        the method <tt>len_multi(...)</tt> in the cell below to compute the multi-set cardinality\n",
    "        for the argument <tt>multiA</tt> of type <tt>Counter</tt>.\n",
    "    </div>\n",
    "</div>\n",
    "\n",
    "Hint 1: `len(...)` of a `Counter` returns the number of keys, that is, the number of \n",
    "distinct elements in the set, it does not account for their multiplicity.\n",
    "\n",
    "Hint 2: The multiplicities in a `Counter` `multiA` can either be accessed for each element \n",
    "using the index notation `multiA[...]` or we can retrieve all of them at once using\n",
    "the `.values()` method."
   ]
  },
  {
   "cell_type": "code",
   "execution_count": 2,
   "metadata": {},
   "outputs": [],
   "source": [
    "def len_multi(multiA):\n",
    "    return(sum(multiA.values()))"
   ]
  },
  {
   "cell_type": "markdown",
   "metadata": {},
   "source": [
    "<div class=\"important\">Your code <b>must</b> pass the following test.</div>"
   ]
  },
  {
   "cell_type": "code",
   "execution_count": 3,
   "metadata": {},
   "outputs": [
    {
     "data": {
      "text/html": [
       "<div class=\"okay\">All tests passed!</div>"
      ],
      "text/plain": [
       "<IPython.core.display.HTML object>"
      ]
     },
     "metadata": {},
     "output_type": "display_data"
    }
   ],
   "source": [
    "from IPython.core.display import HTML\n",
    "from collections import Counter\n",
    "try:\n",
    "    assert len_multi(Counter('aabbcc')) == 6\n",
    "    assert len_multi(Counter('aaa')) == 3\n",
    "    assert len_multi(Counter()) == 0\n",
    "    display(HTML('<div class=\"okay\">All tests passed!</div>'))\n",
    "except AssertionError:\n",
    "    display(HTML('<div class=\"warn\">Not all tests passed</div>'))\n",
    "    raise"
   ]
  },
  {
   "cell_type": "markdown",
   "metadata": {},
   "source": [
    "<h2>Parsing text data</h2>\n",
    "\n",
    "You should find eight .txt files in the `resources-01` directory. To list them, we can use the excellent `glob` library and the `os.path`library can help us to extract the filename:"
   ]
  },
  {
   "cell_type": "code",
   "execution_count": 4,
   "metadata": {},
   "outputs": [
    {
     "name": "stdout",
     "output_type": "stream",
     "text": [
      "carroll-alice-wonderland.txt  with path ./resources-01\\carroll-alice-wonderland.txt\n",
      "carroll-looking-glass.txt  with path ./resources-01\\carroll-looking-glass.txt\n",
      "gilman-herland.txt  with path ./resources-01\\gilman-herland.txt\n",
      "gilman-yellow-wallpaper.txt  with path ./resources-01\\gilman-yellow-wallpaper.txt\n",
      "kafka-metamorphosis.txt  with path ./resources-01\\kafka-metamorphosis.txt\n",
      "kafka-the-trial.txt  with path ./resources-01\\kafka-the-trial.txt\n",
      "lovecraft-dunwich-horror.txt  with path ./resources-01\\lovecraft-dunwich-horror.txt\n",
      "lovecraft-shunned-house.txt  with path ./resources-01\\lovecraft-shunned-house.txt\n",
      "shelley-frankenstein.txt  with path ./resources-01\\shelley-frankenstein.txt\n",
      "shelley-last-man.txt  with path ./resources-01\\shelley-last-man.txt\n"
     ]
    }
   ],
   "source": [
    "import glob, os\n",
    "\n",
    "for filename in glob.glob('./resources-01/*.txt'):\n",
    "    print(os.path.split(filename)[-1], \" with path\", filename, )"
   ]
  },
  {
   "cell_type": "markdown",
   "metadata": {},
   "source": [
    "You should take a look at some of these file in your favourite text editor.\n",
    "All texts were retrieved from <a href=\"https://www.gutenberg.org/\">Project Gutenberg</a>, a great resource for public domain texts. \n",
    "\n",
    "Let's say we want to read the file <tt>./data/kafka-metamorphosis.txt</tt> and collect all words of Kafka's Metamorphosis in a `Counter`, that is, we want to know for each word how often it appeared in the text. \n",
    "\n",
    "We are <b>not</b> interested in the various names that appear in the text: characters and places will of course differ between the stories and will not help us to establish (dis)similarity between the authors. For that reason, we will exclude <b>capitalized words</b>.\n",
    "This will remove some non-names from the text but all alternative methods are far more complex. \n",
    "\n",
    "A similar issue arises with very short words: `is`, `in`, `a`, `of` appear very frequently in any text and we cannot gain much information by including them. We will therefore <b>remove all words of length two and one</b>.\n",
    "\n",
    "<div class=\"task\">\n",
    "  <div>3)</div>\n",
    "  <div> \n",
    "  Modify the script below such that <tt>parse_text(filename)</tt> \n",
    "  returns all the <b>non-capitalized</b> words of length <b>at least three</b>\n",
    "  contained in the file <tt>filename</tt> in a <tt>Counter</tt>. \n",
    "  Your code must pass all the tests below.\n",
    "    </div>\n",
    "</div>\n",
    "\n",
    "Hint 1: To test whether a <b>single character</b> is capitalized,\n",
    "you can use the method `.isupper()`.\n",
    "\n",
    "Hint 2: The remainder of the analysis will work better if you <b>remove punctuation</b> from the words."
   ]
  },
  {
   "cell_type": "code",
   "execution_count": 5,
   "metadata": {},
   "outputs": [
    {
     "data": {
      "text/plain": [
       "14740"
      ]
     },
     "execution_count": 5,
     "metadata": {},
     "output_type": "execute_result"
    }
   ],
   "source": [
    "def parse_text(filename):\n",
    "    import re\n",
    "    from collections import Counter\n",
    "    res = Counter()\n",
    "    res1 = []\n",
    "    with open(filename, encoding=\"utf8\") as f:\n",
    "        for l in f:\n",
    "            l = l[:-1]\n",
    "            l = l.split(' ')\n",
    "            for w in l:\n",
    "                if re.search(\"[.;:,\\(‘’!\\\"/\\?'ï»¿']\", w): #ignores all punctiation\n",
    "                    pass\n",
    "                elif len(w) <3:   #ignores all words less than 3 in length\n",
    "                    pass\n",
    "                elif w[0].isupper():#ignores all words beginning with a Capital\n",
    "                    pass\n",
    "                else:\n",
    "                    res1.append(w) #adds word to list res1\n",
    "    res = Counter(res1)#creates the counter\n",
    "    return res\n",
    "\n",
    "len_multi(Counter(parse_text('./resources-01/kafka-metamorphosis.txt')))\n",
    "            # Split `l` into words and increase their respective count in `res`"
   ]
  },
  {
   "cell_type": "markdown",
   "metadata": {},
   "source": [
    "<div class=\"important\">Your code <b>must</b> pass the following test.</div>"
   ]
  },
  {
   "cell_type": "code",
   "execution_count": 6,
   "metadata": {},
   "outputs": [
    {
     "data": {
      "text/html": [
       "<div class=\"okay\">All tests passed!</div>"
      ],
      "text/plain": [
       "<IPython.core.display.HTML object>"
      ]
     },
     "metadata": {},
     "output_type": "display_data"
    }
   ],
   "source": [
    "from IPython.core.display import HTML\n",
    "import re\n",
    "from collections import Counter\n",
    "try:\n",
    "    text = parse_text('./resources-01/kafka-metamorphosis.txt')\n",
    "    assert len(text) > 2000, \"Did not extract enough words\"\n",
    "    assert 'sister' in text\n",
    "\n",
    "    text = parse_text('./resources-01/shelley-frankenstein.txt')\n",
    "    assert len(text) > 6000, \"Did not extract enough words\"\n",
    "    assert 'monster' in text\n",
    "\n",
    "    text = parse_text('./resources-01/carroll-alice-wonderland.txt')\n",
    "    assert len(text) > 2000, \"Did not extract enough words\"\n",
    "    assert 'hatters' in text            #Note, I changed this to hatters as 'hatter' is not in the book\n",
    "    assert 'tea' in text                \n",
    "    assert 'rabbit' in text\n",
    "    display(HTML('<div class=\"okay\">All tests passed!</div>'))\n",
    "except AssertionError:\n",
    "    display(HTML('<div class=\"warn\">Not all tests passed</div>'))\n",
    "    raise"
   ]
  },
  {
   "cell_type": "markdown",
   "metadata": {},
   "source": [
    "<h2>Bag-of-words</h2>\n",
    "\n",
    "With our method `parse_text` we can now produce what is often called a &ldquo;bag-of-words&rdquo; from text, that is, a <i>multi-set</i> that contains all words that occur in ot. While we lose the structure of the text (the order of words), this very simple representation already enables us to analyse and compare texts.\n",
    "\n",
    "We learned in the lecture that the <a href=\"https://en.wikipedia.org/wiki/Jaccard_index\">Jaccard index</a> is a useful method of comparing two sets. As a reminder, it is defined as \n",
    "$$\n",
    "  J(A,B) = \\frac{|A \\cap B|}{|A \\cup B|}.\n",
    "$$\n",
    "\n",
    "and as $J(\\emptyset, \\emptyset) = 1$ for the special case when both inputs are the empty set.\n",
    "\n",
    "The Jaccard similarity for <i>multi-sets</i> is defined exactly the same way, but we are \n",
    "using the intersection, union, and cardinality of multi-sets! \n",
    "\n",
    "<div class=\"task\">\n",
    "  <div>3)</div>\n",
    "  <div> \n",
    "       Complete the method <tt>jaccard_multi(multiA, multiB)</tt> in the next cell\n",
    "       such that it returns the Jaccard index for the two input sets.\n",
    "       Your code should pass all the tests below.\n",
    "    </div>\n",
    "</div>\n",
    "\n",
    "Hint: Use the function `len_multi` you implemented earlier!"
   ]
  },
  {
   "cell_type": "code",
   "execution_count": 7,
   "metadata": {},
   "outputs": [],
   "source": [
    "def jaccard_multi(setA, setB):\n",
    "    multiUnion = len_multi((setA&(setB)))# creates the union of the two multi-sets\n",
    "    multiIntersection = len_multi((setA|(setB)))#creates the intersection of the multi-sets\n",
    "    if multiUnion == 0:\n",
    "        if multiIntersection == 0:\n",
    "            jacMulti = 1\n",
    "        else:\n",
    "            jacMulti = 0\n",
    "    else:\n",
    "        jacMulti = multiUnion/multiIntersection\n",
    "    return jacMulti   "
   ]
  },
  {
   "cell_type": "markdown",
   "metadata": {},
   "source": [
    "<div class=\"important\">Your code <b>must</b> pass the following test.</div>"
   ]
  },
  {
   "cell_type": "code",
   "execution_count": 8,
   "metadata": {},
   "outputs": [
    {
     "data": {
      "text/html": [
       "<div class=\"okay\">All tests passed!</div>"
      ],
      "text/plain": [
       "<IPython.core.display.HTML object>"
      ]
     },
     "metadata": {},
     "output_type": "display_data"
    }
   ],
   "source": [
    "from IPython.core.display import HTML\n",
    "try:\n",
    "    assert jaccard_multi( Counter('a'), Counter('b') ) == 0\n",
    "    assert jaccard_multi( Counter('aa'), Counter('a') ) == 1/2\n",
    "    assert jaccard_multi( Counter('aaa'), Counter('a') ) == 1/3\n",
    "    assert jaccard_multi( Counter('aaaa'), Counter('aa') ) == 1/2\n",
    "    assert jaccard_multi( Counter('aabb'), Counter('aabb') ) == 1\n",
    "    assert jaccard_multi( Counter(), Counter() ) == 1    \n",
    "    display(HTML('<div class=\"okay\">All tests passed!</div>'))\n",
    "except AssertionError:\n",
    "    display(HTML('<div class=\"warn\">Not all tests passed</div>'))\n",
    "    raise"
   ]
  },
  {
   "cell_type": "markdown",
   "metadata": {},
   "source": [
    "<h2>Bag-of-words for all the texts</h2>\n",
    "\n",
    "We are now ready to import all the eight texts into bag-of-words."
   ]
  },
  {
   "cell_type": "code",
   "execution_count": 9,
   "metadata": {},
   "outputs": [
    {
     "name": "stdout",
     "output_type": "stream",
     "text": [
      "Loaded 14562 words from carroll-alice-wonderland\n",
      "Loaded 15528 words from carroll-looking-glass\n",
      "Loaded 31007 words from gilman-herland\n",
      "Loaded 3434 words from gilman-yellow-wallpaper\n",
      "Loaded 14740 words from kafka-metamorphosis\n",
      "Loaded 51867 words from kafka-the-trial\n",
      "Loaded 11053 words from lovecraft-dunwich-horror\n",
      "Loaded 7023 words from lovecraft-shunned-house\n",
      "Loaded 46345 words from shelley-frankenstein\n",
      "Loaded 107828 words from shelley-last-man\n"
     ]
    }
   ],
   "source": [
    "import glob, os, re\n",
    "from collections import Counter\n",
    "\n",
    "# Load word count for texts\n",
    "texts = {}\n",
    "for filename in glob.glob('./resources-01/*.txt'):\n",
    "    name = os.path.splitext(os.path.split(filename)[-1])[0]\n",
    "    texts[name] = parse_text(filename)\n",
    "    \n",
    "# Output total number of words\n",
    "for key in texts:\n",
    "    print(\"Loaded {} words from {}\".format(len_multi(texts[key]),key) )"
   ]
  },
  {
   "cell_type": "markdown",
   "metadata": {},
   "source": [
    "And we can see the most common words used in those texts using the `.most_common(...)` method of `Counter`:"
   ]
  },
  {
   "cell_type": "code",
   "execution_count": 10,
   "metadata": {},
   "outputs": [
    {
     "data": {
      "text/plain": [
       "[('the', 3898), ('and', 2904), ('was', 992), ('that', 974), ('had', 679)]"
      ]
     },
     "metadata": {},
     "output_type": "display_data"
    },
    {
     "data": {
      "text/plain": [
       "[('the', 1095), ('and', 598), ('his', 524), ('was', 394), ('had', 346)]"
      ]
     },
     "metadata": {},
     "output_type": "display_data"
    },
    {
     "data": {
      "text/plain": [
       "[('the', 1768), ('and', 1612), ('was', 692), ('that', 618), ('had', 508)]"
      ]
     },
     "metadata": {},
     "output_type": "display_data"
    }
   ],
   "source": [
    "display(texts[\"shelley-frankenstein\"].most_common(5))\n",
    "display(texts[\"kafka-metamorphosis\"].most_common(5))\n",
    "display(texts[\"gilman-herland\"].most_common(5))"
   ]
  },
  {
   "cell_type": "markdown",
   "metadata": {},
   "source": [
    "Unsurprisingly, the most common words of both authors are simply the highly common words of the English language. But we also note a potential issue here: the number of times the word `the` appears in a text is simply a question of how <i>long</i> the text is. If we simply apply our multi-set jaccard similarity to these sets, this would factor into the result, and very significantly!\n",
    "\n",
    "As a remedy we will <i>normalize</i> the bag-of-words to make their comparison more meaningful. We have not really defined what a multiset with non-integral membership is, but the Jaccard index you programmed earlier will work just as intended.\n",
    "\n",
    "<div class=\"task\">\n",
    "  <div>4)</div>\n",
    "  <div> \n",
    "       Complete the code below to normalize the `Counters` by the multiplicity \n",
    "       of the most frequent word.\n",
    "    </div>\n",
    "</div>"
   ]
  },
  {
   "cell_type": "code",
   "execution_count": 11,
   "metadata": {},
   "outputs": [],
   "source": [
    "for key, multi in texts.items():\n",
    "    norm = texts[key].most_common(1)[0][1]\n",
    "    for w in multi:\n",
    "        multi[w] /= norm"
   ]
  },
  {
   "cell_type": "markdown",
   "metadata": {},
   "source": [
    "<div class=\"important\">Your code <b>must</b> pass the following test.</div>"
   ]
  },
  {
   "cell_type": "code",
   "execution_count": 12,
   "metadata": {},
   "outputs": [
    {
     "data": {
      "text/html": [
       "<div class=\"okay\">All tests passed!</div>"
      ],
      "text/plain": [
       "<IPython.core.display.HTML object>"
      ]
     },
     "metadata": {},
     "output_type": "display_data"
    }
   ],
   "source": [
    "from IPython.core.display import HTML\n",
    "try:\n",
    "    assert texts[\"shelley-frankenstein\"].most_common(1)[0][1] == 1.0\n",
    "    assert texts[\"lovecraft-shunned-house\"].most_common(1)[0][1] == 1.0\n",
    "    display(HTML('<div class=\"okay\">All tests passed!</div>'))\n",
    "except AssertionError:\n",
    "    display(HTML('<div class=\"warn\">Not all tests passed</div>'))\n",
    "    raise"
   ]
  },
  {
   "cell_type": "markdown",
   "metadata": {},
   "source": [
    "Finally, with all your hard work, we can look at a pairwise comparison between the texts!\n",
    "The following code will create a <i>similarity matrix</i>: a table which contains all pairwise Jaccard similarities."
   ]
  },
  {
   "cell_type": "code",
   "execution_count": 13,
   "metadata": {},
   "outputs": [
    {
     "data": {
      "text/html": [
       "<div>\n",
       "<style scoped>\n",
       "    .dataframe tbody tr th:only-of-type {\n",
       "        vertical-align: middle;\n",
       "    }\n",
       "\n",
       "    .dataframe tbody tr th {\n",
       "        vertical-align: top;\n",
       "    }\n",
       "\n",
       "    .dataframe thead th {\n",
       "        text-align: right;\n",
       "    }\n",
       "</style>\n",
       "<table border=\"1\" class=\"dataframe\">\n",
       "  <thead>\n",
       "    <tr style=\"text-align: right;\">\n",
       "      <th></th>\n",
       "      <th>carroll-alice-wonderland</th>\n",
       "      <th>carroll-looking-glass</th>\n",
       "      <th>gilman-herland</th>\n",
       "      <th>gilman-yellow-wallpaper</th>\n",
       "      <th>kafka-metamorphosis</th>\n",
       "      <th>kafka-the-trial</th>\n",
       "      <th>lovecraft-dunwich-horror</th>\n",
       "      <th>lovecraft-shunned-house</th>\n",
       "      <th>shelley-frankenstein</th>\n",
       "      <th>shelley-last-man</th>\n",
       "    </tr>\n",
       "  </thead>\n",
       "  <tbody>\n",
       "    <tr>\n",
       "      <th>carroll-alice-wonderland</th>\n",
       "      <td>1.000000</td>\n",
       "      <td>0.627783</td>\n",
       "      <td>0.359471</td>\n",
       "      <td>0.353455</td>\n",
       "      <td>0.406702</td>\n",
       "      <td>0.461074</td>\n",
       "      <td>0.374889</td>\n",
       "      <td>0.325494</td>\n",
       "      <td>0.356759</td>\n",
       "      <td>0.378196</td>\n",
       "    </tr>\n",
       "    <tr>\n",
       "      <th>carroll-looking-glass</th>\n",
       "      <td>0.627783</td>\n",
       "      <td>1.000000</td>\n",
       "      <td>0.368433</td>\n",
       "      <td>0.360761</td>\n",
       "      <td>0.411296</td>\n",
       "      <td>0.464157</td>\n",
       "      <td>0.353193</td>\n",
       "      <td>0.309754</td>\n",
       "      <td>0.346980</td>\n",
       "      <td>0.366846</td>\n",
       "    </tr>\n",
       "    <tr>\n",
       "      <th>gilman-herland</th>\n",
       "      <td>0.359471</td>\n",
       "      <td>0.368433</td>\n",
       "      <td>1.000000</td>\n",
       "      <td>0.366218</td>\n",
       "      <td>0.392234</td>\n",
       "      <td>0.411220</td>\n",
       "      <td>0.300193</td>\n",
       "      <td>0.285790</td>\n",
       "      <td>0.379343</td>\n",
       "      <td>0.343997</td>\n",
       "    </tr>\n",
       "    <tr>\n",
       "      <th>gilman-yellow-wallpaper</th>\n",
       "      <td>0.353455</td>\n",
       "      <td>0.360761</td>\n",
       "      <td>0.366218</td>\n",
       "      <td>1.000000</td>\n",
       "      <td>0.336761</td>\n",
       "      <td>0.365384</td>\n",
       "      <td>0.258734</td>\n",
       "      <td>0.243054</td>\n",
       "      <td>0.301647</td>\n",
       "      <td>0.263697</td>\n",
       "    </tr>\n",
       "    <tr>\n",
       "      <th>kafka-metamorphosis</th>\n",
       "      <td>0.406702</td>\n",
       "      <td>0.411296</td>\n",
       "      <td>0.392234</td>\n",
       "      <td>0.336761</td>\n",
       "      <td>1.000000</td>\n",
       "      <td>0.539862</td>\n",
       "      <td>0.322583</td>\n",
       "      <td>0.301094</td>\n",
       "      <td>0.365036</td>\n",
       "      <td>0.356427</td>\n",
       "    </tr>\n",
       "    <tr>\n",
       "      <th>kafka-the-trial</th>\n",
       "      <td>0.461074</td>\n",
       "      <td>0.464157</td>\n",
       "      <td>0.411220</td>\n",
       "      <td>0.365384</td>\n",
       "      <td>0.539862</td>\n",
       "      <td>1.000000</td>\n",
       "      <td>0.359404</td>\n",
       "      <td>0.323152</td>\n",
       "      <td>0.403504</td>\n",
       "      <td>0.383928</td>\n",
       "    </tr>\n",
       "    <tr>\n",
       "      <th>lovecraft-dunwich-horror</th>\n",
       "      <td>0.374889</td>\n",
       "      <td>0.353193</td>\n",
       "      <td>0.300193</td>\n",
       "      <td>0.258734</td>\n",
       "      <td>0.322583</td>\n",
       "      <td>0.359404</td>\n",
       "      <td>1.000000</td>\n",
       "      <td>0.410800</td>\n",
       "      <td>0.364470</td>\n",
       "      <td>0.394956</td>\n",
       "    </tr>\n",
       "    <tr>\n",
       "      <th>lovecraft-shunned-house</th>\n",
       "      <td>0.325494</td>\n",
       "      <td>0.309754</td>\n",
       "      <td>0.285790</td>\n",
       "      <td>0.243054</td>\n",
       "      <td>0.301094</td>\n",
       "      <td>0.323152</td>\n",
       "      <td>0.410800</td>\n",
       "      <td>1.000000</td>\n",
       "      <td>0.371058</td>\n",
       "      <td>0.384274</td>\n",
       "    </tr>\n",
       "    <tr>\n",
       "      <th>shelley-frankenstein</th>\n",
       "      <td>0.356759</td>\n",
       "      <td>0.346980</td>\n",
       "      <td>0.379343</td>\n",
       "      <td>0.301647</td>\n",
       "      <td>0.365036</td>\n",
       "      <td>0.403504</td>\n",
       "      <td>0.364470</td>\n",
       "      <td>0.371058</td>\n",
       "      <td>1.000000</td>\n",
       "      <td>0.554588</td>\n",
       "    </tr>\n",
       "    <tr>\n",
       "      <th>shelley-last-man</th>\n",
       "      <td>0.378196</td>\n",
       "      <td>0.366846</td>\n",
       "      <td>0.343997</td>\n",
       "      <td>0.263697</td>\n",
       "      <td>0.356427</td>\n",
       "      <td>0.383928</td>\n",
       "      <td>0.394956</td>\n",
       "      <td>0.384274</td>\n",
       "      <td>0.554588</td>\n",
       "      <td>1.000000</td>\n",
       "    </tr>\n",
       "  </tbody>\n",
       "</table>\n",
       "</div>"
      ],
      "text/plain": [
       "                          carroll-alice-wonderland  carroll-looking-glass  \\\n",
       "carroll-alice-wonderland                  1.000000               0.627783   \n",
       "carroll-looking-glass                     0.627783               1.000000   \n",
       "gilman-herland                            0.359471               0.368433   \n",
       "gilman-yellow-wallpaper                   0.353455               0.360761   \n",
       "kafka-metamorphosis                       0.406702               0.411296   \n",
       "kafka-the-trial                           0.461074               0.464157   \n",
       "lovecraft-dunwich-horror                  0.374889               0.353193   \n",
       "lovecraft-shunned-house                   0.325494               0.309754   \n",
       "shelley-frankenstein                      0.356759               0.346980   \n",
       "shelley-last-man                          0.378196               0.366846   \n",
       "\n",
       "                          gilman-herland  gilman-yellow-wallpaper  \\\n",
       "carroll-alice-wonderland        0.359471                 0.353455   \n",
       "carroll-looking-glass           0.368433                 0.360761   \n",
       "gilman-herland                  1.000000                 0.366218   \n",
       "gilman-yellow-wallpaper         0.366218                 1.000000   \n",
       "kafka-metamorphosis             0.392234                 0.336761   \n",
       "kafka-the-trial                 0.411220                 0.365384   \n",
       "lovecraft-dunwich-horror        0.300193                 0.258734   \n",
       "lovecraft-shunned-house         0.285790                 0.243054   \n",
       "shelley-frankenstein            0.379343                 0.301647   \n",
       "shelley-last-man                0.343997                 0.263697   \n",
       "\n",
       "                          kafka-metamorphosis  kafka-the-trial  \\\n",
       "carroll-alice-wonderland             0.406702         0.461074   \n",
       "carroll-looking-glass                0.411296         0.464157   \n",
       "gilman-herland                       0.392234         0.411220   \n",
       "gilman-yellow-wallpaper              0.336761         0.365384   \n",
       "kafka-metamorphosis                  1.000000         0.539862   \n",
       "kafka-the-trial                      0.539862         1.000000   \n",
       "lovecraft-dunwich-horror             0.322583         0.359404   \n",
       "lovecraft-shunned-house              0.301094         0.323152   \n",
       "shelley-frankenstein                 0.365036         0.403504   \n",
       "shelley-last-man                     0.356427         0.383928   \n",
       "\n",
       "                          lovecraft-dunwich-horror  lovecraft-shunned-house  \\\n",
       "carroll-alice-wonderland                  0.374889                 0.325494   \n",
       "carroll-looking-glass                     0.353193                 0.309754   \n",
       "gilman-herland                            0.300193                 0.285790   \n",
       "gilman-yellow-wallpaper                   0.258734                 0.243054   \n",
       "kafka-metamorphosis                       0.322583                 0.301094   \n",
       "kafka-the-trial                           0.359404                 0.323152   \n",
       "lovecraft-dunwich-horror                  1.000000                 0.410800   \n",
       "lovecraft-shunned-house                   0.410800                 1.000000   \n",
       "shelley-frankenstein                      0.364470                 0.371058   \n",
       "shelley-last-man                          0.394956                 0.384274   \n",
       "\n",
       "                          shelley-frankenstein  shelley-last-man  \n",
       "carroll-alice-wonderland              0.356759          0.378196  \n",
       "carroll-looking-glass                 0.346980          0.366846  \n",
       "gilman-herland                        0.379343          0.343997  \n",
       "gilman-yellow-wallpaper               0.301647          0.263697  \n",
       "kafka-metamorphosis                   0.365036          0.356427  \n",
       "kafka-the-trial                       0.403504          0.383928  \n",
       "lovecraft-dunwich-horror              0.364470          0.394956  \n",
       "lovecraft-shunned-house               0.371058          0.384274  \n",
       "shelley-frankenstein                  1.000000          0.554588  \n",
       "shelley-last-man                      0.554588          1.000000  "
      ]
     },
     "execution_count": 13,
     "metadata": {},
     "output_type": "execute_result"
    }
   ],
   "source": [
    "from itertools import combinations\n",
    "from collections import defaultdict\n",
    "\n",
    "import pandas as pd\n",
    "\n",
    "M = defaultdict(dict)\n",
    "for authorA, authorB in combinations(texts.keys(), 2):\n",
    "    index = jaccard_multi(texts[authorA], texts[authorB])\n",
    "    M[authorA][authorB] = M[authorB][authorA] = index\n",
    "\n",
    "for author in texts:\n",
    "    M[author][author] = 1\n",
    "\n",
    "df = pd.DataFrame.from_dict(M)\n",
    "df = df.sort_index()\n",
    "df = df.reindex(sorted(df.columns), axis=1)\n",
    "\n",
    "df"
   ]
  },
  {
   "cell_type": "markdown",
   "metadata": {},
   "source": [
    "If you would like to see a visualization of the above matrix in form of a <i>heatmap</i>\n",
    "install the seaborn library via `pip install seaborn --user` (or `pip3 install seaborn --user`, depending on your system). "
   ]
  },
  {
   "cell_type": "code",
   "execution_count": 23,
   "metadata": {},
   "outputs": [
    {
     "data": {
      "image/png": "[encoded data removed]",
      "text/plain": [
       "<Figure size 600x400 with 2 Axes>"
      ]
     },
     "metadata": {
      "needs_background": "light"
     },
     "output_type": "display_data"
    }
   ],
   "source": [
    "import matplotlib.pyplot as plt\n",
    "import seaborn as sns\n",
    "plt.figure(dpi=100)\n",
    "sns.heatmap(df)\n",
    "pass"
   ]
  },
  {
   "cell_type": "markdown",
   "metadata": {},
   "source": [
    "<h2>Interpreting the result</h2>\n",
    "\n",
    "Our data analysis would not be complete without a final analysis of our findings!\n",
    "Answer the following questions in writing. Explain briefly how you came to your conclusion. \n",
    "\n",
    "<div class=\"task\">\n",
    "  <div>5)</div>\n",
    "  <div> \n",
    "      Which pair of distinct texts is <b>most similar</b> according to your analysis?\n",
    "    </div>\n",
    "</div>"
   ]
  },
  {
   "cell_type": "markdown",
   "metadata": {},
   "source": [
    "<div style=\"text-align: center; margin: 3em\">Lewis Carroll's <i>'Alice in Wonderland'</i> and <i>'Through the Looking Glass'</i> with a Jaccard Index of 0.607.</div>\n",
    "<div style=\"text-align: center; margin: 3em\">The most similar two texts by different authors is Franz Kafka's <i>'The Trial'</i> and Lewis Carroll's<i>'Through the Looking Glass'</i> with a Jaccard Index of 0.451954.</div>"
   ]
  },
  {
   "cell_type": "markdown",
   "metadata": {},
   "source": [
    "<div class=\"task\">\n",
    "  <div>6)</div>\n",
    "  <div> \n",
    "      Which pair of texts is <b>most dissimilar</b> according to your analysis?\n",
    "    </div>\n",
    "</div>"
   ]
  },
  {
   "cell_type": "markdown",
   "metadata": {},
   "source": [
    "<div style=\"text-align: center; margin: 3em\">H.P. Lovecraft's <i>'The Shunned House'</i> and Charlotte Perkins Gilman's <i>'The Yellow Wallpaper'</i> with a Jaccard Index of 0.238.</div>"
   ]
  },
  {
   "cell_type": "markdown",
   "metadata": {},
   "source": [
    "<div class=\"task\">\n",
    "  <div>7)</div>\n",
    "  <div> \n",
    "      Which <b>author</b> has the highest similarity between their two respective texts?\n",
    "    </div>\n",
    "</div>"
   ]
  },
  {
   "cell_type": "markdown",
   "metadata": {},
   "source": [
    "<div style=\"text-align: center; margin: 3em\">Lewis Carroll</div>"
   ]
  },
  {
   "cell_type": "markdown",
   "metadata": {},
   "source": [
    "As always with exploratory data analysis, we need to think about what we could potentially do better.\n",
    "\n",
    "<div class=\"task\">\n",
    "  <div>8)</div>\n",
    "  <div> \n",
    "      Propose <b>three</b> ways in which you think this data analysis could be changed \n",
    "      to improve it. Provide a rough sketch of what change you would apply and how you \n",
    "      think it will change the outcome of the analysis.    \n",
    "  </div>\n",
    "</div>"
   ]
  },
  {
   "cell_type": "markdown",
   "metadata": {},
   "source": [
    "<div style=\"text-align: left\"><h3>1: Remove common words:</h3></div>\n",
    "I propose removing the (25-30) most common words, as these would be in every english language book.  My college text books could have some similarity to J.R.R. Tolkien's vast books using the surrent system, but they only really share the english language.\n",
    "<div style=\"text-align: left\"><h3>2: Sentence length:</h3></div>\n",
    "I propose iterating through the texts and creating a multi-set of all sentence lengths.  This will assess how descriptive an author is, or isn't.  A Jaccard index of this could be combined with the current one and converted to an average/mean\n",
    "<div style=\"text-align: left\"><h3>3: Non-dictionary words:</h3></div>\n",
    "I propose calculating a ratio of the amount of non-dictionary words to dictionary words.  The reason for this is that books that are of a fantasy/sci-fi nature tend to have many words created by the author and would be considered similar to other authors books, but not have that many similar words.  Take the Harry Potter and Discworld series as an example.  This would need access to a english dictionary so may not be very practical."
   ]
  },
  {
   "cell_type": "code",
   "execution_count": null,
   "metadata": {},
   "outputs": [],
   "source": []
  }
 ],
 "metadata": {
  "kernelspec": {
   "display_name": "Python 3",
   "language": "python",
   "name": "python3"
  },
  "language_info": {
   "codemirror_mode": {
    "name": "ipython",
    "version": 3
   },
   "file_extension": ".py",
   "mimetype": "text/x-python",
   "name": "python",
   "nbconvert_exporter": "python",
   "pygments_lexer": "ipython3",
   "version": "3.6.5"
  }
 },
 "nbformat": 4,
 "nbformat_minor": 2
}
